{
 "cells": [
  {
   "cell_type": "markdown",
   "metadata": {},
   "source": [
    "# Onc vs chRCC with hyperparameter tuning\n",
    "\n",
    "Code slightly altered from xgboost.ipynb, which trains the main XGBoost model.\n",
    "\n"
   ]
  },
  {
   "cell_type": "code",
   "execution_count": 1,
   "metadata": {},
   "outputs": [],
   "source": [
    "path='../'"
   ]
  },
  {
   "cell_type": "markdown",
   "metadata": {},
   "source": [
    "### First make sample number barplots"
   ]
  },
  {
   "cell_type": "code",
   "execution_count": 142,
   "metadata": {},
   "outputs": [
    {
     "name": "stderr",
     "output_type": "stream",
     "text": [
      "/home/in268/.local/lib/python3.7/site-packages/ipykernel_launcher.py:3: SettingWithCopyWarning: \n",
      "A value is trying to be set on a copy of a slice from a DataFrame\n",
      "\n",
      "See the caveats in the documentation: https://pandas.pydata.org/pandas-docs/stable/user_guide/indexing.html#returning-a-view-versus-a-copy\n",
      "  This is separate from the ipykernel package so we can avoid doing imports until\n",
      "/home/in268/.local/lib/python3.7/site-packages/ipykernel_launcher.py:4: SettingWithCopyWarning: \n",
      "A value is trying to be set on a copy of a slice from a DataFrame\n",
      "\n",
      "See the caveats in the documentation: https://pandas.pydata.org/pandas-docs/stable/user_guide/indexing.html#returning-a-view-versus-a-copy\n",
      "  after removing the cwd from sys.path.\n",
      "/home/in268/.local/lib/python3.7/site-packages/ipykernel_launcher.py:5: SettingWithCopyWarning: \n",
      "A value is trying to be set on a copy of a slice from a DataFrame\n",
      "\n",
      "See the caveats in the documentation: https://pandas.pydata.org/pandas-docs/stable/user_guide/indexing.html#returning-a-view-versus-a-copy\n",
      "  \"\"\"\n"
     ]
    },
    {
     "data": {
      "text/html": [
       "<div>\n",
       "<style scoped>\n",
       "    .dataframe tbody tr th:only-of-type {\n",
       "        vertical-align: middle;\n",
       "    }\n",
       "\n",
       "    .dataframe tbody tr th {\n",
       "        vertical-align: top;\n",
       "    }\n",
       "\n",
       "    .dataframe thead th {\n",
       "        text-align: right;\n",
       "    }\n",
       "</style>\n",
       "<table border=\"1\" class=\"dataframe\">\n",
       "  <thead>\n",
       "    <tr style=\"text-align: right;\">\n",
       "      <th></th>\n",
       "      <th>pooled_labels</th>\n",
       "      <th>Source</th>\n",
       "    </tr>\n",
       "  </thead>\n",
       "  <tbody>\n",
       "    <tr>\n",
       "      <th>60</th>\n",
       "      <td>3.0</td>\n",
       "      <td>Chopra train</td>\n",
       "    </tr>\n",
       "    <tr>\n",
       "      <th>61</th>\n",
       "      <td>3.0</td>\n",
       "      <td>Chopra train</td>\n",
       "    </tr>\n",
       "    <tr>\n",
       "      <th>62</th>\n",
       "      <td>3.0</td>\n",
       "      <td>Chopra train</td>\n",
       "    </tr>\n",
       "    <tr>\n",
       "      <th>63</th>\n",
       "      <td>3.0</td>\n",
       "      <td>Chopra train</td>\n",
       "    </tr>\n",
       "    <tr>\n",
       "      <th>64</th>\n",
       "      <td>3.0</td>\n",
       "      <td>Chopra train</td>\n",
       "    </tr>\n",
       "    <tr>\n",
       "      <th>...</th>\n",
       "      <td>...</td>\n",
       "      <td>...</td>\n",
       "    </tr>\n",
       "    <tr>\n",
       "      <th>1254</th>\n",
       "      <td>3.0</td>\n",
       "      <td>Cambridge</td>\n",
       "    </tr>\n",
       "    <tr>\n",
       "      <th>1255</th>\n",
       "      <td>2.0</td>\n",
       "      <td>Cambridge</td>\n",
       "    </tr>\n",
       "    <tr>\n",
       "      <th>1257</th>\n",
       "      <td>2.0</td>\n",
       "      <td>Cambridge</td>\n",
       "    </tr>\n",
       "    <tr>\n",
       "      <th>1260</th>\n",
       "      <td>2.0</td>\n",
       "      <td>Cambridge</td>\n",
       "    </tr>\n",
       "    <tr>\n",
       "      <th>1262</th>\n",
       "      <td>2.0</td>\n",
       "      <td>Cambridge</td>\n",
       "    </tr>\n",
       "  </tbody>\n",
       "</table>\n",
       "<p>121 rows × 2 columns</p>\n",
       "</div>"
      ],
      "text/plain": [
       "      pooled_labels        Source\n",
       "60              3.0  Chopra train\n",
       "61              3.0  Chopra train\n",
       "62              3.0  Chopra train\n",
       "63              3.0  Chopra train\n",
       "64              3.0  Chopra train\n",
       "...             ...           ...\n",
       "1254            3.0     Cambridge\n",
       "1255            2.0     Cambridge\n",
       "1257            2.0     Cambridge\n",
       "1260            2.0     Cambridge\n",
       "1262            2.0     Cambridge\n",
       "\n",
       "[121 rows x 2 columns]"
      ]
     },
     "execution_count": 142,
     "metadata": {},
     "output_type": "execute_result"
    },
    {
     "data": {
      "text/html": [
       "<div>\n",
       "<style scoped>\n",
       "    .dataframe tbody tr th:only-of-type {\n",
       "        vertical-align: middle;\n",
       "    }\n",
       "\n",
       "    .dataframe tbody tr th {\n",
       "        vertical-align: top;\n",
       "    }\n",
       "\n",
       "    .dataframe thead th {\n",
       "        text-align: right;\n",
       "    }\n",
       "</style>\n",
       "<table border=\"1\" class=\"dataframe\">\n",
       "  <thead>\n",
       "    <tr style=\"text-align: right;\">\n",
       "      <th></th>\n",
       "      <th>pooled_labels</th>\n",
       "      <th>Source</th>\n",
       "      <th>0</th>\n",
       "    </tr>\n",
       "  </thead>\n",
       "  <tbody>\n",
       "    <tr>\n",
       "      <th>0</th>\n",
       "      <td>2.0</td>\n",
       "      <td>TCGA</td>\n",
       "      <td>66</td>\n",
       "    </tr>\n",
       "    <tr>\n",
       "      <th>1</th>\n",
       "      <td>2.0</td>\n",
       "      <td>Cambridge</td>\n",
       "      <td>27</td>\n",
       "    </tr>\n",
       "    <tr>\n",
       "      <th>2</th>\n",
       "      <td>3.0</td>\n",
       "      <td>Cambridge</td>\n",
       "      <td>21</td>\n",
       "    </tr>\n",
       "    <tr>\n",
       "      <th>3</th>\n",
       "      <td>3.0</td>\n",
       "      <td>Chopra train</td>\n",
       "      <td>7</td>\n",
       "    </tr>\n",
       "  </tbody>\n",
       "</table>\n",
       "</div>"
      ],
      "text/plain": [
       "   pooled_labels        Source   0\n",
       "0            2.0          TCGA  66\n",
       "1            2.0     Cambridge  27\n",
       "2            3.0     Cambridge  21\n",
       "3            3.0  Chopra train   7"
      ]
     },
     "execution_count": 142,
     "metadata": {},
     "output_type": "execute_result"
    }
   ],
   "source": [
    "to_plot = diagnoses\n",
    "to_plot['Source'] = ''\n",
    "to_plot['Source'][to_plot['colname'].str.contains('_R')] = 'Chopra train' # Chopra train\n",
    "to_plot['Source'][to_plot['colname'].str.contains('TCGA')] = 'TCGA' # TCGA\n",
    "to_plot['Source'][np.logical_not(to_plot['colname'].str.contains('TCGA|_R'))] = 'Cambridge' # Cambridge\n",
    "to_plot = to_plot[['pooled_labels', 'Source']]\n",
    "to_plot\n",
    "to_plot = to_plot.value_counts().reset_index()\n",
    "to_plot"
   ]
  },
  {
   "cell_type": "code",
   "execution_count": 146,
   "metadata": {},
   "outputs": [
    {
     "name": "stderr",
     "output_type": "stream",
     "text": [
      "/home/in268/.local/lib/python3.7/site-packages/ipykernel_launcher.py:9: SettingWithCopyWarning: \n",
      "A value is trying to be set on a copy of a slice from a DataFrame\n",
      "\n",
      "See the caveats in the documentation: https://pandas.pydata.org/pandas-docs/stable/user_guide/indexing.html#returning-a-view-versus-a-copy\n",
      "  if __name__ == '__main__':\n",
      "/home/in268/.local/lib/python3.7/site-packages/ipykernel_launcher.py:10: SettingWithCopyWarning: \n",
      "A value is trying to be set on a copy of a slice from a DataFrame\n",
      "\n",
      "See the caveats in the documentation: https://pandas.pydata.org/pandas-docs/stable/user_guide/indexing.html#returning-a-view-versus-a-copy\n",
      "  # Remove the CWD from sys.path while we load stuff.\n",
      "/home/in268/.local/lib/python3.7/site-packages/ipykernel_launcher.py:11: SettingWithCopyWarning: \n",
      "A value is trying to be set on a copy of a slice from a DataFrame\n",
      "\n",
      "See the caveats in the documentation: https://pandas.pydata.org/pandas-docs/stable/user_guide/indexing.html#returning-a-view-versus-a-copy\n",
      "  # This is added back by InteractiveShellApp.init_path()\n"
     ]
    },
    {
     "data": {
      "text/html": [
       "<div>\n",
       "<style scoped>\n",
       "    .dataframe tbody tr th:only-of-type {\n",
       "        vertical-align: middle;\n",
       "    }\n",
       "\n",
       "    .dataframe tbody tr th {\n",
       "        vertical-align: top;\n",
       "    }\n",
       "\n",
       "    .dataframe thead th {\n",
       "        text-align: right;\n",
       "    }\n",
       "</style>\n",
       "<table border=\"1\" class=\"dataframe\">\n",
       "  <thead>\n",
       "    <tr style=\"text-align: right;\">\n",
       "      <th></th>\n",
       "      <th>pooled_labels</th>\n",
       "      <th>Source</th>\n",
       "      <th>0</th>\n",
       "    </tr>\n",
       "  </thead>\n",
       "  <tbody>\n",
       "    <tr>\n",
       "      <th>0</th>\n",
       "      <td>2.0</td>\n",
       "      <td>TCGA</td>\n",
       "      <td>66</td>\n",
       "    </tr>\n",
       "    <tr>\n",
       "      <th>1</th>\n",
       "      <td>3.0</td>\n",
       "      <td>Chopra train</td>\n",
       "      <td>37</td>\n",
       "    </tr>\n",
       "    <tr>\n",
       "      <th>2</th>\n",
       "      <td>2.0</td>\n",
       "      <td>Cambridge</td>\n",
       "      <td>27</td>\n",
       "    </tr>\n",
       "    <tr>\n",
       "      <th>3</th>\n",
       "      <td>3.0</td>\n",
       "      <td>Cambridge</td>\n",
       "      <td>21</td>\n",
       "    </tr>\n",
       "  </tbody>\n",
       "</table>\n",
       "</div>"
      ],
      "text/plain": [
       "   pooled_labels        Source   0\n",
       "0            2.0          TCGA  66\n",
       "1            3.0  Chopra train  37\n",
       "2            2.0     Cambridge  27\n",
       "3            3.0     Cambridge  21"
      ]
     },
     "execution_count": 146,
     "metadata": {},
     "output_type": "execute_result"
    },
    {
     "data": {
      "text/plain": [
       "2.0    93\n",
       "3.0    58\n",
       "Name: pooled_labels, dtype: int64"
      ]
     },
     "execution_count": 146,
     "metadata": {},
     "output_type": "execute_result"
    },
    {
     "data": {
      "text/plain": [
       "<matplotlib.legend.Legend at 0x7f8cb8059150>"
      ]
     },
     "execution_count": 146,
     "metadata": {},
     "output_type": "execute_result"
    },
    {
     "data": {
      "image/png": "[encoded data removed]",
      "text/plain": [
       "<Figure size 432x288 with 1 Axes>"
      ]
     },
     "metadata": {},
     "output_type": "display_data"
    },
    {
     "data": {
      "text/plain": [
       "pathology\n",
       "2    14\n",
       "3    38\n",
       "Name: count, dtype: int64"
      ]
     },
     "execution_count": 146,
     "metadata": {},
     "output_type": "execute_result"
    },
    {
     "data": {
      "text/plain": [
       "<matplotlib.legend.Legend at 0x7f8cb4d090d0>"
      ]
     },
     "execution_count": 146,
     "metadata": {},
     "output_type": "execute_result"
    },
    {
     "data": {
      "image/png": "[encoded data removed]",
      "text/plain": [
       "<Figure size 432x288 with 1 Axes>"
      ]
     },
     "metadata": {},
     "output_type": "display_data"
    }
   ],
   "source": [
    "# do sample number barplot split by dataset\n",
    "diagnoses = pd.read_csv(path+'data/training_testing_diagnoses_maxgap_50_newdata.csv', sep = ',')\n",
    "diagnoses = diagnoses.iloc[2:, ] # remove two redundant rows\n",
    "diagnoses.loc[:, 'pooled_labels'] = [4 if d == 5 else d for d in diagnoses['overallpath']] # pool the papilary types\n",
    "diagnoses = diagnoses[diagnoses['overallpath'].isin([2, 3])]\n",
    "\n",
    "to_plot = diagnoses\n",
    "to_plot['Source'] = ''\n",
    "to_plot['Source'][to_plot['colname'].str.contains('_R')] = 'Chopra train' # Chopra train\n",
    "to_plot['Source'][to_plot['colname'].str.contains('TCGA')] = 'TCGA' # TCGA\n",
    "to_plot['Source'][np.logical_not(to_plot['colname'].str.contains('TCGA|_R'))] = 'Cambridge' # Cambridge\n",
    "to_plot = to_plot[['pooled_labels', 'Source']]\n",
    "\n",
    "to_plot = to_plot.value_counts().reset_index()\n",
    "\n",
    "to_plot\n",
    "\n",
    "import matplotlib.pyplot as plt\n",
    "import seaborn as sb\n",
    "sb.set(font_scale=1.4) \n",
    "sb.set_style(\"ticks\")\n",
    "\n",
    "bp = sb.barplot(data = to_plot, x = 'Source', order=['TCGA', 'Cambridge', 'Chopra train'], y=0, hue = 'pooled_labels', palette = [\"#000000\", \"#D55E00\"])\n",
    "\n",
    "# get legend labels with the total number of samples per class:\n",
    "ns = diagnoses['pooled_labels'].value_counts()\n",
    "ns\n",
    "labels_with_ns = ['chRCC (n=' + str(ns.loc[2]) + ')',\n",
    "                  'onc (n=' + str(ns.loc[3]) + ')'\n",
    "                 ]\n",
    "\n",
    "yl = plt.ylabel('Number of samples')\n",
    "xl = plt.xlabel('Dataset')\n",
    "handles = bp.get_legend_handles_labels()[0]\n",
    "bp.legend(handles = handles, labels=labels_with_ns)#, loc='best', bbox_to_anchor=(0.7, -0.05, 0.25, 1))\n",
    "\n",
    "plt.savefig('figs_hyperparameter_tuning/number_of_samples_barplot_separate_datasets.svg', bbox_inches='tight')\n",
    "plt.show()\n",
    "\n",
    "# now for external validation barplot:\n",
    "\n",
    "diagnoses_chopra = pd.read_csv(path+'data/Chopra_external/preprocessed_validation_pdata.testing_diagnoses.csv')\n",
    "mapping = {'Normal': 0, 'KIRC': 1, 'KICH': 2, 'oncocytoma': 3, 'KIRP': 4, 'normal': 0, 'Other': 5}\n",
    "diagnoses_chopra['overallpath'] = [mapping[l] for l in diagnoses_chopra['label']]\n",
    "diagnoses_chopra = diagnoses_chopra[diagnoses_chopra['overallpath'].isin([2, 3])]\n",
    "\n",
    "diagnoses_brennan = pd.read_csv(path+'data/Brennandata/preprocessed_validation_diagnoses.csv')\n",
    "mapping = {'Normal kidney parenchyma': 0, 'Clear cell RCC': 1, 'RCC-Chromophobe': 2, 'Oncocytoma': 3}\n",
    "diagnoses_brennan['overallpath'] = [mapping[l] for l in diagnoses_brennan['Sample_Type']]\n",
    "diagnoses_brennan = diagnoses_brennan[diagnoses_brennan['overallpath'].isin([2, 3])]\n",
    "\n",
    "diagnoses_chopra = pd.DataFrame(diagnoses_chopra['overallpath'].value_counts())\n",
    "diagnoses_chopra['Source'] = 'Chopra validation'\n",
    "diagnoses_brennan = pd.DataFrame(diagnoses_brennan['overallpath'].value_counts())\n",
    "diagnoses_brennan['Source'] = 'Brennan'\n",
    "\n",
    "\n",
    "to_plot = diagnoses_chopra.append(diagnoses_brennan)\n",
    "to_plot['pathology'] = to_plot.index\n",
    "to_plot.columns = ['count', 'Source', 'pathology']\n",
    "\n",
    "# get labels for legend that give number of samples in each class\n",
    "ns = to_plot.groupby('pathology').sum()['count']\n",
    "ns\n",
    "labels_with_ns = ['chRCC (n=' + str(ns.loc[2]) + ')',\n",
    "                  'onc (n=' + str(ns.loc[3]) + ')'\n",
    "                 ]\n",
    "\n",
    "import matplotlib.pyplot as plt\n",
    "import seaborn as sb\n",
    "bp = sb.barplot(data = to_plot, x = 'Source', y= 'count', hue = 'pathology', palette = [ \"#000000\", \"#D55E00\"])\n",
    "           \n",
    "yl = plt.ylabel('Number of samples')\n",
    "xl = plt.xlabel('Dataset')\n",
    "handles = bp.get_legend_handles_labels()[0]\n",
    "bp.legend(handles = handles, labels=labels_with_ns, loc='upper right')#, bbox_to_anchor=(0.28, 0., 0.25, 1))\n",
    "\n",
    "plt.savefig('validation_results/number_of_samples_barplot.svg', bbox_inches='tight')\n"
   ]
  },
  {
   "cell_type": "markdown",
   "metadata": {},
   "source": [
    "### Data and training functions"
   ]
  },
  {
   "cell_type": "code",
   "execution_count": 2,
   "metadata": {},
   "outputs": [],
   "source": [
    "import pandas as pd\n",
    "import numpy as np\n",
    "\n",
    "# returns data and labels, ready to be put into a model\n",
    "# for now, generates dummy data\n",
    "def get_data():\n",
    "    # read in diagnoses and get pooled_labels and patient ids\n",
    "    diagnoses = pd.read_csv(path+'data/training_testing_diagnoses_maxgap_50_newdata.csv', sep = ',')\n",
    "    \n",
    "    beta_array = pd.read_csv(path+'data/training_testing_maxgap_50_newdata.csv')\n",
    "    seqnames = beta_array['seqnames']\n",
    "    start = beta_array['start']\n",
    "    colnames = beta_array.columns[2:]\n",
    "    raw_data = np.array(beta_array.iloc[:, 2:])\n",
    "    raw_data = np.transpose(raw_data)\n",
    "                      \n",
    "    return(raw_data, seqnames, start, colnames, diagnoses)\n",
    "\n",
    "# getting dummy data: (if you want to test things, this data is very quick to run)\n",
    "def get_dummy_data():\n",
    "    # read in diagnoses and get pooled_labels and patient ids\n",
    "    diagnoses = pd.read_csv(path+'data/training_testing_diagnoses_maxgap_50_newdata.csv', sep = ',')\n",
    "    \n",
    "    # create raw data between 0 and 1: (like beta value)\n",
    "    means = diagnoses.iloc[2:]['overallpath']\n",
    "    raw_data = [np.random.normal(mean/10, 0.05, 10) for mean in means]\n",
    "    raw_data = np.abs(raw_data)\n",
    "    raw_data = np.array([[1 if n > 1 else n for n in r] for r in raw_data])\n",
    "    \n",
    "    return(raw_data, diagnoses)"
   ]
  },
  {
   "cell_type": "code",
   "execution_count": 3,
   "metadata": {},
   "outputs": [],
   "source": [
    "def preproc_diagnoses(diagnoses):\n",
    "    diagnoses = diagnoses.iloc[2:, ] # remove two redundant rows\n",
    "    diagnoses.loc[:, 'pooled_labels'] = [4 if d == 5 else d for d in diagnoses['overallpath']] # pool the papilary types\n",
    "    \n",
    "    diagnoses.loc[:, 'patient_id'] = list(map(lambda s: s[0], diagnoses['colname'].str.split('.'))) # get before '.' for all samples\n",
    "    diagnoses.loc[:, 'patient_id'] = np.where(diagnoses['colname'].str.contains('TCGA|R'), np.nan, diagnoses['patient_id']) # filter out TCGA and chopra\n",
    "    # replace nans with unique ids:\n",
    "    unique_ids = range(diagnoses['patient_id'].isna().sum()) # in integers\n",
    "    diagnoses.loc[diagnoses['patient_id'].isna(), 'patient_id'] = unique_ids\n",
    "    \n",
    "    labels = np.array(diagnoses['pooled_labels']).astype('int')\n",
    "    \n",
    "    # create names for the 5 classes\n",
    "    class_mapping = {0:'normal', 1:'ccRCC', 2:'chRCC', 3:'onc', 4:'prccT1andT2'}\n",
    "    classes = [0,1,2,3,4]\n",
    "    classes = [class_mapping[l] for l in classes]\n",
    "    \n",
    "    return(diagnoses, labels, classes)"
   ]
  },
  {
   "cell_type": "code",
   "execution_count": 4,
   "metadata": {},
   "outputs": [],
   "source": [
    "# given m values, removes Inf and -Inf which are caused by a beta value of 1 and 0\n",
    "def deal_with_Inf(m_values_mat):\n",
    "    # I will set -Inf to the min value and Inf to the max value\n",
    "    # I did want to set it to the min and max possible value, but this causes overflow errors\n",
    "    max_val = np.nanmax(m_values_mat[np.logical_not(np.isinf(m_values_mat))]) # looking at m values that arn't Inf\n",
    "    min_val = np.nanmin(m_values_mat[np.logical_not(np.isinf(m_values_mat))]) \n",
    "    \n",
    "    print('min and max vals are ', min_val, max_val)\n",
    "    indices = np.argwhere(np.isinf(m_values_mat)) # where m values is +/- Inf\n",
    "    for i in range(len(indices)):\n",
    "        if m_values_mat[indices[i][0], indices[i][1]] > 0:\n",
    "            m_values_mat[indices[i][0], indices[i][1]] = max_val\n",
    "        else:\n",
    "            m_values_mat[indices[i][0], indices[i][1]] = min_val\n",
    "    return m_values_mat\n",
    "\n",
    "\n",
    "# turn beta values into m values, deal with infinite values\n",
    "def preproc_data(data, seqnames, start, colnames):\n",
    "    # turn into m values\n",
    "    m_vals = np.log2((data)/(1-data)) # this will result in inf and -infs!\n",
    "    \n",
    "    # deal with infinite values\n",
    "    m_vals = deal_with_Inf(m_vals)\n",
    "    \n",
    "    print('mean of data is ', np.nanmean(m_vals))\n",
    "    \n",
    "    return(m_vals)\n",
    "    "
   ]
  },
  {
   "cell_type": "code",
   "execution_count": 5,
   "metadata": {},
   "outputs": [],
   "source": [
    "# gets train and test arrays and labels\n",
    "# assumes data is a numpy array\n",
    "def get_train_test(data, labels, train_indices, test_indices):\n",
    "    train_x = data[train_indices, :]\n",
    "    test_x = data[test_indices, :]\n",
    "    train_y = labels[train_indices]\n",
    "    test_y = labels[test_indices]\n",
    "    return(train_x, test_x, train_y, test_y)\n"
   ]
  },
  {
   "cell_type": "code",
   "execution_count": 6,
   "metadata": {},
   "outputs": [],
   "source": [
    "# functions to save xgboost evaluation results when training (called in function objective)\n",
    "import os\n",
    "def get_evals_result_name():\n",
    "    nums = set(os.listdir('figs_hyperparameter_tuning/evals_results/')) - set(['.ipynb_checkpoints'])\n",
    "    if nums == set():\n",
    "        return('1')\n",
    "    nums = [int(n) for n in nums]\n",
    "    name = max(nums) + 1\n",
    "    return(str(name))\n",
    "\n",
    "import matplotlib.pyplot as plt\n",
    "def plot_losses(losses, name):\n",
    "    train_losses = losses['validation_0']['mlogloss']\n",
    "    test_losses = losses['validation_1']['mlogloss']\n",
    "    plt.figure(figsize = (10, 10))\n",
    "    train_h = plt.scatter(range(len(train_losses)), train_losses, s = 1)\n",
    "    test_h = plt.scatter(range(len(test_losses)), test_losses, s = 1)\n",
    "    plt.legend(handles = [train_h, test_h], labels = ['train', 'test'])\n"
   ]
  },
  {
   "cell_type": "code",
   "execution_count": 7,
   "metadata": {},
   "outputs": [],
   "source": [
    "# I tried 0.1 noise, but it wasn't enough to stop a perfect train score.\n",
    "def add_noise(data, var = 0.2):\n",
    "    noise = np.random.normal(0, var, data.shape)\n",
    "    m_vals_with_noise = data + noise\n",
    "    return(m_vals_with_noise)"
   ]
  },
  {
   "cell_type": "code",
   "execution_count": 8,
   "metadata": {},
   "outputs": [],
   "source": [
    "# given some params, does the inner cross validation and returns the mean loss over all folds\n",
    "import xgboost as xgb\n",
    "from sklearn.metrics import log_loss, matthews_corrcoef\n",
    "import pickle\n",
    "def objective(params, train_x, train_y, inner_folds, train_weights):\n",
    "    \n",
    "    print('params is', params)\n",
    "    \n",
    "    losses = []\n",
    "    for inner_train_indices, inner_test_indices in inner_folds: # loop through inner folds\n",
    "        inner_train_x, inner_test_x, inner_train_y, inner_test_y = get_train_test(train_x, train_y, inner_train_indices, inner_test_indices) \n",
    "        inner_train_weights = train_weights[inner_train_indices]\n",
    "        \n",
    "        # add noise to training data\n",
    "        inner_train_x = add_noise(inner_train_x)\n",
    "\n",
    "        # subset so just chRCC and onc\n",
    "        samples_to_take = np.isin(inner_train_y, [2, 3])\n",
    "        inner_train_x = inner_train_x[samples_to_take]\n",
    "        inner_train_y=inner_train_y[samples_to_take]\n",
    "        inner_train_weights=inner_train_weights[samples_to_take]\n",
    "        \n",
    "        samples_to_take_test = np.isin(inner_test_y, [2, 3])\n",
    "        inner_test_x=inner_test_x[samples_to_take_test]\n",
    "        inner_test_y=inner_test_y[samples_to_take_test]\n",
    "        \n",
    "        # also put labels in 0, 1 format (rather than 2, 3)\n",
    "        inner_train_y = (inner_train_y - 2).astype(int)\n",
    "        inner_test_y = (inner_test_y - 2).astype(int)\n",
    "        \n",
    "        # train xgboost on inner train\n",
    "        model = xgb.XGBClassifier(**params, objective = 'binary:logistic', subsample = 0.5, colsample_bytree = 0.5)\n",
    "        early_stopping_num = 5 # with early stopping\n",
    "        model.fit(inner_train_x, inner_train_y, sample_weight = inner_train_weights, eval_set=[(inner_train_x, inner_train_y), (inner_test_x, inner_test_y)], eval_metric=['logloss'], early_stopping_rounds = early_stopping_num)\n",
    "        \n",
    "        # test model on inner test\n",
    "        predictions = model.predict(inner_test_x)\n",
    "        print('predictions are ', predictions)\n",
    "        # return scores\n",
    "        mcc = matthews_corrcoef(inner_test_y, predictions)\n",
    "        print('mcc is', mcc)\n",
    "        \n",
    "        losses.append(1-mcc)\n",
    "        \n",
    "        # print('fit a model')\n",
    "    print('Average loss (1-mcc) is ', np.mean(losses), ' for params ', str(params))\n",
    "    \n",
    "    return(np.mean(losses))\n",
    "\n",
    "    "
   ]
  },
  {
   "cell_type": "code",
   "execution_count": 9,
   "metadata": {},
   "outputs": [],
   "source": [
    "\n",
    "def retrain(params, train_x, train_y, train_weights):\n",
    "    params['n_estimators'] = int(params['n_estimators']) # need to be cast to int\n",
    "    params['max_depth'] = int(params['max_depth'])\n",
    "    \n",
    "    # add noise to training data\n",
    "    train_x = add_noise(train_x)\n",
    "    \n",
    "    samples_to_take = np.isin(train_y, [2, 3])\n",
    "    train_x = train_x[samples_to_take]\n",
    "    train_y=train_y[samples_to_take]\n",
    "    train_weights=train_weights[samples_to_take]\n",
    "    train_y = (train_y - 2).astype(int) # also put labels in 0, 1 format (rather than 2, 3)\n",
    "    \n",
    "    best_model = xgb.XGBClassifier(**params, objective = 'binary:logistic', subsample = 0.5, colsample_bytree = 0.5)\n",
    "    best_model.fit(train_x, train_y, sample_weight = train_weights)\n",
    "    return(best_model)"
   ]
  },
  {
   "cell_type": "code",
   "execution_count": 10,
   "metadata": {},
   "outputs": [],
   "source": [
    "import pickle\n",
    "import joblib\n",
    "import os\n",
    "# take all results from one outer fold, and all storage lists, and put them in the lists \n",
    "def append_results(i, best, best_params, bayes_trials, bayes_trials_hist, best_model, best_models, test_indices, test_indices_list):\n",
    "    best_params.append(best)\n",
    "    bayes_trials_hist.append(bayes_trials)\n",
    "    best_models.append(best_model)\n",
    "    test_indices_list.append(test_indices)\n",
    "    \n",
    "    # saving arrays. Will overwrite previous outerfolds so the saved version is always the latest version\n",
    "    pickle.dump(best_params, open('figs_hyperparameter_tuning/best_params.json', 'wb'))\n",
    "    pickle.dump(bayes_trials_hist, open('figs_hyperparameter_tuning/bayes_trials_hist.json', 'wb'))\n",
    "    pickle.dump(test_indices_list, open('figs_hyperparameter_tuning/test_indices_list.json', 'wb'))\n",
    "    \n",
    "    # saving latest model - make the dir if necessary and save latest model \n",
    "    if not ('xgboost_models') in os.listdir('figs_hyperparameter_tuning/'):\n",
    "        os.mkdir('figs_hyperparameter_tuning/xgboost_models')\n",
    "    joblib.dump(best_model, 'figs_hyperparameter_tuning/xgboost_models' + '/' + str(i) + '.pkl')\n",
    "\n",
    "    \n",
    "    return(best_params, bayes_trials_hist, best_models, test_indices_list)\n",
    "\n",
    "    "
   ]
  },
  {
   "cell_type": "code",
   "execution_count": 11,
   "metadata": {},
   "outputs": [],
   "source": [
    "from sklearn.metrics import matthews_corrcoef, accuracy_score, f1_score, confusion_matrix, precision_score, recall_score\n",
    "import sys\n",
    "sys.path.append('../')\n",
    "from Evaluate import plot_curve\n",
    "from Evaluate import plot_confusion_matrix\n",
    "\n",
    "# adds a score object to scores, which contains many metrics. Also saves confusion matrices, and roc and pr curves\n",
    "def append_scores(i, scores, test_y, test_predictions, test_predictions_prob, classes):\n",
    "    score_object = {}\n",
    "    \n",
    "    score_object['mcc'] = matthews_corrcoef(test_y, test_predictions)\n",
    "    score_object['acc'] = accuracy_score(test_y, test_predictions)\n",
    "    score_object['f1'] = f1_score(test_y, test_predictions, average = None)\n",
    "    score_object['conf_mat'] = confusion_matrix(test_y, test_predictions)\n",
    "    score_object['precision'] = precision_score(test_y, test_predictions, average = None)\n",
    "    score_object['recall'] = recall_score(test_y, test_predictions, average = None)\n",
    "        \n",
    "    # now plot pr and roc curves and save their areas\n",
    "    print('classes is ', classes)\n",
    "    colours = [\"#D55E00\", \"#CCBB44\"]\n",
    "    roc_auc = plot_curve('roc', test_y, test_predictions_prob, len(classes), classes, colours, str(i), save_folder = 'figs_hyperparameter_tuning/figs/')\n",
    "    pr_auc = plot_curve('precision_recall', test_y, test_predictions_prob, len(classes), classes, colours, str(i), save_folder = 'figs_hyperparameter_tuning/figs/')  \n",
    "    score_object['roc_auc'] = roc_auc\n",
    "    score_object['pr_auc'] = pr_auc\n",
    "    \n",
    "    scores.append(score_object)\n",
    "    \n",
    "    # and plotting confusion matrices\n",
    "    plot_confusion_matrix(confusion_matrix(test_y, test_predictions), 'onc_vs_chRCC_hyperparamtuning', save_path = 'figs_hyperparameter_tuning/figs/confusion_matrix_' + str(i) + '.svg', font_size = 36, cm_labels = classes)\n",
    "    if len(scores) == 4: # if we have done all iterations, save final summed confusion matrix\n",
    "        conf_mats = [scores[i]['conf_mat'] for i in range(4)]\n",
    "        plot_confusion_matrix(sum(conf_mats), 'onc_vs_chRCC_hyperparamtuning', save_path = 'figs_hyperparameter_tuning/figs/confusion_matrix_sum.svg', font_size = 36, cm_labels = classes)\n",
    "        \n",
    "    # now to save the scores\n",
    "    pickle.dump(scores, open('figs_hyperparameter_tuning/scores.json', 'wb'))\n",
    "    return(scores)\n",
    "    "
   ]
  },
  {
   "cell_type": "code",
   "execution_count": 12,
   "metadata": {},
   "outputs": [],
   "source": [
    "# make xgboost hyperparameter search space\n",
    "from hyperopt import hp\n",
    "import numpy as np\n",
    "from hyperopt.pyll.base import scope\n",
    "space = { # have restricted the n_estimators and max_depth to 500 and 5 to avoid overfitting\n",
    "#     'class_weight': hp.choice('class_weight', [None, 'balanced']), # add in weights??\n",
    "    'n_estimators': scope.int(hp.quniform('n_estimators', 50, 500, 1)),\n",
    "    'eta': hp.loguniform('eta', np.log(0.05), np.log(0.5)),\n",
    "    'max_depth': scope.int(hp.quniform('max_depth', 2, 3, 1)),\n",
    "    'reg_alpha': hp.uniform('alpha', 0.0, 1.0), # L1 regularisation\n",
    "    'reg_lambda': hp.uniform('lambda', 0.0, 1.0), # L2 regularisation\n",
    "}\n"
   ]
  },
  {
   "cell_type": "code",
   "execution_count": 13,
   "metadata": {},
   "outputs": [],
   "source": [
    "# setting it up to work in parallel\n",
    "# this is set up for jupyter notebook, but it seems to work when running in a python3 script too\n",
    "import os\n",
    "\n",
    "# trying this guide: https://opensource.com/article/18/11/pyspark-jupyter-notebook\n",
    "SPARK_HOME = \"/home/in268/.local/lib/python3.7/site-packages/pyspark\"\n",
    "os.environ[\"SPARK_HOME\"] = \"/home/in268/.local/lib/python3.7/site-packages/pyspark\"\n",
    "os.environ[\"PYTHONPATH\"]= SPARK_HOME + \"/python\"\n",
    "os.environ[\"PYSPARK_DRIVER_PYTHON\"] = \"jupyter\"\n",
    "os.environ[\"PYSPARK_DRIVER_PYTHON_OPTS\"] = \"notebook\"\n",
    "os.environ['PYSPARK_PYTHON'] = 'python3'\n",
    "os.environ['PATH'] = SPARK_HOME + ':' + os.environ['PATH'] + ':~/.local/bin:' + os.environ['JAVA_HOME'] + '/bin:' + os.environ['JAVA_HOME'] + '/jre/bin'\n",
    "\n",
    "from pyspark.sql import SparkSession\n",
    "\n",
    "# set max memory in spark sess\n",
    "spark_sess = SparkSession.builder.master('local[2]').config(\"spark.driver.memory\", \"60g\") .appName('my-cool-app').getOrCreate()\n",
    "\n"
   ]
  },
  {
   "cell_type": "code",
   "execution_count": 14,
   "metadata": {},
   "outputs": [
    {
     "name": "stdout",
     "output_type": "stream",
     "text": [
      "starting to set up\n"
     ]
    },
    {
     "name": "stderr",
     "output_type": "stream",
     "text": [
      "/home/in268/.local/lib/python3.7/site-packages/IPython/core/interactiveshell.py:3249: DtypeWarning: Columns (1) have mixed types.Specify dtype option on import or set low_memory=False.\n",
      "  if (await self.run_code(code, result,  async_=asy)):\n",
      "/home/in268/.local/lib/python3.7/site-packages/pandas/core/indexing.py:1596: SettingWithCopyWarning: \n",
      "A value is trying to be set on a copy of a slice from a DataFrame.\n",
      "Try using .loc[row_indexer,col_indexer] = value instead\n",
      "\n",
      "See the caveats in the documentation: https://pandas.pydata.org/pandas-docs/stable/user_guide/indexing.html#returning-a-view-versus-a-copy\n",
      "  self.obj[key] = _infer_fill_value(value)\n",
      "/home/in268/.local/lib/python3.7/site-packages/pandas/core/indexing.py:1743: SettingWithCopyWarning: \n",
      "A value is trying to be set on a copy of a slice from a DataFrame.\n",
      "Try using .loc[row_indexer,col_indexer] = value instead\n",
      "\n",
      "See the caveats in the documentation: https://pandas.pydata.org/pandas-docs/stable/user_guide/indexing.html#returning-a-view-versus-a-copy\n",
      "  isetter(ilocs[0], value)\n",
      "/home/in268/.local/lib/python3.7/site-packages/ipykernel_launcher.py:21: RuntimeWarning: divide by zero encountered in true_divide\n",
      "/home/in268/.local/lib/python3.7/site-packages/ipykernel_launcher.py:21: RuntimeWarning: divide by zero encountered in log2\n"
     ]
    },
    {
     "name": "stdout",
     "output_type": "stream",
     "text": [
      "min and max vals are  -12.475986690870657 11.321364432039529\n",
      "mean of data is  -2.2063126209584643\n"
     ]
    },
    {
     "data": {
      "text/plain": [
       "(1228, 158670)"
      ]
     },
     "execution_count": 14,
     "metadata": {},
     "output_type": "execute_result"
    },
    {
     "name": "stdout",
     "output_type": "stream",
     "text": [
      "Should be empty sets if no patient overlaps:\n",
      "set()\n",
      "set()\n",
      "set()\n",
      "set()\n"
     ]
    },
    {
     "data": {
      "image/png": "[encoded data removed]",
      "text/plain": [
       "<Figure size 360x288 with 1 Axes>"
      ]
     },
     "metadata": {
      "needs_background": "light"
     },
     "output_type": "display_data"
    },
    {
     "data": {
      "image/png": "[encoded data removed]",
      "text/plain": [
       "<Figure size 360x288 with 1 Axes>"
      ]
     },
     "metadata": {
      "needs_background": "light"
     },
     "output_type": "display_data"
    },
    {
     "data": {
      "image/png": "[encoded data removed]",
      "text/plain": [
       "<Figure size 360x288 with 1 Axes>"
      ]
     },
     "metadata": {
      "needs_background": "light"
     },
     "output_type": "display_data"
    }
   ],
   "source": [
    "# set up and getting data and outer folds\n",
    "from hyperopt import tpe, fmin, Trials, SparkTrials\n",
    "from functools import partial\n",
    "from get_train_weights import *\n",
    "from get_folds import *\n",
    "\n",
    "print('starting to set up')\n",
    "tpe_algorithm = tpe.suggest # hyperopt optimisation algorithm\n",
    "\n",
    "best_params = []\n",
    "bayes_trials_hist = []\n",
    "best_models = []\n",
    "test_indices_list = []\n",
    "\n",
    "scores = []\n",
    "\n",
    "# get data and preprocess\n",
    "data, seqnames, start, colnames, diagnoses = get_data()\n",
    "diagnoses, labels, classes = preproc_diagnoses(diagnoses)\n",
    "data = preproc_data(data, seqnames, start, colnames)\n",
    "\n",
    "data.shape\n",
    "\n",
    "outer_folds = get_folds(diagnoses, 4)\n",
    "check_folds(diagnoses, outer_folds)\n",
    "plot_split_barplots(labels, outer_folds)\n",
    "\n",
    "all_test_predictions = np.array([np.nan]*len(labels))"
   ]
  },
  {
   "cell_type": "code",
   "execution_count": 15,
   "metadata": {},
   "outputs": [
    {
     "data": {
      "text/plain": [
       "(1228, 158670)"
      ]
     },
     "execution_count": 15,
     "metadata": {},
     "output_type": "execute_result"
    }
   ],
   "source": [
    "data.shape"
   ]
  },
  {
   "cell_type": "code",
   "execution_count": 16,
   "metadata": {},
   "outputs": [
    {
     "name": "stdout",
     "output_type": "stream",
     "text": [
      "Should be 3 empty sets:\n"
     ]
    },
    {
     "data": {
      "text/plain": [
       "set()"
      ]
     },
     "execution_count": 16,
     "metadata": {},
     "output_type": "execute_result"
    },
    {
     "data": {
      "text/plain": [
       "set()"
      ]
     },
     "execution_count": 16,
     "metadata": {},
     "output_type": "execute_result"
    },
    {
     "data": {
      "text/plain": [
       "set()"
      ]
     },
     "execution_count": 16,
     "metadata": {},
     "output_type": "execute_result"
    }
   ],
   "source": [
    "# right do the outer folds have completely unique test sets?\n",
    "print('Should be 3 empty sets:')\n",
    "set(outer_folds[0][1]).intersection(outer_folds[1][1])\n",
    "set(outer_folds[0][1]).intersection(outer_folds[2][1])\n",
    "set(outer_folds[2][1]).intersection(outer_folds[3][1])\n"
   ]
  },
  {
   "cell_type": "code",
   "execution_count": 17,
   "metadata": {
    "scrolled": true
   },
   "outputs": [
    {
     "data": {
      "text/plain": [
       "(917, 100)"
      ]
     },
     "execution_count": 17,
     "metadata": {},
     "output_type": "execute_result"
    },
    {
     "data": {
      "text/plain": [
       "(311, 100)"
      ]
     },
     "execution_count": 17,
     "metadata": {},
     "output_type": "execute_result"
    },
    {
     "name": "stdout",
     "output_type": "stream",
     "text": [
      "should be 1 number in list:  [1.06912442]\n",
      "should be 1 number in list:  [1.19512195 1.19512195]\n",
      "should be 1 number in list:  [1.04545455]\n",
      "should be 1 number in list:  [1.12820513]\n",
      "should be 1 number in list:  [1.03153153 1.03153153]\n",
      "[ True  True  True  True  True]\n",
      "[ True  True  True  True  True]\n",
      "True\n",
      "True\n",
      "should be 1 number per class:\n",
      "[array([0.84516129]), array([0.63902439, 0.63902439, 0.63902439]), array([2.77878788]), array([4.7025641]), array([0.82612613])]\n",
      "should be the same number for each class:\n",
      "               combined_weight\n",
      "pooled_labels                 \n",
      "0.0                      183.4\n",
      "1.0                      183.4\n",
      "2.0                      183.4\n",
      "3.0                      183.4\n",
      "4.0                      183.4\n",
      "Should be empty sets if no patient overlaps:\n",
      "set()\n",
      "set()\n",
      "set()\n",
      "set()\n"
     ]
    },
    {
     "name": "stderr",
     "output_type": "stream",
     "text": [
      "../get_train_weights.py:70: RuntimeWarning: Mean of empty slice\n",
      "  c_1 = np.nanmean([res[0], res[1]], axis = 0)\n",
      "../get_train_weights.py:71: RuntimeWarning: Mean of empty slice\n",
      "  c_2 = np.nanmean([c_1, res[2]], axis = 0)\n",
      "../get_train_weights.py:72: RuntimeWarning: Mean of empty slice\n",
      "  c_3 = np.nanmean([c_2, res[3]], axis = 0)\n"
     ]
    },
    {
     "data": {
      "image/png": "[encoded data removed]",
      "text/plain": [
       "<Figure size 360x288 with 1 Axes>"
      ]
     },
     "metadata": {
      "needs_background": "light"
     },
     "output_type": "display_data"
    },
    {
     "data": {
      "image/png": "[encoded data removed]",
      "text/plain": [
       "<Figure size 360x288 with 1 Axes>"
      ]
     },
     "metadata": {
      "needs_background": "light"
     },
     "output_type": "display_data"
    },
    {
     "data": {
      "image/png": "[encoded data removed]",
      "text/plain": [
       "<Figure size 360x288 with 1 Axes>"
      ]
     },
     "metadata": {
      "needs_background": "light"
     },
     "output_type": "display_data"
    },
    {
     "name": "stdout",
     "output_type": "stream",
     "text": [
      "100%|██████████| 10/10 [00:11<00:00,  1.11s/trial, best loss: 0.24615929646301846]\n"
     ]
    },
    {
     "name": "stderr",
     "output_type": "stream",
     "text": [
      "Total Trials: 10: 10 succeeded, 0 failed, 0 cancelled.\n"
     ]
    },
    {
     "name": "stdout",
     "output_type": "stream",
     "text": [
      "classes is  ['chRCC', 'onc']\n"
     ]
    },
    {
     "data": {
      "text/plain": [
       "(924, 100)"
      ]
     },
     "execution_count": 17,
     "metadata": {},
     "output_type": "execute_result"
    },
    {
     "data": {
      "text/plain": [
       "(304, 100)"
      ]
     },
     "execution_count": 17,
     "metadata": {},
     "output_type": "execute_result"
    },
    {
     "name": "stdout",
     "output_type": "stream",
     "text": [
      "should be 1 number in list:  [1.07407407 1.07407407]\n",
      "should be 1 number in list:  [1.20833333 1.20833333]\n",
      "should be 1 number in list:  [1.06060606]\n",
      "should be 1 number in list:  [1.125]\n",
      "should be 1 number in list:  [1.03153153 1.03153153]\n",
      "[ True  True  True  True  True]\n",
      "[ True  True  True  True  True]\n",
      "True\n",
      "True\n",
      "should be 1 number per class:\n",
      "[array([0.85555556, 0.85555556]), array([0.64166667, 0.64166667]), array([2.8]), array([4.62]), array([0.83243243, 0.83243243])]\n",
      "should be the same number for each class:\n",
      "               combined_weight\n",
      "pooled_labels                 \n",
      "0.0                      184.8\n",
      "1.0                      184.8\n",
      "2.0                      184.8\n",
      "3.0                      184.8\n",
      "4.0                      184.8\n",
      "Should be empty sets if no patient overlaps:\n",
      "set()\n",
      "set()\n",
      "set()\n",
      "set()\n"
     ]
    },
    {
     "name": "stderr",
     "output_type": "stream",
     "text": [
      "../get_train_weights.py:70: RuntimeWarning: Mean of empty slice\n",
      "  c_1 = np.nanmean([res[0], res[1]], axis = 0)\n",
      "../get_train_weights.py:71: RuntimeWarning: Mean of empty slice\n",
      "  c_2 = np.nanmean([c_1, res[2]], axis = 0)\n",
      "../get_train_weights.py:72: RuntimeWarning: Mean of empty slice\n",
      "  c_3 = np.nanmean([c_2, res[3]], axis = 0)\n"
     ]
    },
    {
     "data": {
      "image/png": "[encoded data removed]",
      "text/plain": [
       "<Figure size 432x288 with 1 Axes>"
      ]
     },
     "metadata": {
      "needs_background": "light"
     },
     "output_type": "display_data"
    },
    {
     "data": {
      "image/png": "[encoded data removed]",
      "text/plain": [
       "<Figure size 360x288 with 1 Axes>"
      ]
     },
     "metadata": {},
     "output_type": "display_data"
    },
    {
     "data": {
      "image/png": "[encoded data removed]",
      "text/plain": [
       "<Figure size 360x288 with 1 Axes>"
      ]
     },
     "metadata": {},
     "output_type": "display_data"
    },
    {
     "data": {
      "image/png": "[encoded data removed]",
      "text/plain": [
       "<Figure size 360x288 with 1 Axes>"
      ]
     },
     "metadata": {},
     "output_type": "display_data"
    },
    {
     "name": "stdout",
     "output_type": "stream",
     "text": [
      "100%|██████████| 10/10 [00:11<00:00,  1.11s/trial, best loss: 0.2581250587357549]\n"
     ]
    },
    {
     "name": "stderr",
     "output_type": "stream",
     "text": [
      "Total Trials: 10: 10 succeeded, 0 failed, 0 cancelled.\n"
     ]
    },
    {
     "name": "stdout",
     "output_type": "stream",
     "text": [
      "classes is  ['chRCC', 'onc']\n"
     ]
    },
    {
     "data": {
      "text/plain": [
       "(928, 100)"
      ]
     },
     "execution_count": 17,
     "metadata": {},
     "output_type": "execute_result"
    },
    {
     "data": {
      "text/plain": [
       "(300, 100)"
      ]
     },
     "execution_count": 17,
     "metadata": {},
     "output_type": "execute_result"
    },
    {
     "name": "stdout",
     "output_type": "stream",
     "text": [
      "should be 1 number in list:  [1.07623318]\n",
      "should be 1 number in list:  [1.20557491 1.20557491 1.20557491]\n",
      "should be 1 number in list:  [1.06060606]\n",
      "should be 1 number in list:  [1.075]\n",
      "should be 1 number in list:  [1.03153153 1.03153153]\n",
      "[ True  True  True  True  True]\n",
      "[ True  True  True  True  True]\n",
      "True\n",
      "True\n",
      "should be 1 number per class:\n",
      "[array([0.832287]), array([0.6466899, 0.6466899, 0.6466899]), array([2.81212121, 2.81212121]), array([4.64]), array([0.83603604, 0.83603604])]\n",
      "should be the same number for each class:\n",
      "               combined_weight\n",
      "pooled_labels                 \n",
      "0.0                      185.6\n",
      "1.0                      185.6\n",
      "2.0                      185.6\n",
      "3.0                      185.6\n",
      "4.0                      185.6\n",
      "Should be empty sets if no patient overlaps:\n",
      "set()\n",
      "set()\n",
      "set()\n",
      "set()\n"
     ]
    },
    {
     "name": "stderr",
     "output_type": "stream",
     "text": [
      "../get_train_weights.py:70: RuntimeWarning: Mean of empty slice\n",
      "  c_1 = np.nanmean([res[0], res[1]], axis = 0)\n",
      "../get_train_weights.py:71: RuntimeWarning: Mean of empty slice\n",
      "  c_2 = np.nanmean([c_1, res[2]], axis = 0)\n",
      "../get_train_weights.py:72: RuntimeWarning: Mean of empty slice\n",
      "  c_3 = np.nanmean([c_2, res[3]], axis = 0)\n"
     ]
    },
    {
     "data": {
      "image/png": "[encoded data removed]",
      "text/plain": [
       "<Figure size 432x288 with 1 Axes>"
      ]
     },
     "metadata": {},
     "output_type": "display_data"
    },
    {
     "data": {
      "image/png": "[encoded data removed]",
      "text/plain": [
       "<Figure size 360x288 with 1 Axes>"
      ]
     },
     "metadata": {},
     "output_type": "display_data"
    },
    {
     "data": {
      "image/png": "[encoded data removed]",
      "text/plain": [
       "<Figure size 360x288 with 1 Axes>"
      ]
     },
     "metadata": {},
     "output_type": "display_data"
    },
    {
     "data": {
      "image/png": "[encoded data removed]",
      "text/plain": [
       "<Figure size 360x288 with 1 Axes>"
      ]
     },
     "metadata": {},
     "output_type": "display_data"
    },
    {
     "name": "stdout",
     "output_type": "stream",
     "text": [
      "100%|██████████| 10/10 [00:11<00:00,  1.11s/trial, best loss: 0.17485146200478419]\n"
     ]
    },
    {
     "name": "stderr",
     "output_type": "stream",
     "text": [
      "Total Trials: 10: 10 succeeded, 0 failed, 0 cancelled.\n"
     ]
    },
    {
     "name": "stdout",
     "output_type": "stream",
     "text": [
      "classes is  ['chRCC', 'onc']\n"
     ]
    },
    {
     "data": {
      "text/plain": [
       "(915, 100)"
      ]
     },
     "execution_count": 17,
     "metadata": {},
     "output_type": "execute_result"
    },
    {
     "data": {
      "text/plain": [
       "(313, 100)"
      ]
     },
     "execution_count": 17,
     "metadata": {},
     "output_type": "execute_result"
    },
    {
     "name": "stdout",
     "output_type": "stream",
     "text": [
      "should be 1 number in list:  [1.08411215]\n",
      "should be 1 number in list:  [1.21602787 1.21602787]\n",
      "should be 1 number in list:  [1.06060606]\n",
      "should be 1 number in list:  [1.05 1.05]\n",
      "should be 1 number in list:  [1.]\n",
      "[ True  True  True  True  True]\n",
      "[ True  True  True  True  True]\n",
      "True\n",
      "True\n",
      "should be 1 number per class:\n",
      "[array([0.85514019, 0.85514019]), array([0.63763066, 0.63763066]), array([2.77272727, 2.77272727]), array([4.575, 4.575]), array([0.82432432])]\n",
      "should be the same number for each class:\n",
      "               combined_weight\n",
      "pooled_labels                 \n",
      "0.0                      183.0\n",
      "1.0                      183.0\n",
      "2.0                      183.0\n",
      "3.0                      183.0\n",
      "4.0                      183.0\n",
      "Should be empty sets if no patient overlaps:\n",
      "set()\n",
      "set()\n",
      "set()\n",
      "set()\n"
     ]
    },
    {
     "name": "stderr",
     "output_type": "stream",
     "text": [
      "../get_train_weights.py:70: RuntimeWarning: Mean of empty slice\n",
      "  c_1 = np.nanmean([res[0], res[1]], axis = 0)\n",
      "../get_train_weights.py:71: RuntimeWarning: Mean of empty slice\n",
      "  c_2 = np.nanmean([c_1, res[2]], axis = 0)\n",
      "../get_train_weights.py:72: RuntimeWarning: Mean of empty slice\n",
      "  c_3 = np.nanmean([c_2, res[3]], axis = 0)\n"
     ]
    },
    {
     "data": {
      "image/png": "[encoded data removed]",
      "text/plain": [
       "<Figure size 432x288 with 1 Axes>"
      ]
     },
     "metadata": {},
     "output_type": "display_data"
    },
    {
     "data": {
      "image/png": "[encoded data removed]",
      "text/plain": [
       "<Figure size 360x288 with 1 Axes>"
      ]
     },
     "metadata": {},
     "output_type": "display_data"
    },
    {
     "data": {
      "image/png": "[encoded data removed]",
      "text/plain": [
       "<Figure size 360x288 with 1 Axes>"
      ]
     },
     "metadata": {},
     "output_type": "display_data"
    },
    {
     "data": {
      "image/png": "[encoded data removed]",
      "text/plain": [
       "<Figure size 360x288 with 1 Axes>"
      ]
     },
     "metadata": {},
     "output_type": "display_data"
    },
    {
     "name": "stdout",
     "output_type": "stream",
     "text": [
      "100%|██████████| 10/10 [00:11<00:00,  1.11s/trial, best loss: 0.2215366896876217]\n"
     ]
    },
    {
     "name": "stderr",
     "output_type": "stream",
     "text": [
      "Total Trials: 10: 10 succeeded, 0 failed, 0 cancelled.\n"
     ]
    },
    {
     "name": "stdout",
     "output_type": "stream",
     "text": [
      "classes is  ['chRCC', 'onc']\n"
     ]
    },
    {
     "ename": "ValueError",
     "evalue": "cannot convert float NaN to integer",
     "output_type": "error",
     "traceback": [
      "\u001b[0;31m---------------------------------------------------------------------------\u001b[0m",
      "\u001b[0;31mValueError\u001b[0m                                Traceback (most recent call last)",
      "\u001b[0;32m<ipython-input-17-327b3d917f1d>\u001b[0m in \u001b[0;36m<module>\u001b[0;34m\u001b[0m\n\u001b[1;32m     57\u001b[0m \u001b[0;34m\u001b[0m\u001b[0m\n\u001b[1;32m     58\u001b[0m \u001b[0;31m# and finally save all test predictions\u001b[0m\u001b[0;34m\u001b[0m\u001b[0;34m\u001b[0m\u001b[0;34m\u001b[0m\u001b[0m\n\u001b[0;32m---> 59\u001b[0;31m \u001b[0mnp\u001b[0m\u001b[0;34m.\u001b[0m\u001b[0msavetxt\u001b[0m\u001b[0;34m(\u001b[0m\u001b[0mfname\u001b[0m \u001b[0;34m=\u001b[0m  \u001b[0;34m'figs_hyperparameter_tuning/all_test_predictions'\u001b[0m\u001b[0;34m,\u001b[0m \u001b[0mX\u001b[0m \u001b[0;34m=\u001b[0m \u001b[0mall_test_predictions\u001b[0m\u001b[0;34m,\u001b[0m \u001b[0mfmt\u001b[0m \u001b[0;34m=\u001b[0m \u001b[0;34m\"%d\"\u001b[0m\u001b[0;34m)\u001b[0m\u001b[0;34m\u001b[0m\u001b[0;34m\u001b[0m\u001b[0m\n\u001b[0m",
      "\u001b[0;32m<__array_function__ internals>\u001b[0m in \u001b[0;36msavetxt\u001b[0;34m(*args, **kwargs)\u001b[0m\n",
      "\u001b[0;32m~/.local/lib/python3.7/site-packages/numpy/lib/npyio.py\u001b[0m in \u001b[0;36msavetxt\u001b[0;34m(fname, X, fmt, delimiter, newline, header, footer, comments, encoding)\u001b[0m\n\u001b[1;32m   1433\u001b[0m             \u001b[0;32mfor\u001b[0m \u001b[0mrow\u001b[0m \u001b[0;32min\u001b[0m \u001b[0mX\u001b[0m\u001b[0;34m:\u001b[0m\u001b[0;34m\u001b[0m\u001b[0;34m\u001b[0m\u001b[0m\n\u001b[1;32m   1434\u001b[0m                 \u001b[0;32mtry\u001b[0m\u001b[0;34m:\u001b[0m\u001b[0;34m\u001b[0m\u001b[0;34m\u001b[0m\u001b[0m\n\u001b[0;32m-> 1435\u001b[0;31m                     \u001b[0mv\u001b[0m \u001b[0;34m=\u001b[0m \u001b[0mformat\u001b[0m \u001b[0;34m%\u001b[0m \u001b[0mtuple\u001b[0m\u001b[0;34m(\u001b[0m\u001b[0mrow\u001b[0m\u001b[0;34m)\u001b[0m \u001b[0;34m+\u001b[0m \u001b[0mnewline\u001b[0m\u001b[0;34m\u001b[0m\u001b[0;34m\u001b[0m\u001b[0m\n\u001b[0m\u001b[1;32m   1436\u001b[0m                 \u001b[0;32mexcept\u001b[0m \u001b[0mTypeError\u001b[0m \u001b[0;32mas\u001b[0m \u001b[0me\u001b[0m\u001b[0;34m:\u001b[0m\u001b[0;34m\u001b[0m\u001b[0;34m\u001b[0m\u001b[0m\n\u001b[1;32m   1437\u001b[0m                     raise TypeError(\"Mismatch between array dtype ('%s') and \"\n",
      "\u001b[0;31mValueError\u001b[0m: cannot convert float NaN to integer"
     ]
    },
    {
     "data": {
      "image/png": "[encoded data removed]",
      "text/plain": [
       "<Figure size 432x288 with 1 Axes>"
      ]
     },
     "metadata": {},
     "output_type": "display_data"
    }
   ],
   "source": [
    "# train and test the models on the data, using nested cross validation and hyperopt for hyperparameter finding\n",
    "i = 0\n",
    "for train_indices, test_indices in outer_folds:\n",
    "    \n",
    "    train_x, test_x, train_y, test_y = get_train_test(data, labels, train_indices, test_indices)\n",
    "    diagnoses_train = diagnoses.iloc[train_indices]\n",
    "    \n",
    "    # subset features to make smaller for when developing code\n",
    "#     train_x = train_x[:,0:100]\n",
    "#     test_x = test_x[:,0:100]\n",
    "#     train_x.shape\n",
    "#     test_x.shape\n",
    "\n",
    "    # calculate training sample weights\n",
    "    train_weights = get_weights(diagnoses_train.copy(deep = True))\n",
    "    check_weights(train_weights) # can comment out if output is annoying\n",
    "    train_weights = train_weights['combined_weight']\n",
    "    \n",
    "    # get inner folds and check them\n",
    "    inner_folds = get_folds(diagnoses_train, 4)\n",
    "    check_folds(diagnoses_train, inner_folds) # can comment these two checking functions if the output is annoying\n",
    "    plot_split_barplots(train_y, inner_folds)\n",
    "\n",
    "    # hyperopt function, which uses objective function\n",
    "    bayes_trials_parallel = SparkTrials(parallelism=2, spark_session = spark_sess) \n",
    "    bayes_trials = Trials()\n",
    "    fmin_objective = partial(objective, train_x=train_x, train_y = train_y, inner_folds = inner_folds, train_weights = train_weights) # make parital function with our non-standard arguments\n",
    "    best = fmin(fn = fmin_objective, space = space, algo = tpe.suggest, \n",
    "            max_evals = 10, trials = bayes_trials_parallel)\n",
    "    \n",
    "    # retrain model over all of x_train with best params (we subset chRCC and onc within this function)\n",
    "    best_model = retrain(best, train_x, train_y, train_weights)\n",
    "    \n",
    "    # subset test data so it is just chRCC and onc \n",
    "    samples_to_take = np.isin(test_y, [2, 3])\n",
    "    test_x = test_x[samples_to_take]\n",
    "    test_y=test_y[samples_to_take]\n",
    "    test_y = (test_y - 2).astype(int) # also put labels in 0, 1 format (rather than 2, 3)\n",
    "    test_indices = test_indices[samples_to_take]\n",
    "    classes = ['chRCC', 'onc']\n",
    "    \n",
    "    # save model\n",
    "    best_params, bayes_trials_hist, best_models, test_indices_list = append_results(i = i, best = best, best_params = best_params, bayes_trials = bayes_trials, bayes_trials_hist = bayes_trials_hist, best_model = best_model, best_models = best_models, test_indices = test_indices, test_indices_list = test_indices_list)\n",
    "    \n",
    "    # make predictions \n",
    "    test_predictions = best_model.predict(test_x)\n",
    "    test_predictions_prob = best_model.predict_proba(test_x)\n",
    "    all_test_predictions[test_indices] = test_predictions\n",
    "    \n",
    "    # save scores\n",
    "    scores = append_scores(i, scores, test_y, test_predictions, test_predictions_prob, classes)\n",
    "    \n",
    "    i = i + 1\n",
    "    \n",
    "\n",
    "# and finally save all test predictions\n",
    "all_test_predictions = all_test_predictions.astype(str)\n",
    "all_test_predictions[all_test_predictions=='nan'] = '' # deal with nans\n",
    "np.savetxt('figs_hyperparameter_tuning/all_test_predictions', all_test_predictions, delimiter=\",\", fmt=\"%s\")\n"
   ]
  },
  {
   "cell_type": "markdown",
   "metadata": {},
   "source": [
    "### Reading in models and results"
   ]
  },
  {
   "cell_type": "code",
   "execution_count": 22,
   "metadata": {},
   "outputs": [],
   "source": [
    "# reading in models after they have been saved\n",
    "import pickle\n",
    "import joblib\n",
    "\n",
    "def read_models():\n",
    "        \n",
    "    models = []\n",
    "    for i in range(4):\n",
    "        model = joblib.load('figs_hyperparameter_tuning/xgboost_models/' + str(i) + '.pkl')\n",
    "        models.append(model)\n",
    "        \n",
    "    # now load the other arrays\n",
    "    test_indices_list = pickle.load(open('figs_hyperparameter_tuning/test_indices_list.json', 'rb'))\n",
    "    best_params = pickle.load(open('figs_hyperparameter_tuning/best_params.json', 'rb'))\n",
    "    bayes_trials_hist = pickle.load(open('figs_hyperparameter_tuning/bayes_trials_hist.json', 'rb'))\n",
    "    \n",
    "    return(models, test_indices_list, best_params, bayes_trials_hist)\n",
    "\n",
    "\n",
    "# models, test_indices_list, best_params, bayes_trials_hist = read_models()\n"
   ]
  },
  {
   "cell_type": "code",
   "execution_count": 2,
   "metadata": {},
   "outputs": [
    {
     "data": {
      "text/plain": [
       "[{'mcc': 0.8464861424907173,\n",
       "  'acc': 0.925,\n",
       "  'f1': array([0.93617021, 0.90909091]),\n",
       "  'conf_mat': array([[22,  1],\n",
       "         [ 2, 15]]),\n",
       "  'precision': array([0.91666667, 0.9375    ]),\n",
       "  'recall': array([0.95652174, 0.88235294]),\n",
       "  'roc_auc': array([0.98976982, 0.98976982]),\n",
       "  'pr_auc': [0.9934349064783846, 0.985206925907618]},\n",
       " {'mcc': 0.9421114395319916,\n",
       "  'acc': 0.9736842105263158,\n",
       "  'f1': array([0.98039216, 0.96      ]),\n",
       "  'conf_mat': array([[25,  0],\n",
       "         [ 1, 12]]),\n",
       "  'precision': array([0.96153846, 1.        ]),\n",
       "  'recall': array([1.        , 0.92307692]),\n",
       "  'roc_auc': array([0.99384615, 0.99384615]),\n",
       "  'pr_auc': [0.9967974358974361, 0.9893772893772892]},\n",
       " {'mcc': 0.9396505434536336,\n",
       "  'acc': 0.9714285714285714,\n",
       "  'f1': array([0.97777778, 0.96      ]),\n",
       "  'conf_mat': array([[22,  0],\n",
       "         [ 1, 12]]),\n",
       "  'precision': array([0.95652174, 1.        ]),\n",
       "  'recall': array([1.        , 0.92307692]),\n",
       "  'roc_auc': array([1., 1.]),\n",
       "  'pr_auc': [0.9999999999999998, 0.9999999999999998]},\n",
       " {'mcc': 1.0, 'acc': 1.0, 'f1': array([1., 1.]), 'conf_mat': array([[23,  0],\n",
       "         [ 0, 15]]), 'precision': array([1., 1.]), 'recall': array([1., 1.]), 'roc_auc': array([1., 1.]), 'pr_auc': [0.9999999999999998,\n",
       "   1.0]}]"
      ]
     },
     "execution_count": 2,
     "metadata": {},
     "output_type": "execute_result"
    },
    {
     "data": {
      "text/plain": [
       "0.9675281954887218"
      ]
     },
     "execution_count": 2,
     "metadata": {},
     "output_type": "execute_result"
    },
    {
     "data": {
      "text/plain": [
       "0.9320620313690856"
      ]
     },
     "execution_count": 2,
     "metadata": {},
     "output_type": "execute_result"
    },
    {
     "data": {
      "text/plain": [
       "0.9959039937045052"
      ]
     },
     "execution_count": 2,
     "metadata": {},
     "output_type": "execute_result"
    }
   ],
   "source": [
    "# loading scores:\n",
    "import pickle\n",
    "import numpy as np\n",
    "scores = pickle.load(open('figs_hyperparameter_tuning/scores.json', 'rb'))\n",
    "scores\n",
    "\n",
    "np.mean([s['acc'] for s in scores]) # average accuracy\n",
    "np.mean([s['mcc'] for s in scores]) # average MCC\n",
    "np.mean([s['roc_auc'][0] for s in scores]) # average ROC AUC (we can average ROC AUC here as binary classification so only one ROC AUC per model)\n"
   ]
  },
  {
   "cell_type": "markdown",
   "metadata": {},
   "source": [
    "### External validation"
   ]
  },
  {
   "cell_type": "code",
   "execution_count": 102,
   "metadata": {},
   "outputs": [
    {
     "data": {
      "text/html": [
       "<div>\n",
       "<style scoped>\n",
       "    .dataframe tbody tr th:only-of-type {\n",
       "        vertical-align: middle;\n",
       "    }\n",
       "\n",
       "    .dataframe tbody tr th {\n",
       "        vertical-align: top;\n",
       "    }\n",
       "\n",
       "    .dataframe thead th {\n",
       "        text-align: right;\n",
       "    }\n",
       "</style>\n",
       "<table border=\"1\" class=\"dataframe\">\n",
       "  <thead>\n",
       "    <tr style=\"text-align: right;\">\n",
       "      <th></th>\n",
       "      <th>Unnamed: 0</th>\n",
       "      <th>label</th>\n",
       "      <th>id</th>\n",
       "      <th>overallpath</th>\n",
       "    </tr>\n",
       "  </thead>\n",
       "  <tbody>\n",
       "    <tr>\n",
       "      <th>0</th>\n",
       "      <td>1</td>\n",
       "      <td>Normal</td>\n",
       "      <td>8784241029_R01C01</td>\n",
       "      <td>0</td>\n",
       "    </tr>\n",
       "    <tr>\n",
       "      <th>1</th>\n",
       "      <td>2</td>\n",
       "      <td>KIRC</td>\n",
       "      <td>8784241029_R02C01</td>\n",
       "      <td>1</td>\n",
       "    </tr>\n",
       "    <tr>\n",
       "      <th>2</th>\n",
       "      <td>3</td>\n",
       "      <td>KIRC</td>\n",
       "      <td>8784241029_R03C01</td>\n",
       "      <td>1</td>\n",
       "    </tr>\n",
       "    <tr>\n",
       "      <th>3</th>\n",
       "      <td>4</td>\n",
       "      <td>Normal</td>\n",
       "      <td>8784241029_R04C01</td>\n",
       "      <td>0</td>\n",
       "    </tr>\n",
       "    <tr>\n",
       "      <th>4</th>\n",
       "      <td>5</td>\n",
       "      <td>KIRC</td>\n",
       "      <td>8784241029_R05C01</td>\n",
       "      <td>1</td>\n",
       "    </tr>\n",
       "    <tr>\n",
       "      <th>...</th>\n",
       "      <td>...</td>\n",
       "      <td>...</td>\n",
       "      <td>...</td>\n",
       "      <td>...</td>\n",
       "    </tr>\n",
       "    <tr>\n",
       "      <th>240</th>\n",
       "      <td>267</td>\n",
       "      <td>KIRP</td>\n",
       "      <td>8795194001_R06C02</td>\n",
       "      <td>4</td>\n",
       "    </tr>\n",
       "    <tr>\n",
       "      <th>241</th>\n",
       "      <td>268</td>\n",
       "      <td>KIRP</td>\n",
       "      <td>8795194002_R01C01</td>\n",
       "      <td>4</td>\n",
       "    </tr>\n",
       "    <tr>\n",
       "      <th>242</th>\n",
       "      <td>269</td>\n",
       "      <td>Normal</td>\n",
       "      <td>8795194089_R05C01</td>\n",
       "      <td>0</td>\n",
       "    </tr>\n",
       "    <tr>\n",
       "      <th>243</th>\n",
       "      <td>270</td>\n",
       "      <td>KIRC</td>\n",
       "      <td>8795194089_R06C01</td>\n",
       "      <td>1</td>\n",
       "    </tr>\n",
       "    <tr>\n",
       "      <th>244</th>\n",
       "      <td>271</td>\n",
       "      <td>KIRC</td>\n",
       "      <td>8795194089_R01C02</td>\n",
       "      <td>1</td>\n",
       "    </tr>\n",
       "  </tbody>\n",
       "</table>\n",
       "<p>245 rows × 4 columns</p>\n",
       "</div>"
      ],
      "text/plain": [
       "     Unnamed: 0   label                 id  overallpath\n",
       "0             1  Normal  8784241029_R01C01            0\n",
       "1             2    KIRC  8784241029_R02C01            1\n",
       "2             3    KIRC  8784241029_R03C01            1\n",
       "3             4  Normal  8784241029_R04C01            0\n",
       "4             5    KIRC  8784241029_R05C01            1\n",
       "..          ...     ...                ...          ...\n",
       "240         267    KIRP  8795194001_R06C02            4\n",
       "241         268    KIRP  8795194002_R01C01            4\n",
       "242         269  Normal  8795194089_R05C01            0\n",
       "243         270    KIRC  8795194089_R06C01            1\n",
       "244         271    KIRC  8795194089_R01C02            1\n",
       "\n",
       "[245 rows x 4 columns]"
      ]
     },
     "execution_count": 102,
     "metadata": {},
     "output_type": "execute_result"
    },
    {
     "data": {
      "text/plain": [
       "1.0"
      ]
     },
     "execution_count": 102,
     "metadata": {},
     "output_type": "execute_result"
    },
    {
     "name": "stderr",
     "output_type": "stream",
     "text": [
      "/home/in268/.local/lib/python3.7/site-packages/ipykernel_launcher.py:23: SettingWithCopyWarning: \n",
      "A value is trying to be set on a copy of a slice from a DataFrame.\n",
      "Try using .loc[row_indexer,col_indexer] = value instead\n",
      "\n",
      "See the caveats in the documentation: https://pandas.pydata.org/pandas-docs/stable/user_guide/indexing.html#returning-a-view-versus-a-copy\n"
     ]
    },
    {
     "data": {
      "text/html": [
       "<div>\n",
       "<style scoped>\n",
       "    .dataframe tbody tr th:only-of-type {\n",
       "        vertical-align: middle;\n",
       "    }\n",
       "\n",
       "    .dataframe tbody tr th {\n",
       "        vertical-align: top;\n",
       "    }\n",
       "\n",
       "    .dataframe thead th {\n",
       "        text-align: right;\n",
       "    }\n",
       "</style>\n",
       "<table border=\"1\" class=\"dataframe\">\n",
       "  <thead>\n",
       "    <tr style=\"text-align: right;\">\n",
       "      <th></th>\n",
       "      <th>Unnamed: 0</th>\n",
       "      <th>label</th>\n",
       "      <th>id</th>\n",
       "      <th>overallpath</th>\n",
       "    </tr>\n",
       "  </thead>\n",
       "  <tbody>\n",
       "    <tr>\n",
       "      <th>14</th>\n",
       "      <td>17</td>\n",
       "      <td>oncocytoma</td>\n",
       "      <td>8784241087_R01C01</td>\n",
       "      <td>1</td>\n",
       "    </tr>\n",
       "    <tr>\n",
       "      <th>29</th>\n",
       "      <td>32</td>\n",
       "      <td>oncocytoma</td>\n",
       "      <td>8795194005_R06C01</td>\n",
       "      <td>1</td>\n",
       "    </tr>\n",
       "    <tr>\n",
       "      <th>31</th>\n",
       "      <td>34</td>\n",
       "      <td>oncocytoma</td>\n",
       "      <td>8795194005_R02C02</td>\n",
       "      <td>1</td>\n",
       "    </tr>\n",
       "    <tr>\n",
       "      <th>32</th>\n",
       "      <td>35</td>\n",
       "      <td>oncocytoma</td>\n",
       "      <td>8795194005_R03C02</td>\n",
       "      <td>1</td>\n",
       "    </tr>\n",
       "    <tr>\n",
       "      <th>37</th>\n",
       "      <td>40</td>\n",
       "      <td>KICH</td>\n",
       "      <td>8795194049_R02C01</td>\n",
       "      <td>0</td>\n",
       "    </tr>\n",
       "    <tr>\n",
       "      <th>38</th>\n",
       "      <td>41</td>\n",
       "      <td>KICH</td>\n",
       "      <td>8795194049_R03C01</td>\n",
       "      <td>0</td>\n",
       "    </tr>\n",
       "    <tr>\n",
       "      <th>42</th>\n",
       "      <td>45</td>\n",
       "      <td>oncocytoma</td>\n",
       "      <td>8795194049_R01C02</td>\n",
       "      <td>1</td>\n",
       "    </tr>\n",
       "    <tr>\n",
       "      <th>43</th>\n",
       "      <td>46</td>\n",
       "      <td>oncocytoma</td>\n",
       "      <td>8795194049_R02C02</td>\n",
       "      <td>1</td>\n",
       "    </tr>\n",
       "    <tr>\n",
       "      <th>68</th>\n",
       "      <td>77</td>\n",
       "      <td>oncocytoma</td>\n",
       "      <td>8795194001_R04C01</td>\n",
       "      <td>1</td>\n",
       "    </tr>\n",
       "    <tr>\n",
       "      <th>69</th>\n",
       "      <td>78</td>\n",
       "      <td>oncocytoma</td>\n",
       "      <td>8795194001_R05C01</td>\n",
       "      <td>1</td>\n",
       "    </tr>\n",
       "    <tr>\n",
       "      <th>91</th>\n",
       "      <td>104</td>\n",
       "      <td>oncocytoma</td>\n",
       "      <td>8795194089_R06C02</td>\n",
       "      <td>1</td>\n",
       "    </tr>\n",
       "    <tr>\n",
       "      <th>92</th>\n",
       "      <td>105</td>\n",
       "      <td>oncocytoma</td>\n",
       "      <td>8795194091_R01C01</td>\n",
       "      <td>1</td>\n",
       "    </tr>\n",
       "    <tr>\n",
       "      <th>97</th>\n",
       "      <td>110</td>\n",
       "      <td>KICH</td>\n",
       "      <td>8795194091_R06C01</td>\n",
       "      <td>0</td>\n",
       "    </tr>\n",
       "    <tr>\n",
       "      <th>98</th>\n",
       "      <td>111</td>\n",
       "      <td>KICH</td>\n",
       "      <td>8795194091_R01C02</td>\n",
       "      <td>0</td>\n",
       "    </tr>\n",
       "    <tr>\n",
       "      <th>107</th>\n",
       "      <td>120</td>\n",
       "      <td>oncocytoma</td>\n",
       "      <td>8795194099_R04C01</td>\n",
       "      <td>1</td>\n",
       "    </tr>\n",
       "    <tr>\n",
       "      <th>108</th>\n",
       "      <td>121</td>\n",
       "      <td>oncocytoma</td>\n",
       "      <td>8795194099_R05C01</td>\n",
       "      <td>1</td>\n",
       "    </tr>\n",
       "    <tr>\n",
       "      <th>115</th>\n",
       "      <td>128</td>\n",
       "      <td>oncocytoma</td>\n",
       "      <td>8795194099_R06C02</td>\n",
       "      <td>1</td>\n",
       "    </tr>\n",
       "    <tr>\n",
       "      <th>116</th>\n",
       "      <td>129</td>\n",
       "      <td>oncocytoma</td>\n",
       "      <td>8795194131_R01C01</td>\n",
       "      <td>1</td>\n",
       "    </tr>\n",
       "    <tr>\n",
       "      <th>129</th>\n",
       "      <td>144</td>\n",
       "      <td>oncocytoma</td>\n",
       "      <td>8795194140_R05C01</td>\n",
       "      <td>1</td>\n",
       "    </tr>\n",
       "    <tr>\n",
       "      <th>130</th>\n",
       "      <td>145</td>\n",
       "      <td>oncocytoma</td>\n",
       "      <td>8795194140_R06C01</td>\n",
       "      <td>1</td>\n",
       "    </tr>\n",
       "    <tr>\n",
       "      <th>132</th>\n",
       "      <td>147</td>\n",
       "      <td>KICH</td>\n",
       "      <td>9630789085_R02C01</td>\n",
       "      <td>0</td>\n",
       "    </tr>\n",
       "    <tr>\n",
       "      <th>133</th>\n",
       "      <td>148</td>\n",
       "      <td>KICH</td>\n",
       "      <td>9630789085_R03C01</td>\n",
       "      <td>0</td>\n",
       "    </tr>\n",
       "    <tr>\n",
       "      <th>172</th>\n",
       "      <td>195</td>\n",
       "      <td>oncocytoma</td>\n",
       "      <td>9630789190_R02C01</td>\n",
       "      <td>1</td>\n",
       "    </tr>\n",
       "    <tr>\n",
       "      <th>173</th>\n",
       "      <td>196</td>\n",
       "      <td>oncocytoma</td>\n",
       "      <td>9630789190_R03C01</td>\n",
       "      <td>1</td>\n",
       "    </tr>\n",
       "    <tr>\n",
       "      <th>190</th>\n",
       "      <td>214</td>\n",
       "      <td>oncocytoma</td>\n",
       "      <td>9630789219_R04C02</td>\n",
       "      <td>1</td>\n",
       "    </tr>\n",
       "    <tr>\n",
       "      <th>198</th>\n",
       "      <td>222</td>\n",
       "      <td>oncocytoma</td>\n",
       "      <td>9682764018_R02C01</td>\n",
       "      <td>1</td>\n",
       "    </tr>\n",
       "    <tr>\n",
       "      <th>206</th>\n",
       "      <td>230</td>\n",
       "      <td>oncocytoma</td>\n",
       "      <td>9682764022_R02C02</td>\n",
       "      <td>1</td>\n",
       "    </tr>\n",
       "    <tr>\n",
       "      <th>207</th>\n",
       "      <td>231</td>\n",
       "      <td>oncocytoma</td>\n",
       "      <td>9682764022_R03C02</td>\n",
       "      <td>1</td>\n",
       "    </tr>\n",
       "    <tr>\n",
       "      <th>217</th>\n",
       "      <td>243</td>\n",
       "      <td>oncocytoma</td>\n",
       "      <td>9682764027_R03C02</td>\n",
       "      <td>1</td>\n",
       "    </tr>\n",
       "    <tr>\n",
       "      <th>222</th>\n",
       "      <td>248</td>\n",
       "      <td>oncocytoma</td>\n",
       "      <td>9682764042_R02C01</td>\n",
       "      <td>1</td>\n",
       "    </tr>\n",
       "    <tr>\n",
       "      <th>223</th>\n",
       "      <td>249</td>\n",
       "      <td>oncocytoma</td>\n",
       "      <td>9682764042_R03C01</td>\n",
       "      <td>1</td>\n",
       "    </tr>\n",
       "    <tr>\n",
       "      <th>225</th>\n",
       "      <td>251</td>\n",
       "      <td>oncocytoma</td>\n",
       "      <td>9682764042_R05C01</td>\n",
       "      <td>1</td>\n",
       "    </tr>\n",
       "  </tbody>\n",
       "</table>\n",
       "</div>"
      ],
      "text/plain": [
       "     Unnamed: 0       label                 id  overallpath\n",
       "14           17  oncocytoma  8784241087_R01C01            1\n",
       "29           32  oncocytoma  8795194005_R06C01            1\n",
       "31           34  oncocytoma  8795194005_R02C02            1\n",
       "32           35  oncocytoma  8795194005_R03C02            1\n",
       "37           40        KICH  8795194049_R02C01            0\n",
       "38           41        KICH  8795194049_R03C01            0\n",
       "42           45  oncocytoma  8795194049_R01C02            1\n",
       "43           46  oncocytoma  8795194049_R02C02            1\n",
       "68           77  oncocytoma  8795194001_R04C01            1\n",
       "69           78  oncocytoma  8795194001_R05C01            1\n",
       "91          104  oncocytoma  8795194089_R06C02            1\n",
       "92          105  oncocytoma  8795194091_R01C01            1\n",
       "97          110        KICH  8795194091_R06C01            0\n",
       "98          111        KICH  8795194091_R01C02            0\n",
       "107         120  oncocytoma  8795194099_R04C01            1\n",
       "108         121  oncocytoma  8795194099_R05C01            1\n",
       "115         128  oncocytoma  8795194099_R06C02            1\n",
       "116         129  oncocytoma  8795194131_R01C01            1\n",
       "129         144  oncocytoma  8795194140_R05C01            1\n",
       "130         145  oncocytoma  8795194140_R06C01            1\n",
       "132         147        KICH  9630789085_R02C01            0\n",
       "133         148        KICH  9630789085_R03C01            0\n",
       "172         195  oncocytoma  9630789190_R02C01            1\n",
       "173         196  oncocytoma  9630789190_R03C01            1\n",
       "190         214  oncocytoma  9630789219_R04C02            1\n",
       "198         222  oncocytoma  9682764018_R02C01            1\n",
       "206         230  oncocytoma  9682764022_R02C02            1\n",
       "207         231  oncocytoma  9682764022_R03C02            1\n",
       "217         243  oncocytoma  9682764027_R03C02            1\n",
       "222         248  oncocytoma  9682764042_R02C01            1\n",
       "223         249  oncocytoma  9682764042_R03C01            1\n",
       "225         251  oncocytoma  9682764042_R05C01            1"
      ]
     },
     "execution_count": 102,
     "metadata": {},
     "output_type": "execute_result"
    },
    {
     "data": {
      "text/plain": [
       "(32, 4)"
      ]
     },
     "execution_count": 102,
     "metadata": {},
     "output_type": "execute_result"
    },
    {
     "data": {
      "text/plain": [
       "1    26\n",
       "0     6\n",
       "Name: overallpath, dtype: int64"
      ]
     },
     "execution_count": 102,
     "metadata": {},
     "output_type": "execute_result"
    },
    {
     "data": {
      "text/plain": [
       "array([[-0.16859856,  3.83752725, -3.98879652, ..., -5.17040767,\n",
       "        -5.61002966, -3.77690001],\n",
       "       [-1.34157643,  3.75393712, -3.81518876, ..., -2.84982435,\n",
       "        -2.29464823, -3.13574441],\n",
       "       [-0.90774669,  3.9640101 , -3.62782251, ..., -4.38464078,\n",
       "        -3.86539046, -2.50124504],\n",
       "       ...,\n",
       "       [-2.25908652,  3.47076093, -3.91661151, ..., -5.75142096,\n",
       "        -5.24830429, -5.43311803],\n",
       "       [-2.66921393,  4.49017095, -4.18855251, ..., -4.5540919 ,\n",
       "        -5.33244467, -4.40144615],\n",
       "       [ 0.20039436,  4.14536869, -3.71715206, ..., -4.9340945 ,\n",
       "        -4.80717199, -2.02933735]])"
      ]
     },
     "execution_count": 102,
     "metadata": {},
     "output_type": "execute_result"
    },
    {
     "data": {
      "text/plain": [
       "(32, 158670)"
      ]
     },
     "execution_count": 102,
     "metadata": {},
     "output_type": "execute_result"
    }
   ],
   "source": [
    "# load external validation datasets (just Chopra and Brennan - Wei and Evelonn don't have chRCC or onc samples)\n",
    "\n",
    "# load Chopra data\n",
    "import pandas as pd\n",
    "data_chopra = pd.read_csv(path+'data/Chopra_external/preprocessed_validation_m_vals.csv')\n",
    "diagnoses_chopra = pd.read_csv(path+'data/Chopra_external/preprocessed_validation_pdata.testing_diagnoses.csv')\n",
    "mapping = {'Normal': 0, 'KIRC': 1, 'KICH': 2, 'oncocytoma': 3, 'KIRP': 4, 'normal': 0, 'Other': 5}\n",
    "\n",
    "seqnames = data_chopra['seqnames']\n",
    "start = data_chopra['start']\n",
    "colnames = data_chopra.columns[3:]\n",
    "\n",
    "diagnoses_chopra['overallpath'] = [mapping[l] for l in diagnoses_chopra['label']]\n",
    "diagnoses_chopra\n",
    "(data_chopra.columns[3:] == 'X' + diagnoses_chopra['id']).mean() # diagnoses in same order as columns\n",
    "\n",
    "# put in numpy array and transpose:\n",
    "data_chopra = np.transpose(np.array(data_chopra.iloc[:,3:]))\n",
    "\n",
    "# only take chRCC and onc samples\n",
    "indices_to_take = diagnoses_chopra['overallpath'].isin([2, 3])\n",
    "diagnoses_chopra = diagnoses_chopra[indices_to_take]\n",
    "diagnoses_chopra['overallpath'] = diagnoses_chopra['overallpath'] - 2 # turn 2, 3 labels into 0, 1 to match the model's class labelling\n",
    "data_chopra = data_chopra[indices_to_take]\n",
    "\n",
    "diagnoses_chopra\n",
    "diagnoses_chopra.shape\n",
    "diagnoses_chopra['overallpath'].value_counts()\n",
    "data_chopra\n",
    "data_chopra.shape\n"
   ]
  },
  {
   "cell_type": "code",
   "execution_count": 103,
   "metadata": {},
   "outputs": [
    {
     "name": "stderr",
     "output_type": "stream",
     "text": [
      "/home/in268/.local/lib/python3.7/site-packages/IPython/core/interactiveshell.py:3058: DtypeWarning: Columns (1) have mixed types.Specify dtype option on import or set low_memory=False.\n",
      "  interactivity=interactivity, compiler=compiler, result=result)\n"
     ]
    },
    {
     "data": {
      "text/html": [
       "<div>\n",
       "<style scoped>\n",
       "    .dataframe tbody tr th:only-of-type {\n",
       "        vertical-align: middle;\n",
       "    }\n",
       "\n",
       "    .dataframe tbody tr th {\n",
       "        vertical-align: top;\n",
       "    }\n",
       "\n",
       "    .dataframe thead th {\n",
       "        text-align: right;\n",
       "    }\n",
       "</style>\n",
       "<table border=\"1\" class=\"dataframe\">\n",
       "  <thead>\n",
       "    <tr style=\"text-align: right;\">\n",
       "      <th></th>\n",
       "      <th>Unnamed: 0</th>\n",
       "      <th>seqnames</th>\n",
       "      <th>start</th>\n",
       "      <th>X200397540076_R01C01</th>\n",
       "      <th>X200397540076_R02C01</th>\n",
       "      <th>X200397540076_R03C01</th>\n",
       "      <th>X200397540076_R04C01</th>\n",
       "      <th>X200397540076_R05C01</th>\n",
       "      <th>X200397540076_R06C01</th>\n",
       "      <th>X200397540076_R01C02</th>\n",
       "      <th>...</th>\n",
       "      <th>X200397540095_R04C01</th>\n",
       "      <th>X200397540095_R05C01</th>\n",
       "      <th>X200397540095_R06C01</th>\n",
       "      <th>X200397540095_R02C02</th>\n",
       "      <th>X200397540095_R04C02</th>\n",
       "      <th>X200397540095_R06C02</th>\n",
       "      <th>X200394970099_R01C01</th>\n",
       "      <th>X200394970099_R02C01</th>\n",
       "      <th>X200394970099_R03C01</th>\n",
       "      <th>X200394970099_R04C01</th>\n",
       "    </tr>\n",
       "  </thead>\n",
       "  <tbody>\n",
       "    <tr>\n",
       "      <th>0</th>\n",
       "      <td>0</td>\n",
       "      <td>16</td>\n",
       "      <td>53434200</td>\n",
       "      <td>-2.410453</td>\n",
       "      <td>-0.578894</td>\n",
       "      <td>-0.677115</td>\n",
       "      <td>-0.158265</td>\n",
       "      <td>0.371911</td>\n",
       "      <td>-0.204119</td>\n",
       "      <td>-2.838735</td>\n",
       "      <td>...</td>\n",
       "      <td>-1.807547</td>\n",
       "      <td>-0.117592</td>\n",
       "      <td>-0.368004</td>\n",
       "      <td>-0.442526</td>\n",
       "      <td>-0.389406</td>\n",
       "      <td>-0.485664</td>\n",
       "      <td>-0.369154</td>\n",
       "      <td>0.193851</td>\n",
       "      <td>1.277104</td>\n",
       "      <td>0.052621</td>\n",
       "    </tr>\n",
       "    <tr>\n",
       "      <th>1</th>\n",
       "      <td>1</td>\n",
       "      <td>6</td>\n",
       "      <td>25282551</td>\n",
       "      <td>4.129704</td>\n",
       "      <td>3.660669</td>\n",
       "      <td>3.432851</td>\n",
       "      <td>3.407971</td>\n",
       "      <td>3.212938</td>\n",
       "      <td>3.376535</td>\n",
       "      <td>3.683546</td>\n",
       "      <td>...</td>\n",
       "      <td>3.754500</td>\n",
       "      <td>3.579304</td>\n",
       "      <td>3.917513</td>\n",
       "      <td>3.525948</td>\n",
       "      <td>3.623678</td>\n",
       "      <td>3.338777</td>\n",
       "      <td>3.621265</td>\n",
       "      <td>3.939203</td>\n",
       "      <td>3.978525</td>\n",
       "      <td>3.808664</td>\n",
       "    </tr>\n",
       "    <tr>\n",
       "      <th>2</th>\n",
       "      <td>2</td>\n",
       "      <td>3</td>\n",
       "      <td>129183534</td>\n",
       "      <td>-3.673265</td>\n",
       "      <td>-3.708390</td>\n",
       "      <td>-3.856591</td>\n",
       "      <td>-3.809850</td>\n",
       "      <td>-3.446806</td>\n",
       "      <td>-3.675274</td>\n",
       "      <td>-3.519044</td>\n",
       "      <td>...</td>\n",
       "      <td>-3.932931</td>\n",
       "      <td>-3.537837</td>\n",
       "      <td>-3.717203</td>\n",
       "      <td>-3.713104</td>\n",
       "      <td>-3.706082</td>\n",
       "      <td>-3.689242</td>\n",
       "      <td>-4.153712</td>\n",
       "      <td>-3.780349</td>\n",
       "      <td>-4.051145</td>\n",
       "      <td>-3.940932</td>\n",
       "    </tr>\n",
       "    <tr>\n",
       "      <th>3</th>\n",
       "      <td>3</td>\n",
       "      <td>12</td>\n",
       "      <td>123601930</td>\n",
       "      <td>-4.021386</td>\n",
       "      <td>-3.857981</td>\n",
       "      <td>-4.230512</td>\n",
       "      <td>-3.831333</td>\n",
       "      <td>-4.107561</td>\n",
       "      <td>-4.255137</td>\n",
       "      <td>-3.729211</td>\n",
       "      <td>...</td>\n",
       "      <td>-3.798526</td>\n",
       "      <td>-3.881928</td>\n",
       "      <td>-4.001825</td>\n",
       "      <td>-4.127378</td>\n",
       "      <td>-4.009893</td>\n",
       "      <td>-4.153360</td>\n",
       "      <td>-3.942944</td>\n",
       "      <td>-4.710243</td>\n",
       "      <td>-4.217106</td>\n",
       "      <td>-4.565820</td>\n",
       "    </tr>\n",
       "    <tr>\n",
       "      <th>4</th>\n",
       "      <td>4</td>\n",
       "      <td>15</td>\n",
       "      <td>59493107</td>\n",
       "      <td>-3.584482</td>\n",
       "      <td>-3.907965</td>\n",
       "      <td>-3.700879</td>\n",
       "      <td>-4.138469</td>\n",
       "      <td>-3.596958</td>\n",
       "      <td>-3.896326</td>\n",
       "      <td>-3.538724</td>\n",
       "      <td>...</td>\n",
       "      <td>-3.720414</td>\n",
       "      <td>-3.992819</td>\n",
       "      <td>-4.050417</td>\n",
       "      <td>-3.702919</td>\n",
       "      <td>-4.148852</td>\n",
       "      <td>-3.920989</td>\n",
       "      <td>-3.616875</td>\n",
       "      <td>-3.963970</td>\n",
       "      <td>-4.199160</td>\n",
       "      <td>-4.287580</td>\n",
       "    </tr>\n",
       "    <tr>\n",
       "      <th>...</th>\n",
       "      <td>...</td>\n",
       "      <td>...</td>\n",
       "      <td>...</td>\n",
       "      <td>...</td>\n",
       "      <td>...</td>\n",
       "      <td>...</td>\n",
       "      <td>...</td>\n",
       "      <td>...</td>\n",
       "      <td>...</td>\n",
       "      <td>...</td>\n",
       "      <td>...</td>\n",
       "      <td>...</td>\n",
       "      <td>...</td>\n",
       "      <td>...</td>\n",
       "      <td>...</td>\n",
       "      <td>...</td>\n",
       "      <td>...</td>\n",
       "      <td>...</td>\n",
       "      <td>...</td>\n",
       "      <td>...</td>\n",
       "      <td>...</td>\n",
       "    </tr>\n",
       "    <tr>\n",
       "      <th>158665</th>\n",
       "      <td>158665</td>\n",
       "      <td>2</td>\n",
       "      <td>227460160</td>\n",
       "      <td>-4.947927</td>\n",
       "      <td>-4.112420</td>\n",
       "      <td>-5.749383</td>\n",
       "      <td>-4.805810</td>\n",
       "      <td>-6.168768</td>\n",
       "      <td>-3.957192</td>\n",
       "      <td>-5.898936</td>\n",
       "      <td>...</td>\n",
       "      <td>-5.549222</td>\n",
       "      <td>-5.554545</td>\n",
       "      <td>-5.242586</td>\n",
       "      <td>-6.205258</td>\n",
       "      <td>-4.077343</td>\n",
       "      <td>-4.925744</td>\n",
       "      <td>-14.447212</td>\n",
       "      <td>-14.447212</td>\n",
       "      <td>-8.343115</td>\n",
       "      <td>-4.156953</td>\n",
       "    </tr>\n",
       "    <tr>\n",
       "      <th>158666</th>\n",
       "      <td>158666</td>\n",
       "      <td>2</td>\n",
       "      <td>47206143</td>\n",
       "      <td>-3.242523</td>\n",
       "      <td>-1.553299</td>\n",
       "      <td>-3.537180</td>\n",
       "      <td>-1.930454</td>\n",
       "      <td>-4.593313</td>\n",
       "      <td>-1.364972</td>\n",
       "      <td>-3.532724</td>\n",
       "      <td>...</td>\n",
       "      <td>-3.820834</td>\n",
       "      <td>-2.857408</td>\n",
       "      <td>-2.700132</td>\n",
       "      <td>-4.034783</td>\n",
       "      <td>-1.434667</td>\n",
       "      <td>-1.695359</td>\n",
       "      <td>-5.704586</td>\n",
       "      <td>-4.761812</td>\n",
       "      <td>-4.930239</td>\n",
       "      <td>-1.778788</td>\n",
       "    </tr>\n",
       "    <tr>\n",
       "      <th>158667</th>\n",
       "      <td>158667</td>\n",
       "      <td>2</td>\n",
       "      <td>65612270</td>\n",
       "      <td>-4.685872</td>\n",
       "      <td>-4.643706</td>\n",
       "      <td>-5.236226</td>\n",
       "      <td>-4.223567</td>\n",
       "      <td>-5.250722</td>\n",
       "      <td>-3.893258</td>\n",
       "      <td>-5.174308</td>\n",
       "      <td>...</td>\n",
       "      <td>-5.253506</td>\n",
       "      <td>-5.581381</td>\n",
       "      <td>-4.603669</td>\n",
       "      <td>-5.218599</td>\n",
       "      <td>-3.847272</td>\n",
       "      <td>-4.269114</td>\n",
       "      <td>-7.001730</td>\n",
       "      <td>-5.931557</td>\n",
       "      <td>-5.648022</td>\n",
       "      <td>-4.264667</td>\n",
       "    </tr>\n",
       "    <tr>\n",
       "      <th>158668</th>\n",
       "      <td>158668</td>\n",
       "      <td>7</td>\n",
       "      <td>22665906</td>\n",
       "      <td>-4.878609</td>\n",
       "      <td>-4.709102</td>\n",
       "      <td>-5.590051</td>\n",
       "      <td>-5.498680</td>\n",
       "      <td>-5.345451</td>\n",
       "      <td>-4.698470</td>\n",
       "      <td>-4.951359</td>\n",
       "      <td>...</td>\n",
       "      <td>-5.378853</td>\n",
       "      <td>-4.771209</td>\n",
       "      <td>-4.574654</td>\n",
       "      <td>-5.341521</td>\n",
       "      <td>-5.032849</td>\n",
       "      <td>-5.114496</td>\n",
       "      <td>-6.735307</td>\n",
       "      <td>-6.464342</td>\n",
       "      <td>-5.939448</td>\n",
       "      <td>-5.375838</td>\n",
       "    </tr>\n",
       "    <tr>\n",
       "      <th>158669</th>\n",
       "      <td>158669</td>\n",
       "      <td>8</td>\n",
       "      <td>66674802</td>\n",
       "      <td>-5.578150</td>\n",
       "      <td>-4.945968</td>\n",
       "      <td>-5.041395</td>\n",
       "      <td>-4.525695</td>\n",
       "      <td>-5.032684</td>\n",
       "      <td>-4.344526</td>\n",
       "      <td>-5.079890</td>\n",
       "      <td>...</td>\n",
       "      <td>-5.748790</td>\n",
       "      <td>-6.209478</td>\n",
       "      <td>-4.982982</td>\n",
       "      <td>-5.338209</td>\n",
       "      <td>-4.314006</td>\n",
       "      <td>-4.756729</td>\n",
       "      <td>-5.022447</td>\n",
       "      <td>-14.447212</td>\n",
       "      <td>-9.427853</td>\n",
       "      <td>-5.347552</td>\n",
       "    </tr>\n",
       "  </tbody>\n",
       "</table>\n",
       "<p>158670 rows × 40 columns</p>\n",
       "</div>"
      ],
      "text/plain": [
       "        Unnamed: 0 seqnames      start  X200397540076_R01C01  \\\n",
       "0                0       16   53434200             -2.410453   \n",
       "1                1        6   25282551              4.129704   \n",
       "2                2        3  129183534             -3.673265   \n",
       "3                3       12  123601930             -4.021386   \n",
       "4                4       15   59493107             -3.584482   \n",
       "...            ...      ...        ...                   ...   \n",
       "158665      158665        2  227460160             -4.947927   \n",
       "158666      158666        2   47206143             -3.242523   \n",
       "158667      158667        2   65612270             -4.685872   \n",
       "158668      158668        7   22665906             -4.878609   \n",
       "158669      158669        8   66674802             -5.578150   \n",
       "\n",
       "        X200397540076_R02C01  X200397540076_R03C01  X200397540076_R04C01  \\\n",
       "0                  -0.578894             -0.677115             -0.158265   \n",
       "1                   3.660669              3.432851              3.407971   \n",
       "2                  -3.708390             -3.856591             -3.809850   \n",
       "3                  -3.857981             -4.230512             -3.831333   \n",
       "4                  -3.907965             -3.700879             -4.138469   \n",
       "...                      ...                   ...                   ...   \n",
       "158665             -4.112420             -5.749383             -4.805810   \n",
       "158666             -1.553299             -3.537180             -1.930454   \n",
       "158667             -4.643706             -5.236226             -4.223567   \n",
       "158668             -4.709102             -5.590051             -5.498680   \n",
       "158669             -4.945968             -5.041395             -4.525695   \n",
       "\n",
       "        X200397540076_R05C01  X200397540076_R06C01  X200397540076_R01C02  ...  \\\n",
       "0                   0.371911             -0.204119             -2.838735  ...   \n",
       "1                   3.212938              3.376535              3.683546  ...   \n",
       "2                  -3.446806             -3.675274             -3.519044  ...   \n",
       "3                  -4.107561             -4.255137             -3.729211  ...   \n",
       "4                  -3.596958             -3.896326             -3.538724  ...   \n",
       "...                      ...                   ...                   ...  ...   \n",
       "158665             -6.168768             -3.957192             -5.898936  ...   \n",
       "158666             -4.593313             -1.364972             -3.532724  ...   \n",
       "158667             -5.250722             -3.893258             -5.174308  ...   \n",
       "158668             -5.345451             -4.698470             -4.951359  ...   \n",
       "158669             -5.032684             -4.344526             -5.079890  ...   \n",
       "\n",
       "        X200397540095_R04C01  X200397540095_R05C01  X200397540095_R06C01  \\\n",
       "0                  -1.807547             -0.117592             -0.368004   \n",
       "1                   3.754500              3.579304              3.917513   \n",
       "2                  -3.932931             -3.537837             -3.717203   \n",
       "3                  -3.798526             -3.881928             -4.001825   \n",
       "4                  -3.720414             -3.992819             -4.050417   \n",
       "...                      ...                   ...                   ...   \n",
       "158665             -5.549222             -5.554545             -5.242586   \n",
       "158666             -3.820834             -2.857408             -2.700132   \n",
       "158667             -5.253506             -5.581381             -4.603669   \n",
       "158668             -5.378853             -4.771209             -4.574654   \n",
       "158669             -5.748790             -6.209478             -4.982982   \n",
       "\n",
       "        X200397540095_R02C02  X200397540095_R04C02  X200397540095_R06C02  \\\n",
       "0                  -0.442526             -0.389406             -0.485664   \n",
       "1                   3.525948              3.623678              3.338777   \n",
       "2                  -3.713104             -3.706082             -3.689242   \n",
       "3                  -4.127378             -4.009893             -4.153360   \n",
       "4                  -3.702919             -4.148852             -3.920989   \n",
       "...                      ...                   ...                   ...   \n",
       "158665             -6.205258             -4.077343             -4.925744   \n",
       "158666             -4.034783             -1.434667             -1.695359   \n",
       "158667             -5.218599             -3.847272             -4.269114   \n",
       "158668             -5.341521             -5.032849             -5.114496   \n",
       "158669             -5.338209             -4.314006             -4.756729   \n",
       "\n",
       "        X200394970099_R01C01  X200394970099_R02C01  X200394970099_R03C01  \\\n",
       "0                  -0.369154              0.193851              1.277104   \n",
       "1                   3.621265              3.939203              3.978525   \n",
       "2                  -4.153712             -3.780349             -4.051145   \n",
       "3                  -3.942944             -4.710243             -4.217106   \n",
       "4                  -3.616875             -3.963970             -4.199160   \n",
       "...                      ...                   ...                   ...   \n",
       "158665            -14.447212            -14.447212             -8.343115   \n",
       "158666             -5.704586             -4.761812             -4.930239   \n",
       "158667             -7.001730             -5.931557             -5.648022   \n",
       "158668             -6.735307             -6.464342             -5.939448   \n",
       "158669             -5.022447            -14.447212             -9.427853   \n",
       "\n",
       "        X200394970099_R04C01  \n",
       "0                   0.052621  \n",
       "1                   3.808664  \n",
       "2                  -3.940932  \n",
       "3                  -4.565820  \n",
       "4                  -4.287580  \n",
       "...                      ...  \n",
       "158665             -4.156953  \n",
       "158666             -1.778788  \n",
       "158667             -4.264667  \n",
       "158668             -5.375838  \n",
       "158669             -5.347552  \n",
       "\n",
       "[158670 rows x 40 columns]"
      ]
     },
     "execution_count": 103,
     "metadata": {},
     "output_type": "execute_result"
    },
    {
     "data": {
      "text/plain": [
       "1.0"
      ]
     },
     "execution_count": 103,
     "metadata": {},
     "output_type": "execute_result"
    },
    {
     "data": {
      "text/html": [
       "<div>\n",
       "<style scoped>\n",
       "    .dataframe tbody tr th:only-of-type {\n",
       "        vertical-align: middle;\n",
       "    }\n",
       "\n",
       "    .dataframe tbody tr th {\n",
       "        vertical-align: top;\n",
       "    }\n",
       "\n",
       "    .dataframe thead th {\n",
       "        text-align: right;\n",
       "    }\n",
       "</style>\n",
       "<table border=\"1\" class=\"dataframe\">\n",
       "  <thead>\n",
       "    <tr style=\"text-align: right;\">\n",
       "      <th></th>\n",
       "      <th>Unnamed: 0</th>\n",
       "      <th>X</th>\n",
       "      <th>Sample_Type</th>\n",
       "      <th>overallpath</th>\n",
       "    </tr>\n",
       "  </thead>\n",
       "  <tbody>\n",
       "    <tr>\n",
       "      <th>0</th>\n",
       "      <td>1</td>\n",
       "      <td>200397540076_R01C01</td>\n",
       "      <td>Oncocytoma</td>\n",
       "      <td>1</td>\n",
       "    </tr>\n",
       "    <tr>\n",
       "      <th>2</th>\n",
       "      <td>3</td>\n",
       "      <td>200397540076_R03C01</td>\n",
       "      <td>Oncocytoma</td>\n",
       "      <td>1</td>\n",
       "    </tr>\n",
       "    <tr>\n",
       "      <th>4</th>\n",
       "      <td>5</td>\n",
       "      <td>200397540076_R05C01</td>\n",
       "      <td>Oncocytoma</td>\n",
       "      <td>1</td>\n",
       "    </tr>\n",
       "    <tr>\n",
       "      <th>6</th>\n",
       "      <td>7</td>\n",
       "      <td>200397540076_R01C02</td>\n",
       "      <td>RCC-Chromophobe</td>\n",
       "      <td>0</td>\n",
       "    </tr>\n",
       "    <tr>\n",
       "      <th>8</th>\n",
       "      <td>9</td>\n",
       "      <td>200397540076_R03C02</td>\n",
       "      <td>RCC-Chromophobe</td>\n",
       "      <td>0</td>\n",
       "    </tr>\n",
       "    <tr>\n",
       "      <th>10</th>\n",
       "      <td>11</td>\n",
       "      <td>200397540076_R05C02</td>\n",
       "      <td>RCC-Chromophobe</td>\n",
       "      <td>0</td>\n",
       "    </tr>\n",
       "    <tr>\n",
       "      <th>12</th>\n",
       "      <td>13</td>\n",
       "      <td>200397540082_R01C01</td>\n",
       "      <td>Oncocytoma</td>\n",
       "      <td>1</td>\n",
       "    </tr>\n",
       "    <tr>\n",
       "      <th>14</th>\n",
       "      <td>15</td>\n",
       "      <td>200397540082_R03C01</td>\n",
       "      <td>Oncocytoma</td>\n",
       "      <td>1</td>\n",
       "    </tr>\n",
       "    <tr>\n",
       "      <th>16</th>\n",
       "      <td>17</td>\n",
       "      <td>200397540082_R05C01</td>\n",
       "      <td>Oncocytoma</td>\n",
       "      <td>1</td>\n",
       "    </tr>\n",
       "    <tr>\n",
       "      <th>18</th>\n",
       "      <td>19</td>\n",
       "      <td>200397540082_R01C02</td>\n",
       "      <td>RCC-Chromophobe</td>\n",
       "      <td>0</td>\n",
       "    </tr>\n",
       "    <tr>\n",
       "      <th>20</th>\n",
       "      <td>21</td>\n",
       "      <td>200397540082_R03C02</td>\n",
       "      <td>RCC-Chromophobe</td>\n",
       "      <td>0</td>\n",
       "    </tr>\n",
       "    <tr>\n",
       "      <th>22</th>\n",
       "      <td>23</td>\n",
       "      <td>200397540082_R05C02</td>\n",
       "      <td>Oncocytoma</td>\n",
       "      <td>1</td>\n",
       "    </tr>\n",
       "    <tr>\n",
       "      <th>25</th>\n",
       "      <td>26</td>\n",
       "      <td>200397540095_R02C01</td>\n",
       "      <td>Oncocytoma</td>\n",
       "      <td>1</td>\n",
       "    </tr>\n",
       "    <tr>\n",
       "      <th>26</th>\n",
       "      <td>27</td>\n",
       "      <td>200397540095_R03C01</td>\n",
       "      <td>Oncocytoma</td>\n",
       "      <td>1</td>\n",
       "    </tr>\n",
       "    <tr>\n",
       "      <th>27</th>\n",
       "      <td>28</td>\n",
       "      <td>200397540095_R04C01</td>\n",
       "      <td>Oncocytoma</td>\n",
       "      <td>1</td>\n",
       "    </tr>\n",
       "    <tr>\n",
       "      <th>28</th>\n",
       "      <td>29</td>\n",
       "      <td>200397540095_R05C01</td>\n",
       "      <td>RCC-Chromophobe</td>\n",
       "      <td>0</td>\n",
       "    </tr>\n",
       "    <tr>\n",
       "      <th>29</th>\n",
       "      <td>30</td>\n",
       "      <td>200397540095_R06C01</td>\n",
       "      <td>RCC-Chromophobe</td>\n",
       "      <td>0</td>\n",
       "    </tr>\n",
       "    <tr>\n",
       "      <th>30</th>\n",
       "      <td>32</td>\n",
       "      <td>200397540095_R02C02</td>\n",
       "      <td>RCC-Chromophobe</td>\n",
       "      <td>0</td>\n",
       "    </tr>\n",
       "    <tr>\n",
       "      <th>33</th>\n",
       "      <td>37</td>\n",
       "      <td>200394970099_R01C01</td>\n",
       "      <td>Oncocytoma</td>\n",
       "      <td>1</td>\n",
       "    </tr>\n",
       "    <tr>\n",
       "      <th>34</th>\n",
       "      <td>38</td>\n",
       "      <td>200394970099_R02C01</td>\n",
       "      <td>Oncocytoma</td>\n",
       "      <td>1</td>\n",
       "    </tr>\n",
       "  </tbody>\n",
       "</table>\n",
       "</div>"
      ],
      "text/plain": [
       "    Unnamed: 0                    X      Sample_Type  overallpath\n",
       "0            1  200397540076_R01C01       Oncocytoma            1\n",
       "2            3  200397540076_R03C01       Oncocytoma            1\n",
       "4            5  200397540076_R05C01       Oncocytoma            1\n",
       "6            7  200397540076_R01C02  RCC-Chromophobe            0\n",
       "8            9  200397540076_R03C02  RCC-Chromophobe            0\n",
       "10          11  200397540076_R05C02  RCC-Chromophobe            0\n",
       "12          13  200397540082_R01C01       Oncocytoma            1\n",
       "14          15  200397540082_R03C01       Oncocytoma            1\n",
       "16          17  200397540082_R05C01       Oncocytoma            1\n",
       "18          19  200397540082_R01C02  RCC-Chromophobe            0\n",
       "20          21  200397540082_R03C02  RCC-Chromophobe            0\n",
       "22          23  200397540082_R05C02       Oncocytoma            1\n",
       "25          26  200397540095_R02C01       Oncocytoma            1\n",
       "26          27  200397540095_R03C01       Oncocytoma            1\n",
       "27          28  200397540095_R04C01       Oncocytoma            1\n",
       "28          29  200397540095_R05C01  RCC-Chromophobe            0\n",
       "29          30  200397540095_R06C01  RCC-Chromophobe            0\n",
       "30          32  200397540095_R02C02  RCC-Chromophobe            0\n",
       "33          37  200394970099_R01C01       Oncocytoma            1\n",
       "34          38  200394970099_R02C01       Oncocytoma            1"
      ]
     },
     "execution_count": 103,
     "metadata": {},
     "output_type": "execute_result"
    },
    {
     "data": {
      "text/plain": [
       "(20, 4)"
      ]
     },
     "execution_count": 103,
     "metadata": {},
     "output_type": "execute_result"
    },
    {
     "data": {
      "text/plain": [
       "1    12\n",
       "0     8\n",
       "Name: overallpath, dtype: int64"
      ]
     },
     "execution_count": 103,
     "metadata": {},
     "output_type": "execute_result"
    },
    {
     "data": {
      "text/plain": [
       "array([[ -2.41045349,   4.12970443,  -3.6732651 , ...,  -4.68587172,\n",
       "         -4.87860855,  -5.57814967],\n",
       "       [ -0.67711457,   3.43285103,  -3.85659065, ...,  -5.23622619,\n",
       "         -5.59005142,  -5.04139492],\n",
       "       [  0.37191112,   3.21293839,  -3.44680607, ...,  -5.2507217 ,\n",
       "         -5.34545143,  -5.03268355],\n",
       "       ...,\n",
       "       [ -0.44252565,   3.52594815,  -3.7131038 , ...,  -5.21859867,\n",
       "         -5.34152061,  -5.33820935],\n",
       "       [ -0.36915394,   3.62126506,  -4.15371177, ...,  -7.00173019,\n",
       "         -6.73530697,  -5.02244658],\n",
       "       [  0.19385097,   3.93920297,  -3.78034858, ...,  -5.93155689,\n",
       "         -6.46434214, -14.4472124 ]])"
      ]
     },
     "execution_count": 103,
     "metadata": {},
     "output_type": "execute_result"
    },
    {
     "data": {
      "text/plain": [
       "(20, 158670)"
      ]
     },
     "execution_count": 103,
     "metadata": {},
     "output_type": "execute_result"
    }
   ],
   "source": [
    "# load Brennan data\n",
    "import pandas as pd\n",
    "data_brennan = pd.read_csv(path+'data/Brennandata/preprocessed_validation_m_vals.csv')\n",
    "data_brennan\n",
    "\n",
    "seqnames = data_brennan['seqnames']\n",
    "start = data_brennan['start']\n",
    "colnames = data_brennan.columns[3:]\n",
    "\n",
    "diagnoses_brennan = pd.read_csv(path+'data/Brennandata/preprocessed_validation_diagnoses.csv')\n",
    "mapping = {'Normal kidney parenchyma': 0, 'Clear cell RCC': 1, 'RCC-Chromophobe': 2, 'Oncocytoma': 3}\n",
    "diagnoses_brennan['overallpath'] = [mapping[l] for l in diagnoses_brennan['Sample_Type']]\n",
    "\n",
    "(data_brennan.columns[3:] == 'X' + diagnoses_brennan['X']).mean() # diagnoses in same order as columns\n",
    "\n",
    "# put in numpy array and transpose:\n",
    "data_brennan = np.transpose(np.array(data_brennan.iloc[:,3:]))\n",
    "\n",
    "# only take chRCC and onc samples\n",
    "indices_to_take = diagnoses_brennan['overallpath'].isin([2, 3])\n",
    "diagnoses_brennan = diagnoses_brennan[indices_to_take]\n",
    "diagnoses_brennan['overallpath'] = diagnoses_brennan['overallpath'] - 2 # turn 2, 3 labels into 0, 1 to match the model's class labelling\n",
    "data_brennan = data_brennan[indices_to_take]\n",
    "\n",
    "diagnoses_brennan\n",
    "diagnoses_brennan.shape\n",
    "diagnoses_brennan['overallpath'].value_counts()\n",
    "data_brennan\n",
    "data_brennan.shape"
   ]
  },
  {
   "cell_type": "code",
   "execution_count": 104,
   "metadata": {},
   "outputs": [
    {
     "data": {
      "text/plain": [
       "(32, 2)"
      ]
     },
     "execution_count": 104,
     "metadata": {},
     "output_type": "execute_result"
    },
    {
     "data": {
      "image/png": "[encoded data removed]",
      "text/plain": [
       "<Figure size 432x288 with 1 Axes>"
      ]
     },
     "metadata": {},
     "output_type": "display_data"
    },
    {
     "data": {
      "text/plain": [
       "(20, 2)"
      ]
     },
     "execution_count": 104,
     "metadata": {},
     "output_type": "execute_result"
    },
    {
     "data": {
      "image/png": "[encoded data removed]",
      "text/plain": [
       "<Figure size 432x288 with 1 Axes>"
      ]
     },
     "metadata": {},
     "output_type": "display_data"
    }
   ],
   "source": [
    "# PCA both datasets to check they look roughly correct\n",
    "\n",
    "from sklearn.decomposition import PCA\n",
    "pca = PCA(n_components=2)\n",
    "embedding=pca.fit_transform(np.nan_to_num(data_chopra))\n",
    "embedding.shape\n",
    "import matplotlib.pyplot as plt\n",
    "s = plt.scatter(embedding[:,0], embedding[:,1], c=diagnoses_chopra['overallpath'], cmap='rainbow')\n",
    "plt.show()\n",
    "\n",
    "pca = PCA(n_components=2)\n",
    "embedding=pca.fit_transform(np.nan_to_num(data_brennan))\n",
    "embedding.shape\n",
    "import matplotlib.pyplot as plt\n",
    "s = plt.scatter(embedding[:,0], embedding[:,1], c=diagnoses_brennan['overallpath'], cmap='rainbow')\n",
    "\n"
   ]
  },
  {
   "cell_type": "code",
   "execution_count": 105,
   "metadata": {},
   "outputs": [],
   "source": [
    "def get_model(i):\n",
    "    import joblib\n",
    "    model = joblib.load('figs_hyperparameter_tuning/xgboost_models/' + str(i) + '.pkl')\n",
    "    return(model)"
   ]
  },
  {
   "cell_type": "code",
   "execution_count": 106,
   "metadata": {},
   "outputs": [
    {
     "name": "stdout",
     "output_type": "stream",
     "text": [
      "Accuracies are [0.1875, 0.1875, 0.1875, 0.1875]\n",
      "Average acc is  0.1875\n",
      "Average ROC AUC for each class: \n"
     ]
    },
    {
     "data": {
      "text/html": [
       "<div>\n",
       "<style scoped>\n",
       "    .dataframe tbody tr th:only-of-type {\n",
       "        vertical-align: middle;\n",
       "    }\n",
       "\n",
       "    .dataframe tbody tr th {\n",
       "        vertical-align: top;\n",
       "    }\n",
       "\n",
       "    .dataframe thead th {\n",
       "        text-align: right;\n",
       "    }\n",
       "</style>\n",
       "<table border=\"1\" class=\"dataframe\">\n",
       "  <thead>\n",
       "    <tr style=\"text-align: right;\">\n",
       "      <th></th>\n",
       "      <th>ROC AUC</th>\n",
       "    </tr>\n",
       "  </thead>\n",
       "  <tbody>\n",
       "    <tr>\n",
       "      <th>chRCC</th>\n",
       "      <td>0.730769</td>\n",
       "    </tr>\n",
       "    <tr>\n",
       "      <th>oncocytoma</th>\n",
       "      <td>0.730769</td>\n",
       "    </tr>\n",
       "  </tbody>\n",
       "</table>\n",
       "</div>"
      ],
      "text/plain": [
       "             ROC AUC\n",
       "chRCC       0.730769\n",
       "oncocytoma  0.730769"
      ]
     },
     "execution_count": 106,
     "metadata": {},
     "output_type": "execute_result"
    },
    {
     "name": "stdout",
     "output_type": "stream",
     "text": [
      "Average PR AUC for each class: \n"
     ]
    },
    {
     "data": {
      "text/html": [
       "<div>\n",
       "<style scoped>\n",
       "    .dataframe tbody tr th:only-of-type {\n",
       "        vertical-align: middle;\n",
       "    }\n",
       "\n",
       "    .dataframe tbody tr th {\n",
       "        vertical-align: top;\n",
       "    }\n",
       "\n",
       "    .dataframe thead th {\n",
       "        text-align: right;\n",
       "    }\n",
       "</style>\n",
       "<table border=\"1\" class=\"dataframe\">\n",
       "  <thead>\n",
       "    <tr style=\"text-align: right;\">\n",
       "      <th></th>\n",
       "      <th>PR AUC</th>\n",
       "    </tr>\n",
       "  </thead>\n",
       "  <tbody>\n",
       "    <tr>\n",
       "      <th>chRCC</th>\n",
       "      <td>0.472417</td>\n",
       "    </tr>\n",
       "    <tr>\n",
       "      <th>oncocytoma</th>\n",
       "      <td>0.918143</td>\n",
       "    </tr>\n",
       "  </tbody>\n",
       "</table>\n",
       "</div>"
      ],
      "text/plain": [
       "              PR AUC\n",
       "chRCC       0.472417\n",
       "oncocytoma  0.918143"
      ]
     },
     "execution_count": 106,
     "metadata": {},
     "output_type": "execute_result"
    },
    {
     "data": {
      "image/png": "[encoded data removed]",
      "text/plain": [
       "<Figure size 432x288 with 1 Axes>"
      ]
     },
     "metadata": {},
     "output_type": "display_data"
    }
   ],
   "source": [
    "# Chopra results\n",
    "\n",
    "from sklearn.metrics import confusion_matrix\n",
    "from Evaluate import plot_curve, plot_confusion_matrix\n",
    "# now we can predict with each model\n",
    "accs = []\n",
    "roc_aucs = []\n",
    "pr_aucs = []\n",
    "for model_num in range(4):\n",
    "\n",
    "    model=get_model(model_num)\n",
    "\n",
    "    predictions = model.predict(data_chopra)\n",
    "    probs = model.predict_proba(data_chopra)\n",
    "\n",
    "    acc = (diagnoses_chopra['overallpath'] == predictions).mean()\n",
    "    accs. append(acc)\n",
    "\n",
    "    cm_labels = ['chRCC', 'onc']\n",
    "    plot_confusion_matrix(confusion_matrix(diagnoses_chopra['overallpath'], predictions), 'xgboost_onc_vs_chRCC', save_path = 'figs_hyperparameter_tuning/validation_results/chopra_confusion_matrix_' + str(model_num) + '.svg', font_size = 36, cm_labels = cm_labels)\n",
    "\n",
    "    colours = [\"#000000\", \"#D55E00\"]\n",
    "    roc_auc = plot_curve('roc', diagnoses_chopra['overallpath'], probs, len(cm_labels), cm_labels, colours, str(model_num), save_folder = 'figs_hyperparameter_tuning/validation_results/chopra_')\n",
    "    roc_aucs.append(roc_auc)\n",
    "\n",
    "    pr_auc = plot_curve('precision_recall', diagnoses_chopra['overallpath'], probs, len(cm_labels), cm_labels, colours, str(model_num), save_folder = 'figs_hyperparameter_tuning/validation_results/chopra_')\n",
    "    pr_aucs.append(pr_auc)\n",
    "\n",
    "print('Accuracies are', accs)\n",
    "print('Average acc is ', np.mean(accs))\n",
    "print('Average ROC AUC for each class: ')\n",
    "pd.DataFrame(np.mean(roc_aucs, axis = 0), index = ['chRCC', 'oncocytoma'], columns = ['ROC AUC'])\n",
    "\n",
    "print('Average PR AUC for each class: ')\n",
    "pd.DataFrame(np.mean(pr_aucs, axis = 0), index = ['chRCC', 'oncocytoma'], columns = ['PR AUC'])\n"
   ]
  },
  {
   "cell_type": "code",
   "execution_count": 107,
   "metadata": {},
   "outputs": [
    {
     "data": {
      "text/plain": [
       "[array([0.87179487, 0.87179487]),\n",
       " array([0.83333333, 0.83333333]),\n",
       " array([0.6474359, 0.6474359]),\n",
       " array([0.57051282, 0.57051282])]"
      ]
     },
     "execution_count": 107,
     "metadata": {},
     "output_type": "execute_result"
    },
    {
     "data": {
      "text/plain": [
       "[[0.6614748677248676, 0.969270960921282],\n",
       " [0.6277824912016088, 0.9581325290225693],\n",
       " [0.39289234730411204, 0.8903505899511694],\n",
       " [0.2075194185014275, 0.8548197691839848]]"
      ]
     },
     "execution_count": 107,
     "metadata": {},
     "output_type": "execute_result"
    }
   ],
   "source": [
    "roc_aucs\n",
    "pr_aucs"
   ]
  },
  {
   "cell_type": "code",
   "execution_count": 108,
   "metadata": {},
   "outputs": [
    {
     "name": "stdout",
     "output_type": "stream",
     "text": [
      "Accuracies are [0.4, 0.4, 0.4, 0.4]\n",
      "Average acc is  0.4\n",
      "Average ROC AUC for each class: \n"
     ]
    },
    {
     "data": {
      "text/html": [
       "<div>\n",
       "<style scoped>\n",
       "    .dataframe tbody tr th:only-of-type {\n",
       "        vertical-align: middle;\n",
       "    }\n",
       "\n",
       "    .dataframe tbody tr th {\n",
       "        vertical-align: top;\n",
       "    }\n",
       "\n",
       "    .dataframe thead th {\n",
       "        text-align: right;\n",
       "    }\n",
       "</style>\n",
       "<table border=\"1\" class=\"dataframe\">\n",
       "  <thead>\n",
       "    <tr style=\"text-align: right;\">\n",
       "      <th></th>\n",
       "      <th>ROC AUC</th>\n",
       "    </tr>\n",
       "  </thead>\n",
       "  <tbody>\n",
       "    <tr>\n",
       "      <th>chRCC</th>\n",
       "      <td>0.953125</td>\n",
       "    </tr>\n",
       "    <tr>\n",
       "      <th>oncocytoma</th>\n",
       "      <td>0.953125</td>\n",
       "    </tr>\n",
       "  </tbody>\n",
       "</table>\n",
       "</div>"
      ],
      "text/plain": [
       "             ROC AUC\n",
       "chRCC       0.953125\n",
       "oncocytoma  0.953125"
      ]
     },
     "execution_count": 108,
     "metadata": {},
     "output_type": "execute_result"
    },
    {
     "name": "stdout",
     "output_type": "stream",
     "text": [
      "Average PR AUC for each class: \n"
     ]
    },
    {
     "data": {
      "text/html": [
       "<div>\n",
       "<style scoped>\n",
       "    .dataframe tbody tr th:only-of-type {\n",
       "        vertical-align: middle;\n",
       "    }\n",
       "\n",
       "    .dataframe tbody tr th {\n",
       "        vertical-align: top;\n",
       "    }\n",
       "\n",
       "    .dataframe thead th {\n",
       "        text-align: right;\n",
       "    }\n",
       "</style>\n",
       "<table border=\"1\" class=\"dataframe\">\n",
       "  <thead>\n",
       "    <tr style=\"text-align: right;\">\n",
       "      <th></th>\n",
       "      <th>PR AUC</th>\n",
       "    </tr>\n",
       "  </thead>\n",
       "  <tbody>\n",
       "    <tr>\n",
       "      <th>chRCC</th>\n",
       "      <td>0.929909</td>\n",
       "    </tr>\n",
       "    <tr>\n",
       "      <th>oncocytoma</th>\n",
       "      <td>0.972574</td>\n",
       "    </tr>\n",
       "  </tbody>\n",
       "</table>\n",
       "</div>"
      ],
      "text/plain": [
       "              PR AUC\n",
       "chRCC       0.929909\n",
       "oncocytoma  0.972574"
      ]
     },
     "execution_count": 108,
     "metadata": {},
     "output_type": "execute_result"
    },
    {
     "data": {
      "image/png": "[encoded data removed]",
      "text/plain": [
       "<Figure size 432x288 with 1 Axes>"
      ]
     },
     "metadata": {},
     "output_type": "display_data"
    }
   ],
   "source": [
    "# Brennan results\n",
    "\n",
    "from sklearn.metrics import confusion_matrix\n",
    "from Evaluate import plot_curve, plot_confusion_matrix\n",
    "# now we can predict with each model\n",
    "accs = []\n",
    "roc_aucs = []\n",
    "pr_aucs = []\n",
    "for model_num in range(4):\n",
    "\n",
    "    model=get_model(model_num)\n",
    "\n",
    "    predictions = model.predict(data_brennan)\n",
    "    probs = model.predict_proba(data_brennan)\n",
    "\n",
    "    acc = (diagnoses_brennan['overallpath'] == predictions).mean()\n",
    "    accs.append(acc)\n",
    "\n",
    "    cm_labels = ['chRCC', 'onc']\n",
    "    plot_confusion_matrix(confusion_matrix(diagnoses_brennan['overallpath'], predictions), 'xgboost_onc_vs_chRCC', save_path = 'figs_hyperparameter_tuning/validation_results/brennan_confusion_matrix_' + str(model_num) + '.svg', font_size = 36, cm_labels = cm_labels)\n",
    "\n",
    "    colours = [\"#000000\", \"#D55E00\"]\n",
    "    roc_auc = plot_curve('roc', diagnoses_brennan['overallpath'], probs, len(cm_labels), cm_labels, colours, str(model_num), save_folder = 'figs_hyperparameter_tuning/validation_results/brennan_')\n",
    "    roc_aucs.append(roc_auc)\n",
    "\n",
    "    pr_auc = plot_curve('precision_recall', diagnoses_brennan['overallpath'], probs, len(cm_labels), cm_labels, colours, str(model_num), save_folder = 'figs_hyperparameter_tuning/validation_results/brennan_')\n",
    "    pr_aucs.append(pr_auc)\n",
    "\n",
    "print('Accuracies are', accs)\n",
    "print('Average acc is ', np.mean(accs))\n",
    "print('Average ROC AUC for each class: ')\n",
    "pd.DataFrame(np.mean(roc_aucs, axis = 0), index = ['chRCC', 'oncocytoma'], columns = ['ROC AUC'])\n",
    "\n",
    "print('Average PR AUC for each class: ')\n",
    "pd.DataFrame(np.mean(pr_aucs, axis = 0), index = ['chRCC', 'oncocytoma'], columns = ['PR AUC'])\n"
   ]
  },
  {
   "cell_type": "code",
   "execution_count": 109,
   "metadata": {},
   "outputs": [
    {
     "data": {
      "text/plain": [
       "[array([0.94791667, 0.94791667]),\n",
       " array([0.95833333, 0.95833333]),\n",
       " array([0.94791667, 0.94791667]),\n",
       " array([0.95833333, 0.95833333])]"
      ]
     },
     "execution_count": 109,
     "metadata": {},
     "output_type": "execute_result"
    },
    {
     "data": {
      "text/plain": [
       "[[0.9346906565656565, 0.9663281163281164],\n",
       " [0.9440972222222223, 0.974282661782662],\n",
       " [0.9146081349206349, 0.9712121212121212],\n",
       " [0.9262400793650793, 0.9784722222222222]]"
      ]
     },
     "execution_count": 109,
     "metadata": {},
     "output_type": "execute_result"
    }
   ],
   "source": [
    "roc_aucs\n",
    "pr_aucs"
   ]
  },
  {
   "cell_type": "markdown",
   "metadata": {},
   "source": [
    "### These results show that the threshold does not generalise to the new datasets, but the output probabilities do (for Brennan, not really Chopra). We can plot the probabilities to show this:\n"
   ]
  },
  {
   "cell_type": "code",
   "execution_count": 131,
   "metadata": {},
   "outputs": [
    {
     "data": {
      "text/plain": [
       "<AxesSubplot:>"
      ]
     },
     "execution_count": 131,
     "metadata": {},
     "output_type": "execute_result"
    },
    {
     "data": {
      "image/png": "[encoded data removed]",
      "text/plain": [
       "<Figure size 432x288 with 2 Axes>"
      ]
     },
     "metadata": {},
     "output_type": "display_data"
    },
    {
     "data": {
      "text/plain": [
       "<Figure size 180x432 with 0 Axes>"
      ]
     },
     "execution_count": 131,
     "metadata": {},
     "output_type": "execute_result"
    },
    {
     "data": {
      "text/plain": [
       "<AxesSubplot:xlabel='label'>"
      ]
     },
     "execution_count": 131,
     "metadata": {},
     "output_type": "execute_result"
    },
    {
     "data": {
      "text/plain": [
       "<AxesSubplot:xlabel='label'>"
      ]
     },
     "execution_count": 131,
     "metadata": {},
     "output_type": "execute_result"
    },
    {
     "data": {
      "text/plain": [
       "<matplotlib.legend.Legend at 0x7f8cb89e4710>"
      ]
     },
     "execution_count": 131,
     "metadata": {},
     "output_type": "execute_result"
    },
    {
     "data": {
      "image/png": "[encoded data removed]",
      "text/plain": [
       "<Figure size 180x432 with 1 Axes>"
      ]
     },
     "metadata": {},
     "output_type": "display_data"
    }
   ],
   "source": [
    "# probabilities for Chopra\n",
    "model=get_model(0)\n",
    "\n",
    "predictions = model.predict(data_chopra)\n",
    "# predictions\n",
    "probs = model.predict_proba(data_chopra)\n",
    "# probs\n",
    "\n",
    "correct_col = np.array(diagnoses_chopra['overallpath']).reshape((-1, 1))\n",
    "to_plot = np.concatenate([probs[:,1:2], correct_col], axis=1)# plots probability of class 1 (oncocytoma) vs the actual class 1s (oncocytoms)\n",
    "import seaborn as sb\n",
    "sb.heatmap(to_plot, cmap='gist_heat_r')\n",
    "plt.show()\n",
    "\n",
    "# alteratively, plotting as scatter plot:\n",
    "# plotting probability of being chRCC (class 0)\n",
    "plt.figure(figsize=(2.5, 6))\n",
    "xs = diagnoses_chopra['label']\n",
    "xs = xs.replace('KICH', 'chRCC')\n",
    "\n",
    "\n",
    "sb.stripplot(x=xs, y= probs[:,0], order = ['chRCC', 'oncocytoma'], hue=diagnoses_chopra['overallpath'], palette = [ \"#000000\", \"#D55E00\"], jitter=0)\n",
    "sb.boxplot(x=xs, y= probs[:,0], order = ['chRCC', 'oncocytoma'], hue=diagnoses_chopra['overallpath'], boxprops=dict(alpha=.3), dodge=False, palette = [ \"#000000\", \"#D55E00\"])\n",
    "plt.legend(title='Class', bbox_to_anchor=(1.7, 0.05), loc='lower right', borderaxespad=0.)\n",
    "plt.savefig('figs_hyperparameter_tuning/validation_results/probabilities_for_chRCC_model_0_Chopra.svg', bbox_inches='tight')\n"
   ]
  },
  {
   "cell_type": "code",
   "execution_count": 137,
   "metadata": {},
   "outputs": [
    {
     "data": {
      "text/plain": [
       "<AxesSubplot:>"
      ]
     },
     "execution_count": 137,
     "metadata": {},
     "output_type": "execute_result"
    },
    {
     "data": {
      "text/plain": [
       "<Figure size 144x432 with 0 Axes>"
      ]
     },
     "execution_count": 137,
     "metadata": {},
     "output_type": "execute_result"
    },
    {
     "data": {
      "text/plain": [
       "<AxesSubplot:xlabel='Sample_Type'>"
      ]
     },
     "execution_count": 137,
     "metadata": {},
     "output_type": "execute_result"
    },
    {
     "data": {
      "text/plain": [
       "<AxesSubplot:xlabel='Sample_Type'>"
      ]
     },
     "execution_count": 137,
     "metadata": {},
     "output_type": "execute_result"
    },
    {
     "data": {
      "text/plain": [
       "<matplotlib.legend.Legend at 0x7f8cb7054a10>"
      ]
     },
     "execution_count": 137,
     "metadata": {},
     "output_type": "execute_result"
    },
    {
     "data": {
      "image/png": "[encoded data removed]",
      "text/plain": [
       "<Figure size 432x288 with 2 Axes>"
      ]
     },
     "metadata": {},
     "output_type": "display_data"
    },
    {
     "data": {
      "image/png": "[encoded data removed]",
      "text/plain": [
       "<Figure size 144x432 with 1 Axes>"
      ]
     },
     "metadata": {},
     "output_type": "display_data"
    }
   ],
   "source": [
    "# probabilities for Brennan\n",
    "model=get_model(0)\n",
    "\n",
    "predictions = model.predict(data_brennan)\n",
    "# predictions\n",
    "probs = model.predict_proba(data_brennan)\n",
    "# probs\n",
    "\n",
    "correct_col = np.array(diagnoses_brennan['overallpath']).reshape((-1, 1))\n",
    "to_plot = np.concatenate([probs[:,1:2], correct_col], axis=1)# plots probability of class 1 (oncocytoma) vs the actual class 1s (oncocytoms)\n",
    "import seaborn as sb\n",
    "sb.heatmap(to_plot, cmap='gist_heat_r')\n",
    "\n",
    "# alteratively, plotting as scatter plot:\n",
    "# probability of being chRCC\n",
    "plt.figure(figsize=(2, 6))\n",
    "\n",
    "xs = diagnoses_brennan['Sample_Type']\n",
    "xs = xs.replace('Oncocytoma', 'oncocytoma').replace('RCC-Chromophobe', 'chRCC')\n",
    "\n",
    "sb.stripplot(x=xs, y= probs[:,0], order = ['chRCC', 'oncocytoma'], hue=diagnoses_brennan['overallpath'], palette = [ \"#000000\", \"#D55E00\"], jitter=0)\n",
    "sb.boxplot(x=xs, y= probs[:,0], order = ['chRCC', 'oncocytoma'], hue=diagnoses_brennan['overallpath'], boxprops=dict(alpha=.3), dodge=False, palette = [ \"#000000\", \"#D55E00\"])\n",
    "plt.legend(title='Class', bbox_to_anchor=(1.7, 0.05), loc='lower right', borderaxespad=0.)\n",
    "plt.savefig('figs_hyperparameter_tuning/validation_results/probabilities_for_chRCC_model_0_Brennan.svg', bbox_inches='tight')\n"
   ]
  },
  {
   "cell_type": "code",
   "execution_count": 99,
   "metadata": {},
   "outputs": [
    {
     "data": {
      "text/plain": [
       "0.95"
      ]
     },
     "execution_count": 99,
     "metadata": {},
     "output_type": "execute_result"
    },
    {
     "data": {
      "text/plain": [
       "array([[ 8,  0],\n",
       "       [ 1, 11]])"
      ]
     },
     "execution_count": 99,
     "metadata": {},
     "output_type": "execute_result"
    }
   ],
   "source": [
    "# so using a new manually tuned threshold, the maximum accuracy we can get is:\n",
    "# for Brennan:\n",
    "predictions = model.predict(data_brennan)\n",
    "probs = model.predict_proba(data_brennan)\n",
    "\n",
    "manual_predictions = probs[:,1] > 0.017\n",
    "\n",
    "np.mean(manual_predictions == diagnoses_brennan['overallpath'])\n",
    "\n",
    "confusion_matrix(diagnoses_brennan['overallpath'], manual_predictions)"
   ]
  },
  {
   "cell_type": "code",
   "execution_count": 69,
   "metadata": {},
   "outputs": [
    {
     "data": {
      "text/plain": [
       "array([False,  True,  True, False,  True, False,  True,  True,  True,\n",
       "       False,  True,  True,  True, False, False,  True,  True,  True,\n",
       "        True,  True,  True, False, False, False,  True,  True,  True,\n",
       "        True,  True,  True,  True, False])"
      ]
     },
     "execution_count": 69,
     "metadata": {},
     "output_type": "execute_result"
    },
    {
     "data": {
      "text/plain": [
       "0.6875"
      ]
     },
     "execution_count": 69,
     "metadata": {},
     "output_type": "execute_result"
    },
    {
     "data": {
      "text/plain": [
       "array([[ 3,  3],\n",
       "       [ 7, 19]])"
      ]
     },
     "execution_count": 69,
     "metadata": {},
     "output_type": "execute_result"
    }
   ],
   "source": [
    "# and for Chopra:\n",
    "predictions = model.predict(data_chopra)\n",
    "probs = model.predict_proba(data_chopra)\n",
    "\n",
    "manual_predictions = probs[:,1] > 0.009 # not perfect, but the ideal threshold is around here\n",
    "manual_predictions\n",
    "\n",
    "np.mean(manual_predictions == diagnoses_chopra['overallpath'])\n",
    "\n",
    "confusion_matrix(diagnoses_chopra['overallpath'], manual_predictions)"
   ]
  }
 ],
 "metadata": {
  "kernelspec": {
   "display_name": "Python 3",
   "language": "python",
   "name": "python3"
  },
  "language_info": {
   "codemirror_mode": {
    "name": "ipython",
    "version": 3
   },
   "file_extension": ".py",
   "mimetype": "text/x-python",
   "name": "python",
   "nbconvert_exporter": "python",
   "pygments_lexer": "ipython3",
   "version": "3.7.7"
  }
 },
 "nbformat": 4,
 "nbformat_minor": 2
}
