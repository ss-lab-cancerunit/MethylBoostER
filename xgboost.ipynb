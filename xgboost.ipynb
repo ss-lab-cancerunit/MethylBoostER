{
 "cells": [
  {
   "cell_type": "markdown",
   "metadata": {},
   "source": [
    "# MethylBoostER - XGBoost for classifying Kidney cancer\n",
    "\n",
    "To run this training, it takes several days. Would recommend downloading as a .py to run, so you don't need a jupyter notebook being up for days. "
   ]
  },
  {
   "cell_type": "code",
   "execution_count": 69,
   "metadata": {},
   "outputs": [],
   "source": [
    "import pandas as pd\n",
    "import numpy as np\n",
    "\n",
    "# returns data and labels, ready to be put into a model\n",
    "# for now, generates dummy data\n",
    "def get_data():\n",
    "    # read in diagnoses and get pooled_labels and patient ids\n",
    "    diagnoses = pd.read_csv('data/training_testing_diagnoses_maxgap_50_newdata.csv', sep = ',')\n",
    "    \n",
    "    beta_array = pd.read_csv('data/training_testing_maxgap_50_newdata.csv')\n",
    "    seqnames = beta_array['seqnames']\n",
    "    start = beta_array['start']\n",
    "    colnames = beta_array.columns[2:]\n",
    "    raw_data = np.array(beta_array.iloc[:, 2:])\n",
    "    raw_data = np.transpose(raw_data)\n",
    "                      \n",
    "    return(raw_data, seqnames, start, colnames, diagnoses)\n",
    "\n",
    "# getting dummy data: (if you want to test things, this data is very quick to run)\n",
    "def get_dummy_data():\n",
    "    # read in diagnoses and get pooled_labels and patient ids\n",
    "    diagnoses = pd.read_csv('data/training_testing_diagnoses_maxgap_50_newdata.csv', sep = ',')\n",
    "    \n",
    "    # create raw data between 0 and 1: (like beta value)\n",
    "    means = diagnoses.iloc[2:]['overallpath']\n",
    "    raw_data = [np.random.normal(mean/10, 0.05, 10) for mean in means]\n",
    "    raw_data = np.abs(raw_data)\n",
    "    raw_data = np.array([[1 if n > 1 else n for n in r] for r in raw_data])\n",
    "    \n",
    "    return(raw_data, diagnoses)"
   ]
  },
  {
   "cell_type": "code",
   "execution_count": 70,
   "metadata": {},
   "outputs": [],
   "source": [
    "def preproc_diagnoses(diagnoses):\n",
    "    diagnoses = diagnoses.iloc[2:, ] # remove two redundant rows\n",
    "    diagnoses.loc[:, 'pooled_labels'] = [4 if d == 5 else d for d in diagnoses['overallpath']] # pool the papilary types\n",
    "    \n",
    "    diagnoses.loc[:, 'patient_id'] = list(map(lambda s: s[0], diagnoses['colname'].str.split('.'))) # get before '.' for all samples\n",
    "    diagnoses.loc[:, 'patient_id'] = np.where(diagnoses['colname'].str.contains('TCGA|R'), np.nan, diagnoses['patient_id']) # filter out TCGA and chopra\n",
    "    # replace nans with unique ids:\n",
    "    unique_ids = range(diagnoses['patient_id'].isna().sum()) # in integers\n",
    "    diagnoses.loc[diagnoses['patient_id'].isna(), 'patient_id'] = unique_ids\n",
    "    \n",
    "    labels = np.array(diagnoses['pooled_labels']).astype('int')\n",
    "    \n",
    "    # create names for the 5 classes\n",
    "    class_mapping = {0:'normal', 1:'ccRCC', 2:'chRCC', 3:'onc', 4:'prccT1andT2'}\n",
    "    classes = [0,1,2,3,4]\n",
    "    classes = [class_mapping[l] for l in classes]\n",
    "    \n",
    "    # and save\n",
    "    diagnoses[['colname', 'pooled_labels']].to_csv('data/training_testing_maxgap_50_newdata_processed_diagnoses.csv', index = False)\n",
    "    \n",
    "    return(diagnoses, labels, classes)"
   ]
  },
  {
   "cell_type": "code",
   "execution_count": 71,
   "metadata": {},
   "outputs": [],
   "source": [
    "# given m values, removes Inf and -Inf which are caused by a beta value of 1 and 0\n",
    "def deal_with_Inf(m_values_mat):\n",
    "    # I will set -Inf to the min value and Inf to the max value\n",
    "    # I did want to set it to the min and max possible value, but this causes overflow errors\n",
    "    max_val = np.nanmax(m_values_mat[np.logical_not(np.isinf(m_values_mat))]) # looking at m values that arn't Inf\n",
    "    min_val = np.nanmin(m_values_mat[np.logical_not(np.isinf(m_values_mat))]) \n",
    "    \n",
    "    print('min and max vals are ', min_val, max_val)\n",
    "    indices = np.argwhere(np.isinf(m_values_mat)) # where m values is +/- Inf\n",
    "    for i in range(len(indices)):\n",
    "        if m_values_mat[indices[i][0], indices[i][1]] > 0:\n",
    "            m_values_mat[indices[i][0], indices[i][1]] = max_val\n",
    "        else:\n",
    "            m_values_mat[indices[i][0], indices[i][1]] = min_val\n",
    "    return m_values_mat\n",
    "\n",
    "\n",
    "# turn beta values into m values, deal with infinite values\n",
    "def preproc_data(data, seqnames, start, colnames):\n",
    "    # turn into m values\n",
    "    m_vals = np.log2((data)/(1-data)) # this will result in inf and -infs!\n",
    "    \n",
    "    # deal with infinite values\n",
    "    m_vals = deal_with_Inf(m_vals)\n",
    "    \n",
    "    print('mean of data is ', np.nanmean(m_vals))\n",
    "    \n",
    "    # now save processed data in nice format\n",
    "    to_save = pd.DataFrame(np.transpose(m_vals)) # transpose so columns are samples\n",
    "    to_save.columns = colnames\n",
    "    to_save.insert(0, 'start', list(start))\n",
    "    to_save.insert(0, 'seqnames', list(seqnames))\n",
    "    to_save.to_csv('data/training_testing_maxgap_50_newdata_processed_m_vals.csv')\n",
    "    \n",
    "    return(m_vals)\n",
    "    "
   ]
  },
  {
   "cell_type": "code",
   "execution_count": 72,
   "metadata": {},
   "outputs": [],
   "source": [
    "# gets train and test arrays and labels\n",
    "# assumes data is a numpy array\n",
    "def get_train_test(data, labels, train_indices, test_indices):\n",
    "    train_x = data[train_indices, :]\n",
    "    test_x = data[test_indices, :]\n",
    "    train_y = labels[train_indices]\n",
    "    test_y = labels[test_indices]\n",
    "    return(train_x, test_x, train_y, test_y)\n"
   ]
  },
  {
   "cell_type": "code",
   "execution_count": 73,
   "metadata": {},
   "outputs": [],
   "source": [
    "# functions to save xgboost evaluation results when training (called in function objective)\n",
    "import os\n",
    "def get_evals_result_name():\n",
    "    nums = set(os.listdir('figs_xgboost/evals_results/')) - set(['.ipynb_checkpoints'])\n",
    "    if nums == set():\n",
    "        return('1')\n",
    "    nums = [int(n) for n in nums]\n",
    "    name = max(nums) + 1\n",
    "    return(str(name))\n",
    "\n",
    "import matplotlib.pyplot as plt\n",
    "def plot_losses(losses, name):\n",
    "    train_losses = losses['validation_0']['mlogloss']\n",
    "    test_losses = losses['validation_1']['mlogloss']\n",
    "    plt.figure(figsize = (10, 10))\n",
    "    train_h = plt.scatter(range(len(train_losses)), train_losses, s = 1)\n",
    "    test_h = plt.scatter(range(len(test_losses)), test_losses, s = 1)\n",
    "    plt.legend(handles = [train_h, test_h], labels = ['train', 'test'])\n",
    "    plt.savefig('figs_xgboost/evals_curves/' + name + '_curve.svg')\n"
   ]
  },
  {
   "cell_type": "code",
   "execution_count": 74,
   "metadata": {},
   "outputs": [],
   "source": [
    "# I tried 0.1 noise, but it wasn't enough to stop a perfect train score.\n",
    "def add_noise(data, var = 0.2):\n",
    "    noise = np.random.normal(0, var, data.shape)\n",
    "    m_vals_with_noise = data + noise\n",
    "    return(m_vals_with_noise)"
   ]
  },
  {
   "cell_type": "code",
   "execution_count": 75,
   "metadata": {},
   "outputs": [],
   "source": [
    "# given some params, does the inner cross validation and returns the mean loss over all folds\n",
    "import xgboost as xgb\n",
    "from sklearn.metrics import log_loss, matthews_corrcoef\n",
    "import pickle\n",
    "def objective(params, train_x, train_y, inner_folds, train_weights):\n",
    "    losses = []\n",
    "    for inner_train_indices, inner_test_indices in inner_folds: # loop through inner folds\n",
    "        inner_train_x, inner_test_x, inner_train_y, inner_test_y = get_train_test(train_x, train_y, inner_train_indices, inner_test_indices) \n",
    "        inner_train_weights = train_weights[inner_train_indices]\n",
    "        \n",
    "        # add noise to training data\n",
    "        inner_train_x = add_noise(inner_train_x)\n",
    "        \n",
    "        # train xgboost on inner train\n",
    "        model = xgb.XGBClassifier(**params, objective = 'binary:logistic', subsample = 0.5, colsample_bytree = 0.5)\n",
    "        early_stopping_num = 5 # with early stopping\n",
    "        model.fit(inner_train_x, inner_train_y, sample_weight = inner_train_weights, eval_set=[(inner_train_x, inner_train_y), (inner_test_x, inner_test_y)], eval_metric=['mlogloss'], early_stopping_rounds = early_stopping_num)\n",
    "        # get eval metrics throughout training of model:\n",
    "        evals_result = model.evals_result()\n",
    "        # and save\n",
    "        name = get_evals_result_name()\n",
    "        pickle.dump(evals_result, open('figs_xgboost/evals_results/' + name, 'wb'))\n",
    "        # plot_losses(evals_result, name)\n",
    "        \n",
    "        # test model on inner test\n",
    "        predictions = model.predict(inner_test_x)\n",
    "        # return scores\n",
    "        mcc = matthews_corrcoef(inner_test_y, predictions)\n",
    "        \n",
    "        losses.append(1-mcc)\n",
    "        \n",
    "        # print('fit a model')\n",
    "    print('Average loss (1-mcc) is ', np.mean(losses), ' for params ', str(params))\n",
    "    \n",
    "    return(np.mean(losses))\n",
    "\n",
    "    "
   ]
  },
  {
   "cell_type": "code",
   "execution_count": 76,
   "metadata": {},
   "outputs": [],
   "source": [
    "def retrain(params, train_x, train_y, train_weights):\n",
    "    params['n_estimators'] = int(params['n_estimators']) # need to be cast to int\n",
    "    params['max_depth'] = int(params['max_depth'])\n",
    "    \n",
    "    # add noise to training data\n",
    "    train_x = add_noise(train_x)\n",
    "    \n",
    "    best_model = xgb.XGBClassifier(**params, objective = 'binary:logistic', subsample = 0.5, colsample_bytree = 0.5)\n",
    "    best_model.fit(train_x, train_y, sample_weight = train_weights)\n",
    "    return(best_model)"
   ]
  },
  {
   "cell_type": "code",
   "execution_count": 77,
   "metadata": {},
   "outputs": [],
   "source": [
    "import pickle\n",
    "import joblib\n",
    "import os\n",
    "# take all results from one outer fold, and all storage lists, and put them in the lists \n",
    "def append_results(i, best, best_params, bayes_trials, bayes_trials_hist, best_model, best_models, test_indices, test_indices_list):\n",
    "    best_params.append(best)\n",
    "    bayes_trials_hist.append(bayes_trials)\n",
    "    best_models.append(best_model)\n",
    "    test_indices_list.append(test_indices)\n",
    "    \n",
    "    # saving arrays. Will overwrite previous outerfolds so the saved version is always the latest version\n",
    "    pickle.dump(best_params, open('figs_xgboost/best_params.json', 'wb'))\n",
    "    pickle.dump(bayes_trials_hist, open('figs_xgboost/bayes_trials_hist.json', 'wb'))\n",
    "    pickle.dump(test_indices_list, open('figs_xgboost/test_indices_list.json', 'wb'))\n",
    "    \n",
    "    # saving latest model - make the dir if necessary and save latest model \n",
    "    if not ('xgboost_models') in os.listdir('figs_xgboost/'):\n",
    "        os.mkdir('figs_xgboost/xgboost_models')\n",
    "    joblib.dump(best_model, 'figs_xgboost/xgboost_models' + '/' + str(i) + '.pkl')\n",
    "\n",
    "    \n",
    "    return(best_params, bayes_trials_hist, best_models, test_indices_list)\n",
    "\n",
    "    "
   ]
  },
  {
   "cell_type": "code",
   "execution_count": 78,
   "metadata": {},
   "outputs": [],
   "source": [
    "from sklearn.metrics import matthews_corrcoef, accuracy_score, f1_score, confusion_matrix, precision_score, recall_score\n",
    "from Evaluate import plot_curve\n",
    "from Evaluate import plot_confusion_matrix\n",
    "\n",
    "# adds a score object to scores, which contains many metrics. Also saves confusion matrices, and roc and pr curves\n",
    "def append_scores(i, scores, test_y, test_predictions, test_predictions_prob, classes):\n",
    "    score_object = {}\n",
    "    \n",
    "    score_object['mcc'] = matthews_corrcoef(test_y, test_predictions)\n",
    "    score_object['acc'] = accuracy_score(test_y, test_predictions)\n",
    "    score_object['f1'] = f1_score(test_y, test_predictions, average = None)\n",
    "    score_object['conf_mat'] = confusion_matrix(test_y, test_predictions)\n",
    "    score_object['precision'] = precision_score(test_y, test_predictions, average = None)\n",
    "    score_object['recall'] = recall_score(test_y, test_predictions, average = None)\n",
    "        \n",
    "    # now plot pr and roc curves and save their areas\n",
    "    print('classes is ', classes)\n",
    "    colours = [\"#56B4E9\", \"#007d5b\", \"#000000\", \"#D55E00\", \"#CCBB44\"]\n",
    "    roc_auc = plot_curve('roc', test_y, test_predictions_prob, len(classes), classes, colours, str(i), save_folder = 'figs_xgboost/figs/')\n",
    "    pr_auc = plot_curve('precision_recall', test_y, test_predictions_prob, len(classes), classes, colours, str(i), save_folder = 'figs_xgboost/figs/')  \n",
    "    score_object['roc_auc'] = roc_auc\n",
    "    score_object['pr_auc'] = pr_auc\n",
    "    \n",
    "    scores.append(score_object)\n",
    "    \n",
    "    # and plotting confusion matrices\n",
    "    plot_confusion_matrix(confusion_matrix(test_y, test_predictions), 'xgboost_multiclass', save_path = 'figs_xgboost/figs/confusion_matrix_' + str(i) + '.svg', font_size = 36, cm_labels = classes)\n",
    "    if len(scores) == 4: # if we have done all iterations, save final summed confusion matrix\n",
    "        conf_mats = [scores[i]['conf_mat'] for i in range(4)]\n",
    "        plot_confusion_matrix(sum(conf_mats), 'xgboost_multiclass', save_path = 'figs_xgboost/figs/confusion_matrix_sum.svg', font_size = 36, cm_labels = classes)\n",
    "        \n",
    "    # now to save the scores\n",
    "    pickle.dump(scores, open('figs_xgboost/scores.json', 'wb'))\n",
    "    return(scores)\n",
    "    "
   ]
  },
  {
   "cell_type": "code",
   "execution_count": 79,
   "metadata": {},
   "outputs": [],
   "source": [
    "# make xgboost hyperparameter search space\n",
    "from hyperopt import hp\n",
    "import numpy as np\n",
    "from hyperopt.pyll.base import scope\n",
    "space = { # have restricted the n_estimators and max_depth to 500 and 5 to avoid overfitting\n",
    "#     'class_weight': hp.choice('class_weight', [None, 'balanced']), # add in weights??\n",
    "    'n_estimators': scope.int(hp.quniform('n_estimators', 50, 500, 1)),\n",
    "    'eta': hp.loguniform('eta', np.log(0.05), np.log(0.5)),\n",
    "    'max_depth': scope.int(hp.quniform('max_depth', 2, 3, 1)),\n",
    "    'reg_alpha': hp.uniform('alpha', 0.0, 1.0), # L1 regularisation\n",
    "    'reg_lambda': hp.uniform('lambda', 0.0, 1.0), # L2 regularisation\n",
    "}\n"
   ]
  },
  {
   "cell_type": "code",
   "execution_count": 80,
   "metadata": {},
   "outputs": [],
   "source": [
    "# setting it up to work in parallel\n",
    "# this is set up for jupyter notebook, but it seems to work when running in a python3 script too\n",
    "import os\n",
    "\n",
    "# using this guide: https://opensource.com/article/18/11/pyspark-jupyter-notebook\n",
    "SPARK_HOME = \"/home/in268/.local/lib/python3.7/site-packages/pyspark\"\n",
    "os.environ[\"SPARK_HOME\"] = SPARK_HOME\n",
    "os.environ[\"PYTHONPATH\"]= SPARK_HOME + \"/python\"\n",
    "os.environ[\"PYSPARK_DRIVER_PYTHON\"] = \"jupyter\"\n",
    "os.environ[\"PYSPARK_DRIVER_PYTHON_OPTS\"] = \"notebook\"\n",
    "os.environ['PYSPARK_PYTHON'] = 'python3'\n",
    "os.environ['PATH'] = SPARK_HOME + ':' + os.environ['PATH'] + ':~/.local/bin:' + os.environ['JAVA_HOME'] + '/bin:' + os.environ['JAVA_HOME'] + '/jre/bin'\n",
    "\n",
    "from pyspark.sql import SparkSession\n",
    "\n",
    "# set max memory in spark sess\n",
    "spark_sess = SparkSession.builder.master('local[2]').config(\"spark.driver.memory\", \"60g\") .appName('my-cool-app').getOrCreate()\n"
   ]
  },
  {
   "cell_type": "code",
   "execution_count": 81,
   "metadata": {},
   "outputs": [
    {
     "name": "stdout",
     "output_type": "stream",
     "text": [
      "starting to set up\n"
     ]
    },
    {
     "name": "stderr",
     "output_type": "stream",
     "text": [
      "/home/in268/.local/lib/python3.7/site-packages/IPython/core/interactiveshell.py:3249: DtypeWarning: Columns (1) have mixed types.Specify dtype option on import or set low_memory=False.\n",
      "  if (await self.run_code(code, result,  async_=asy)):\n",
      "/home/in268/.local/lib/python3.7/site-packages/pandas/core/indexing.py:1596: SettingWithCopyWarning: \n",
      "A value is trying to be set on a copy of a slice from a DataFrame.\n",
      "Try using .loc[row_indexer,col_indexer] = value instead\n",
      "\n",
      "See the caveats in the documentation: https://pandas.pydata.org/pandas-docs/stable/user_guide/indexing.html#returning-a-view-versus-a-copy\n",
      "  self.obj[key] = _infer_fill_value(value)\n",
      "/home/in268/.local/lib/python3.7/site-packages/pandas/core/indexing.py:1745: SettingWithCopyWarning: \n",
      "A value is trying to be set on a copy of a slice from a DataFrame.\n",
      "Try using .loc[row_indexer,col_indexer] = value instead\n",
      "\n",
      "See the caveats in the documentation: https://pandas.pydata.org/pandas-docs/stable/user_guide/indexing.html#returning-a-view-versus-a-copy\n",
      "  isetter(ilocs[0], value)\n",
      "/home/in268/.local/lib/python3.7/site-packages/ipykernel_launcher.py:21: RuntimeWarning: divide by zero encountered in true_divide\n",
      "/home/in268/.local/lib/python3.7/site-packages/ipykernel_launcher.py:21: RuntimeWarning: divide by zero encountered in log2\n"
     ]
    },
    {
     "name": "stdout",
     "output_type": "stream",
     "text": [
      "min and max vals are  -12.475986690870657 11.321364432039529\n",
      "mean of data is  -2.2063126209584643\n"
     ]
    },
    {
     "data": {
      "text/plain": [
       "(1228, 158670)"
      ]
     },
     "execution_count": 81,
     "metadata": {},
     "output_type": "execute_result"
    },
    {
     "name": "stdout",
     "output_type": "stream",
     "text": [
      "Should be empty sets if no patient overlaps:\n",
      "set()\n",
      "set()\n",
      "set()\n",
      "set()\n"
     ]
    },
    {
     "data": {
      "image/png": "[encoded data removed]",
      "text/plain": [
       "<Figure size 360x288 with 1 Axes>"
      ]
     },
     "metadata": {
      "needs_background": "light"
     },
     "output_type": "display_data"
    },
    {
     "data": {
      "image/png": "[encoded data removed]",
      "text/plain": [
       "<Figure size 360x288 with 1 Axes>"
      ]
     },
     "metadata": {
      "needs_background": "light"
     },
     "output_type": "display_data"
    },
    {
     "data": {
      "image/png": "[encoded data removed]",
      "text/plain": [
       "<Figure size 360x288 with 1 Axes>"
      ]
     },
     "metadata": {
      "needs_background": "light"
     },
     "output_type": "display_data"
    }
   ],
   "source": [
    "# set up and getting data and outer folds\n",
    "from hyperopt import tpe, fmin, Trials, SparkTrials\n",
    "from functools import partial\n",
    "from get_train_weights import *\n",
    "from get_folds import *\n",
    "\n",
    "print('starting to set up')\n",
    "tpe_algorithm = tpe.suggest # hyperopt optimisation algorithm\n",
    "\n",
    "best_params = []\n",
    "bayes_trials_hist = []\n",
    "best_models = []\n",
    "test_indices_list = []\n",
    "\n",
    "scores = []\n",
    "\n",
    "# if needed, delete history of previous training eval metrics\n",
    "# to_remove = os.listdir('figs_xgboost/evals_results/')\n",
    "# for f in to_remove:\n",
    "#     if f != '.ipynb_checkpoints':\n",
    "#         os.remove('figs_xgboost/evals_results/' + f)\n",
    "#         os.remove('figs_xgboost/evals_curves/' + f + '_curve.svg')\n",
    "\n",
    "\n",
    "# dummy data if you want to quickly test something (and comment out below section)\n",
    "# data, diagnoses = get_dummy_data()\n",
    "# diagnoses, labels, classes = preproc_diagnoses(diagnoses)\n",
    "\n",
    "# get data and preprocess\n",
    "data, seqnames, start, colnames, diagnoses = get_data()\n",
    "diagnoses, labels, classes = preproc_diagnoses(diagnoses)\n",
    "data = preproc_data(data, seqnames, start, colnames)\n",
    "\n",
    "data.shape\n",
    "\n",
    "outer_folds = get_folds(diagnoses, 4) # create outer folds\n",
    "check_folds(diagnoses, outer_folds) # checks folds are created correctly\n",
    "plot_split_barplots(labels, outer_folds) # plot the number of samples in each class in each fold, to check there is an even distribution between folds\n",
    "\n",
    "all_test_predictions = np.array([np.nan]*len(labels))"
   ]
  },
  {
   "cell_type": "code",
   "execution_count": 84,
   "metadata": {},
   "outputs": [
    {
     "name": "stdout",
     "output_type": "stream",
     "text": [
      "Should be 3 empty sets:\n"
     ]
    },
    {
     "data": {
      "text/plain": [
       "set()"
      ]
     },
     "execution_count": 84,
     "metadata": {},
     "output_type": "execute_result"
    },
    {
     "data": {
      "text/plain": [
       "set()"
      ]
     },
     "execution_count": 84,
     "metadata": {},
     "output_type": "execute_result"
    },
    {
     "data": {
      "text/plain": [
       "set()"
      ]
     },
     "execution_count": 84,
     "metadata": {},
     "output_type": "execute_result"
    }
   ],
   "source": [
    "# right do the outer folds have completely unique test sets?\n",
    "print('Should be 3 empty sets:')\n",
    "set(outer_folds[0][1]).intersection(outer_folds[1][1])\n",
    "set(outer_folds[0][1]).intersection(outer_folds[2][1])\n",
    "set(outer_folds[2][1]).intersection(outer_folds[3][1])\n"
   ]
  },
  {
   "cell_type": "code",
   "execution_count": 15,
   "metadata": {
    "scrolled": false
   },
   "outputs": [
    {
     "name": "stdout",
     "output_type": "stream",
     "text": [
      "should be 1 number in list:  [1.0875576]\n",
      "should be 1 number in list:  [1.20833333 1.20833333]\n",
      "should be 1 number in list:  [1.07575758]\n",
      "should be 1 number in list:  [1.11904762]\n",
      "should be 1 number in list:  [1.]\n",
      "[ True  True  True  True  True]\n",
      "[ True  True  True  True  True]\n",
      "True\n",
      "True\n",
      "should be 1 number per class:\n",
      "[array([0.8516129]), array([0.64166667]), array([2.8]), array([4.4, 4.4]), array([0.83243243])]\n",
      "should be the same number for each class:\n",
      "               combined_weight\n",
      "pooled_labels                 \n",
      "0.0                      184.8\n",
      "1.0                      184.8\n",
      "2.0                      184.8\n",
      "3.0                      184.8\n",
      "4.0                      184.8\n",
      "Should be empty sets if no patient overlaps:\n",
      "set()\n",
      "set()\n",
      "set()\n",
      "set()\n"
     ]
    },
    {
     "name": "stderr",
     "output_type": "stream",
     "text": [
      "/Tank/kidney_methylation_classification/get_train_weights.py:71: RuntimeWarning: Mean of empty slice\n",
      "  c_1 = np.nanmean([res[0], res[1]], axis = 0)\n",
      "/Tank/kidney_methylation_classification/get_train_weights.py:72: RuntimeWarning: Mean of empty slice\n",
      "  c_2 = np.nanmean([c_1, res[2]], axis = 0)\n",
      "/Tank/kidney_methylation_classification/get_train_weights.py:73: RuntimeWarning: Mean of empty slice\n",
      "  c_3 = np.nanmean([c_2, res[3]], axis = 0)\n"
     ]
    },
    {
     "data": {
      "image/png": "[encoded data removed]",
      "text/plain": [
       "<Figure size 360x288 with 1 Axes>"
      ]
     },
     "metadata": {
      "needs_background": "light"
     },
     "output_type": "display_data"
    },
    {
     "data": {
      "image/png": "[encoded data removed]",
      "text/plain": [
       "<Figure size 360x288 with 1 Axes>"
      ]
     },
     "metadata": {
      "needs_background": "light"
     },
     "output_type": "display_data"
    },
    {
     "data": {
      "image/png": "[encoded data removed]",
      "text/plain": [
       "<Figure size 360x288 with 1 Axes>"
      ]
     },
     "metadata": {
      "needs_background": "light"
     },
     "output_type": "display_data"
    },
    {
     "name": "stdout",
     "output_type": "stream",
     "text": [
      "  0%|          | 0/10 [00:00<?, ?trial/s, best loss=?]\n"
     ]
    },
    {
     "ename": "KeyboardInterrupt",
     "evalue": "",
     "output_type": "error",
     "traceback": [
      "\u001b[0;31m---------------------------------------------------------------------------\u001b[0m",
      "\u001b[0;31mKeyboardInterrupt\u001b[0m                         Traceback (most recent call last)",
      "\u001b[0;32m~/.local/lib/python3.7/site-packages/hyperopt/spark.py\u001b[0m in \u001b[0;36mfmin\u001b[0;34m(self, fn, space, algo, max_evals, timeout, loss_threshold, max_queue_len, rstate, verbose, pass_expr_memo_ctrl, catch_eval_exceptions, return_argmin, show_progressbar, early_stop_fn, trials_save_file)\u001b[0m\n\u001b[1;32m    274\u001b[0m             \u001b[0mlogger\u001b[0m\u001b[0;34m.\u001b[0m\u001b[0mdebug\u001b[0m\u001b[0;34m(\u001b[0m\u001b[0;34m\"fmin thread exits with an exception raised.\"\u001b[0m\u001b[0;34m)\u001b[0m\u001b[0;34m\u001b[0m\u001b[0;34m\u001b[0m\u001b[0m\n\u001b[0;32m--> 275\u001b[0;31m             \u001b[0;32mraise\u001b[0m \u001b[0me\u001b[0m\u001b[0;34m\u001b[0m\u001b[0;34m\u001b[0m\u001b[0m\n\u001b[0m\u001b[1;32m    276\u001b[0m         \u001b[0;32melse\u001b[0m\u001b[0;34m:\u001b[0m\u001b[0;34m\u001b[0m\u001b[0;34m\u001b[0m\u001b[0m\n",
      "\u001b[0;32m~/.local/lib/python3.7/site-packages/hyperopt/spark.py\u001b[0m in \u001b[0;36mfmin\u001b[0;34m(self, fn, space, algo, max_evals, timeout, loss_threshold, max_queue_len, rstate, verbose, pass_expr_memo_ctrl, catch_eval_exceptions, return_argmin, show_progressbar, early_stop_fn, trials_save_file)\u001b[0m\n\u001b[1;32m    270\u001b[0m                 \u001b[0mearly_stop_fn\u001b[0m\u001b[0;34m=\u001b[0m\u001b[0mearly_stop_fn\u001b[0m\u001b[0;34m,\u001b[0m\u001b[0;34m\u001b[0m\u001b[0;34m\u001b[0m\u001b[0m\n\u001b[0;32m--> 271\u001b[0;31m                 \u001b[0mtrials_save_file\u001b[0m\u001b[0;34m=\u001b[0m\u001b[0;34m\"\"\u001b[0m\u001b[0;34m,\u001b[0m  \u001b[0;31m# not supported\u001b[0m\u001b[0;34m\u001b[0m\u001b[0;34m\u001b[0m\u001b[0m\n\u001b[0m\u001b[1;32m    272\u001b[0m             )\n",
      "\u001b[0;32m~/.local/lib/python3.7/site-packages/hyperopt/fmin.py\u001b[0m in \u001b[0;36mfmin\u001b[0;34m(fn, space, algo, max_evals, timeout, loss_threshold, trials, rstate, allow_trials_fmin, pass_expr_memo_ctrl, catch_eval_exceptions, verbose, return_argmin, points_to_evaluate, max_queue_len, show_progressbar, early_stop_fn, trials_save_file)\u001b[0m\n\u001b[1;32m    552\u001b[0m     \u001b[0;31m# next line is where the fmin is actually executed\u001b[0m\u001b[0;34m\u001b[0m\u001b[0;34m\u001b[0m\u001b[0;34m\u001b[0m\u001b[0m\n\u001b[0;32m--> 553\u001b[0;31m     \u001b[0mrval\u001b[0m\u001b[0;34m.\u001b[0m\u001b[0mexhaust\u001b[0m\u001b[0;34m(\u001b[0m\u001b[0;34m)\u001b[0m\u001b[0;34m\u001b[0m\u001b[0;34m\u001b[0m\u001b[0m\n\u001b[0m\u001b[1;32m    554\u001b[0m \u001b[0;34m\u001b[0m\u001b[0m\n",
      "\u001b[0;32m~/.local/lib/python3.7/site-packages/hyperopt/fmin.py\u001b[0m in \u001b[0;36mexhaust\u001b[0;34m(self)\u001b[0m\n\u001b[1;32m    355\u001b[0m         \u001b[0mn_done\u001b[0m \u001b[0;34m=\u001b[0m \u001b[0mlen\u001b[0m\u001b[0;34m(\u001b[0m\u001b[0mself\u001b[0m\u001b[0;34m.\u001b[0m\u001b[0mtrials\u001b[0m\u001b[0;34m)\u001b[0m\u001b[0;34m\u001b[0m\u001b[0;34m\u001b[0m\u001b[0m\n\u001b[0;32m--> 356\u001b[0;31m         \u001b[0mself\u001b[0m\u001b[0;34m.\u001b[0m\u001b[0mrun\u001b[0m\u001b[0;34m(\u001b[0m\u001b[0mself\u001b[0m\u001b[0;34m.\u001b[0m\u001b[0mmax_evals\u001b[0m \u001b[0;34m-\u001b[0m \u001b[0mn_done\u001b[0m\u001b[0;34m,\u001b[0m \u001b[0mblock_until_done\u001b[0m\u001b[0;34m=\u001b[0m\u001b[0mself\u001b[0m\u001b[0;34m.\u001b[0m\u001b[0masynchronous\u001b[0m\u001b[0;34m)\u001b[0m\u001b[0;34m\u001b[0m\u001b[0;34m\u001b[0m\u001b[0m\n\u001b[0m\u001b[1;32m    357\u001b[0m         \u001b[0mself\u001b[0m\u001b[0;34m.\u001b[0m\u001b[0mtrials\u001b[0m\u001b[0;34m.\u001b[0m\u001b[0mrefresh\u001b[0m\u001b[0;34m(\u001b[0m\u001b[0;34m)\u001b[0m\u001b[0;34m\u001b[0m\u001b[0;34m\u001b[0m\u001b[0m\n",
      "\u001b[0;32m~/.local/lib/python3.7/site-packages/hyperopt/fmin.py\u001b[0m in \u001b[0;36mrun\u001b[0;34m(self, N, block_until_done)\u001b[0m\n\u001b[1;32m    288\u001b[0m                     \u001b[0;31m# -- wait for workers to fill in the trials\u001b[0m\u001b[0;34m\u001b[0m\u001b[0;34m\u001b[0m\u001b[0;34m\u001b[0m\u001b[0m\n\u001b[0;32m--> 289\u001b[0;31m                     \u001b[0mtime\u001b[0m\u001b[0;34m.\u001b[0m\u001b[0msleep\u001b[0m\u001b[0;34m(\u001b[0m\u001b[0mself\u001b[0m\u001b[0;34m.\u001b[0m\u001b[0mpoll_interval_secs\u001b[0m\u001b[0;34m)\u001b[0m\u001b[0;34m\u001b[0m\u001b[0;34m\u001b[0m\u001b[0m\n\u001b[0m\u001b[1;32m    290\u001b[0m                 \u001b[0;32melse\u001b[0m\u001b[0;34m:\u001b[0m\u001b[0;34m\u001b[0m\u001b[0;34m\u001b[0m\u001b[0m\n",
      "\u001b[0;31mKeyboardInterrupt\u001b[0m: ",
      "\nDuring handling of the above exception, another exception occurred:\n",
      "\u001b[0;31mKeyboardInterrupt\u001b[0m                         Traceback (most recent call last)",
      "\u001b[0;32m<ipython-input-15-7b5edd5ead39>\u001b[0m in \u001b[0;36m<module>\u001b[0;34m\u001b[0m\n\u001b[1;32m     21\u001b[0m     \u001b[0mfmin_objective\u001b[0m \u001b[0;34m=\u001b[0m \u001b[0mpartial\u001b[0m\u001b[0;34m(\u001b[0m\u001b[0mobjective\u001b[0m\u001b[0;34m,\u001b[0m \u001b[0mtrain_x\u001b[0m\u001b[0;34m=\u001b[0m\u001b[0mtrain_x\u001b[0m\u001b[0;34m,\u001b[0m \u001b[0mtrain_y\u001b[0m \u001b[0;34m=\u001b[0m \u001b[0mtrain_y\u001b[0m\u001b[0;34m,\u001b[0m \u001b[0minner_folds\u001b[0m \u001b[0;34m=\u001b[0m \u001b[0minner_folds\u001b[0m\u001b[0;34m,\u001b[0m \u001b[0mtrain_weights\u001b[0m \u001b[0;34m=\u001b[0m \u001b[0mtrain_weights\u001b[0m\u001b[0;34m)\u001b[0m \u001b[0;31m# make parital function with our non-standard arguments\u001b[0m\u001b[0;34m\u001b[0m\u001b[0;34m\u001b[0m\u001b[0m\n\u001b[1;32m     22\u001b[0m     best = fmin(fn = fmin_objective, space = space, algo = tpe.suggest, \n\u001b[0;32m---> 23\u001b[0;31m             max_evals = 10, trials = bayes_trials_parallel) # trials = bayes_trials\n\u001b[0m\u001b[1;32m     24\u001b[0m \u001b[0;34m\u001b[0m\u001b[0m\n\u001b[1;32m     25\u001b[0m \u001b[0;34m\u001b[0m\u001b[0m\n",
      "\u001b[0;32m~/.local/lib/python3.7/site-packages/hyperopt/fmin.py\u001b[0m in \u001b[0;36mfmin\u001b[0;34m(fn, space, algo, max_evals, timeout, loss_threshold, trials, rstate, allow_trials_fmin, pass_expr_memo_ctrl, catch_eval_exceptions, verbose, return_argmin, points_to_evaluate, max_queue_len, show_progressbar, early_stop_fn, trials_save_file)\u001b[0m\n\u001b[1;32m    520\u001b[0m             \u001b[0mshow_progressbar\u001b[0m\u001b[0;34m=\u001b[0m\u001b[0mshow_progressbar\u001b[0m\u001b[0;34m,\u001b[0m\u001b[0;34m\u001b[0m\u001b[0;34m\u001b[0m\u001b[0m\n\u001b[1;32m    521\u001b[0m             \u001b[0mearly_stop_fn\u001b[0m\u001b[0;34m=\u001b[0m\u001b[0mearly_stop_fn\u001b[0m\u001b[0;34m,\u001b[0m\u001b[0;34m\u001b[0m\u001b[0;34m\u001b[0m\u001b[0m\n\u001b[0;32m--> 522\u001b[0;31m             \u001b[0mtrials_save_file\u001b[0m\u001b[0;34m=\u001b[0m\u001b[0mtrials_save_file\u001b[0m\u001b[0;34m,\u001b[0m\u001b[0;34m\u001b[0m\u001b[0;34m\u001b[0m\u001b[0m\n\u001b[0m\u001b[1;32m    523\u001b[0m         )\n\u001b[1;32m    524\u001b[0m \u001b[0;34m\u001b[0m\u001b[0m\n",
      "\u001b[0;32m~/.local/lib/python3.7/site-packages/hyperopt/spark.py\u001b[0m in \u001b[0;36mfmin\u001b[0;34m(self, fn, space, algo, max_evals, timeout, loss_threshold, max_queue_len, rstate, verbose, pass_expr_memo_ctrl, catch_eval_exceptions, return_argmin, show_progressbar, early_stop_fn, trials_save_file)\u001b[0m\n\u001b[1;32m    278\u001b[0m             \u001b[0;32mreturn\u001b[0m \u001b[0mres\u001b[0m\u001b[0;34m\u001b[0m\u001b[0;34m\u001b[0m\u001b[0m\n\u001b[1;32m    279\u001b[0m         \u001b[0;32mfinally\u001b[0m\u001b[0;34m:\u001b[0m\u001b[0;34m\u001b[0m\u001b[0;34m\u001b[0m\u001b[0m\n\u001b[0;32m--> 280\u001b[0;31m             \u001b[0mstate\u001b[0m\u001b[0;34m.\u001b[0m\u001b[0mwait_for_all_threads\u001b[0m\u001b[0;34m(\u001b[0m\u001b[0;34m)\u001b[0m\u001b[0;34m\u001b[0m\u001b[0;34m\u001b[0m\u001b[0m\n\u001b[0m\u001b[1;32m    281\u001b[0m \u001b[0;34m\u001b[0m\u001b[0m\n\u001b[1;32m    282\u001b[0m             logger.info(\n",
      "\u001b[0;32m~/.local/lib/python3.7/site-packages/hyperopt/spark.py\u001b[0m in \u001b[0;36mwait_for_all_threads\u001b[0;34m(self)\u001b[0m\n\u001b[1;32m    563\u001b[0m         \u001b[0mself\u001b[0m\u001b[0;34m.\u001b[0m\u001b[0m_dispatcher_thread\u001b[0m \u001b[0;34m=\u001b[0m \u001b[0;32mNone\u001b[0m\u001b[0;34m\u001b[0m\u001b[0;34m\u001b[0m\u001b[0m\n\u001b[1;32m    564\u001b[0m         \u001b[0;32mfor\u001b[0m \u001b[0mtask_thread\u001b[0m \u001b[0;32min\u001b[0m \u001b[0mself\u001b[0m\u001b[0;34m.\u001b[0m\u001b[0m_task_threads\u001b[0m\u001b[0;34m:\u001b[0m\u001b[0;34m\u001b[0m\u001b[0;34m\u001b[0m\u001b[0m\n\u001b[0;32m--> 565\u001b[0;31m             \u001b[0mtask_thread\u001b[0m\u001b[0;34m.\u001b[0m\u001b[0mjoin\u001b[0m\u001b[0;34m(\u001b[0m\u001b[0;34m)\u001b[0m\u001b[0;34m\u001b[0m\u001b[0;34m\u001b[0m\u001b[0m\n\u001b[0m\u001b[1;32m    566\u001b[0m         \u001b[0mself\u001b[0m\u001b[0;34m.\u001b[0m\u001b[0m_task_threads\u001b[0m\u001b[0;34m.\u001b[0m\u001b[0mclear\u001b[0m\u001b[0;34m(\u001b[0m\u001b[0;34m)\u001b[0m\u001b[0;34m\u001b[0m\u001b[0;34m\u001b[0m\u001b[0m\n",
      "\u001b[0;32m/usr/lib64/python3.7/threading.py\u001b[0m in \u001b[0;36mjoin\u001b[0;34m(self, timeout)\u001b[0m\n\u001b[1;32m   1042\u001b[0m \u001b[0;34m\u001b[0m\u001b[0m\n\u001b[1;32m   1043\u001b[0m         \u001b[0;32mif\u001b[0m \u001b[0mtimeout\u001b[0m \u001b[0;32mis\u001b[0m \u001b[0;32mNone\u001b[0m\u001b[0;34m:\u001b[0m\u001b[0;34m\u001b[0m\u001b[0;34m\u001b[0m\u001b[0m\n\u001b[0;32m-> 1044\u001b[0;31m             \u001b[0mself\u001b[0m\u001b[0;34m.\u001b[0m\u001b[0m_wait_for_tstate_lock\u001b[0m\u001b[0;34m(\u001b[0m\u001b[0;34m)\u001b[0m\u001b[0;34m\u001b[0m\u001b[0;34m\u001b[0m\u001b[0m\n\u001b[0m\u001b[1;32m   1045\u001b[0m         \u001b[0;32melse\u001b[0m\u001b[0;34m:\u001b[0m\u001b[0;34m\u001b[0m\u001b[0;34m\u001b[0m\u001b[0m\n\u001b[1;32m   1046\u001b[0m             \u001b[0;31m# the behavior of a negative timeout isn't documented, but\u001b[0m\u001b[0;34m\u001b[0m\u001b[0;34m\u001b[0m\u001b[0;34m\u001b[0m\u001b[0m\n",
      "\u001b[0;32m/usr/lib64/python3.7/threading.py\u001b[0m in \u001b[0;36m_wait_for_tstate_lock\u001b[0;34m(self, block, timeout)\u001b[0m\n\u001b[1;32m   1058\u001b[0m         \u001b[0;32mif\u001b[0m \u001b[0mlock\u001b[0m \u001b[0;32mis\u001b[0m \u001b[0;32mNone\u001b[0m\u001b[0;34m:\u001b[0m  \u001b[0;31m# already determined that the C code is done\u001b[0m\u001b[0;34m\u001b[0m\u001b[0;34m\u001b[0m\u001b[0m\n\u001b[1;32m   1059\u001b[0m             \u001b[0;32massert\u001b[0m \u001b[0mself\u001b[0m\u001b[0;34m.\u001b[0m\u001b[0m_is_stopped\u001b[0m\u001b[0;34m\u001b[0m\u001b[0;34m\u001b[0m\u001b[0m\n\u001b[0;32m-> 1060\u001b[0;31m         \u001b[0;32melif\u001b[0m \u001b[0mlock\u001b[0m\u001b[0;34m.\u001b[0m\u001b[0macquire\u001b[0m\u001b[0;34m(\u001b[0m\u001b[0mblock\u001b[0m\u001b[0;34m,\u001b[0m \u001b[0mtimeout\u001b[0m\u001b[0;34m)\u001b[0m\u001b[0;34m:\u001b[0m\u001b[0;34m\u001b[0m\u001b[0;34m\u001b[0m\u001b[0m\n\u001b[0m\u001b[1;32m   1061\u001b[0m             \u001b[0mlock\u001b[0m\u001b[0;34m.\u001b[0m\u001b[0mrelease\u001b[0m\u001b[0;34m(\u001b[0m\u001b[0;34m)\u001b[0m\u001b[0;34m\u001b[0m\u001b[0;34m\u001b[0m\u001b[0m\n\u001b[1;32m   1062\u001b[0m             \u001b[0mself\u001b[0m\u001b[0;34m.\u001b[0m\u001b[0m_stop\u001b[0m\u001b[0;34m(\u001b[0m\u001b[0;34m)\u001b[0m\u001b[0;34m\u001b[0m\u001b[0;34m\u001b[0m\u001b[0m\n",
      "\u001b[0;31mKeyboardInterrupt\u001b[0m: "
     ]
    }
   ],
   "source": [
    "# train and test the models on the data, using nested cross validation and hyperopt for hyperparameter finding\n",
    "i = 0\n",
    "for train_indices, test_indices in outer_folds:\n",
    "    \n",
    "    train_x, test_x, train_y, test_y = get_train_test(data, labels, train_indices, test_indices)\n",
    "    diagnoses_train = diagnoses.iloc[train_indices]\n",
    "    \n",
    "    # calculate training sample weights\n",
    "    train_weights = get_weights(diagnoses_train.copy(deep = True))\n",
    "    check_weights(train_weights) # can comment out if output is annoying\n",
    "    train_weights = train_weights['combined_weight']\n",
    "    \n",
    "    # get inner folds and check them\n",
    "    inner_folds = get_folds(diagnoses_train, 4)\n",
    "    check_folds(diagnoses_train, inner_folds) # can comment these two checking functions if the output is annoying\n",
    "    plot_split_barplots(train_y, inner_folds)\n",
    "\n",
    "    # hyperopt function, which uses objective function\n",
    "    bayes_trials_parallel = SparkTrials(parallelism=2, spark_session = spark_sess) \n",
    "    bayes_trials = Trials()\n",
    "    fmin_objective = partial(objective, train_x=train_x, train_y = train_y, inner_folds = inner_folds, train_weights = train_weights) # make parital function with our non-standard arguments\n",
    "    best = fmin(fn = fmin_objective, space = space, algo = tpe.suggest, \n",
    "            max_evals = 10, trials = bayes_trials_parallel)\n",
    "    \n",
    "    \n",
    "    # retrain model over all of x_train with best params\n",
    "    best_model = retrain(best, train_x, train_y, train_weights)\n",
    "    \n",
    "    # save model\n",
    "    best_params, bayes_trials_hist, best_models, test_indices_list = append_results(i = i, best = best, best_params = best_params, bayes_trials = bayes_trials, bayes_trials_hist = bayes_trials_hist, best_model = best_model, best_models = best_models, test_indices = test_indices, test_indices_list = test_indices_list)\n",
    "    \n",
    "    # make predictions \n",
    "    test_predictions = best_model.predict(test_x)\n",
    "    test_predictions_prob = best_model.predict_proba(test_x)\n",
    "    all_test_predictions[test_indices] = test_predictions\n",
    "    \n",
    "    # save scores\n",
    "    scores = append_scores(i, scores, test_y, test_predictions, test_predictions_prob, classes)\n",
    "    \n",
    "    i = i + 1\n",
    "    \n",
    "\n",
    "\n",
    "# and finally save all test predictions\n",
    "np.savetxt(fname =  'figs_xgboost/all_test_predictions', X = all_test_predictions, fmt = \"%d\")"
   ]
  },
  {
   "cell_type": "markdown",
   "metadata": {},
   "source": [
    "### Reading in models and results"
   ]
  },
  {
   "cell_type": "code",
   "execution_count": 2,
   "metadata": {},
   "outputs": [],
   "source": [
    "# reading in models after they have been saved\n",
    "import pickle\n",
    "import joblib\n",
    "\n",
    "def read_models():\n",
    "        \n",
    "    models = []\n",
    "    for i in range(4):\n",
    "        model = joblib.load('figs_xgboost/xgboost_models/' + str(i) + '.pkl')\n",
    "        models.append(model)\n",
    "        \n",
    "    # now load the other arrays\n",
    "    test_indices_list = pickle.load(open('figs_xgboost/test_indices_list.json', 'rb'))\n",
    "    best_params = pickle.load(open('figs_xgboost/best_params.json', 'rb'))\n",
    "    bayes_trials_hist = pickle.load(open('figs_xgboost/bayes_trials_hist.json', 'rb'))\n",
    "    \n",
    "    return(models, test_indices_list, best_params, bayes_trials_hist)\n",
    "\n",
    "\n",
    "# models, test_indices_list, best_params, bayes_trials_hist = read_models()\n"
   ]
  },
  {
   "cell_type": "code",
   "execution_count": 1,
   "metadata": {},
   "outputs": [
    {
     "data": {
      "text/plain": [
       "[{'mcc': 0.8974615228431305,\n",
       "  'acc': 0.9248366013071896,\n",
       "  'f1': array([0.96052632, 0.93449782, 0.875     , 0.8125    , 0.91390728]),\n",
       "  'conf_mat': array([[ 73,   0,   0,   0,   0],\n",
       "         [  3, 107,   0,   0,   6],\n",
       "         [  1,   1,  21,   0,   1],\n",
       "         [  2,   1,   2,  13,   1],\n",
       "         [  0,   4,   1,   0,  69]]),\n",
       "  'precision': array([0.92405063, 0.94690265, 0.875     , 1.        , 0.8961039 ]),\n",
       "  'recall': array([1.        , 0.92241379, 0.875     , 0.68421053, 0.93243243]),\n",
       "  'roc_auc': array([1.        , 0.98557169, 0.99202128, 0.99394829, 0.98724371]),\n",
       "  'pr_auc': [1.0,\n",
       "   0.9815486898102758,\n",
       "   0.9379091214922627,\n",
       "   0.9287275059369389,\n",
       "   0.9582200347462837]},\n",
       " {'mcc': 0.8794556296793243,\n",
       "  'acc': 0.9115646258503401,\n",
       "  'f1': array([0.97368421, 0.91304348, 0.80952381, 0.88888889, 0.87591241]),\n",
       "  'conf_mat': array([[ 74,   2,   0,   0,   0],\n",
       "         [  1, 105,   1,   0,   1],\n",
       "         [  0,   2,  17,   1,   2],\n",
       "         [  0,   1,   1,  12,   0],\n",
       "         [  1,  12,   1,   0,  60]]),\n",
       "  'precision': array([0.97368421, 0.86065574, 0.85      , 0.92307692, 0.95238095]),\n",
       "  'recall': array([0.97368421, 0.97222222, 0.77272727, 0.85714286, 0.81081081]),\n",
       "  'roc_auc': array([0.99861178, 0.98362206, 0.97443182, 0.99795918, 0.97831695]),\n",
       "  'pr_auc': [0.9960756902812198,\n",
       "   0.9713050628829145,\n",
       "   0.8745402225757823,\n",
       "   0.9603176148081609,\n",
       "   0.9510237478751378]},\n",
       " {'mcc': 0.8447451514642642,\n",
       "  'acc': 0.8870967741935484,\n",
       "  'f1': array([0.95857988, 0.90909091, 0.68      , 0.69230769, 0.875     ]),\n",
       "  'conf_mat': array([[ 81,   0,   0,   0,   0],\n",
       "         [  5, 105,   1,   0,   6],\n",
       "         [  1,   3,  17,   2,   1],\n",
       "         [  0,   0,   5,   9,   0],\n",
       "         [  1,   6,   3,   1,  63]]),\n",
       "  'precision': array([0.92045455, 0.92105263, 0.65384615, 0.75      , 0.9       ]),\n",
       "  'recall': array([1.        , 0.8974359 , 0.70833333, 0.64285714, 0.85135135]),\n",
       "  'roc_auc': array([0.99913742, 0.98007174, 0.96984266, 0.98817568, 0.97675218]),\n",
       "  'pr_auc': [0.9975610108582351,\n",
       "   0.9704591858698767,\n",
       "   0.7902188786586887,\n",
       "   0.8233603423004257,\n",
       "   0.9383958340543088]},\n",
       " {'mcc': 0.884966657142636,\n",
       "  'acc': 0.9166666666666666,\n",
       "  'f1': array([0.98245614, 0.91338583, 0.78947368, 0.77419355, 0.90909091]),\n",
       "  'conf_mat': array([[ 84,   0,   0,   0,   0],\n",
       "         [  0, 116,   0,   4,   2],\n",
       "         [  1,   6,  15,   1,   0],\n",
       "         [  0,   1,   0,  12,   1],\n",
       "         [  2,   9,   0,   0,  70]]),\n",
       "  'precision': array([0.96551724, 0.87878788, 1.        , 0.70588235, 0.95890411]),\n",
       "  'recall': array([1.        , 0.95081967, 0.65217391, 0.85714286, 0.86419753]),\n",
       "  'roc_auc': array([0.99915675, 0.97703295, 0.94987722, 0.9781106 , 0.97764568]),\n",
       "  'pr_auc': [0.9974813843639123,\n",
       "   0.9622777689885018,\n",
       "   0.7713076064226594,\n",
       "   0.8606284761162809,\n",
       "   0.9542683057940904]}]"
      ]
     },
     "execution_count": 1,
     "metadata": {},
     "output_type": "execute_result"
    }
   ],
   "source": [
    "# loading scores:\n",
    "# import pickle\n",
    "# scores = pickle.load(open('figs_xgboost/scores.json', 'rb'))\n",
    "# scores"
   ]
  }
 ],
 "metadata": {
  "kernelspec": {
   "display_name": "Python 3",
   "language": "python",
   "name": "python3"
  },
  "language_info": {
   "codemirror_mode": {
    "name": "ipython",
    "version": 3
   },
   "file_extension": ".py",
   "mimetype": "text/x-python",
   "name": "python",
   "nbconvert_exporter": "python",
   "pygments_lexer": "ipython3",
   "version": "3.7.7"
  }
 },
 "nbformat": 4,
 "nbformat_minor": 2
}
