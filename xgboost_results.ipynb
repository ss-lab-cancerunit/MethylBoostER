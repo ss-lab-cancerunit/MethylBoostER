{
 "cells": [
  {
   "cell_type": "markdown",
   "metadata": {},
   "source": [
    "# Results for the reimplementation of XGBoost models\n",
    "\n"
   ]
  },
  {
   "cell_type": "code",
   "execution_count": 112,
   "metadata": {},
   "outputs": [
    {
     "name": "stderr",
     "output_type": "stream",
     "text": [
      "/home/in268/.local/lib/python3.7/site-packages/sklearn/base.py:315: UserWarning: Trying to unpickle estimator LabelEncoder from version 0.23.2 when using version 0.24.2. This might lead to breaking code or invalid results. Use at your own risk.\n",
      "  UserWarning)\n"
     ]
    }
   ],
   "source": [
    "# load the model information and scores (this function is also found in xgboost_reimplementation)\n",
    "import pickle\n",
    "import joblib\n",
    "def read_models():\n",
    "        \n",
    "    models = []\n",
    "    for i in range(4):\n",
    "        model = joblib.load('figs_xgboost/xgboost_models/' + str(i) + '.pkl')\n",
    "        models.append(model)\n",
    "        \n",
    "    # now load the other arrays\n",
    "    test_indices_list = pickle.load(open('figs_xgboost/test_indices_list.json', 'rb'))\n",
    "    best_params = pickle.load(open('figs_xgboost/best_params.json', 'rb'))\n",
    "    bayes_trials_hist = pickle.load(open('figs_xgboost/bayes_trials_hist.json', 'rb'))\n",
    "    \n",
    "    return(models, test_indices_list, best_params, bayes_trials_hist)\n",
    "\n",
    "\n",
    "models, test_indices_list, best_params, bayes_trials_hist = read_models()\n"
   ]
  },
  {
   "cell_type": "code",
   "execution_count": 113,
   "metadata": {},
   "outputs": [
    {
     "data": {
      "text/plain": [
       "[{'mcc': 0.9441796938884999,\n",
       "  'acc': 0.9592476489028213,\n",
       "  'f1': array([1.        , 0.95319149, 0.90196078, 0.96969697, 0.93959732]),\n",
       "  'conf_mat': array([[ 85,   0,   0,   0,   0],\n",
       "         [  0, 112,   1,   0,   5],\n",
       "         [  0,   2,  23,   0,   0],\n",
       "         [  0,   0,   1,  16,   0],\n",
       "         [  0,   3,   1,   0,  70]]),\n",
       "  'precision': array([1.        , 0.95726496, 0.88461538, 1.        , 0.93333333]),\n",
       "  'recall': array([1.        , 0.94915254, 0.92      , 0.94117647, 0.94594595]),\n",
       "  'roc_auc': array([1.        , 0.98558057, 0.95197279, 0.99961044, 0.98830667]),\n",
       "  'pr_auc': [0.9999999999999998,\n",
       "   0.975237855391154,\n",
       "   0.9249564018412844,\n",
       "   0.9936360509115927,\n",
       "   0.9667087051143102]},\n",
       " {'mcc': 0.9588772232679778,\n",
       "  'acc': 0.9701986754966887,\n",
       "  'f1': array([1.        , 0.97345133, 0.85106383, 1.        , 0.96598639]),\n",
       "  'conf_mat': array([[ 79,   0,   0,   0,   0],\n",
       "         [  0, 110,   2,   0,   1],\n",
       "         [  0,   2,  20,   0,   1],\n",
       "         [  0,   0,   0,  13,   0],\n",
       "         [  0,   1,   2,   0,  71]]),\n",
       "  'precision': array([1.        , 0.97345133, 0.83333333, 1.        , 0.97260274]),\n",
       "  'recall': array([1.        , 0.97345133, 0.86956522, 1.        , 0.95945946]),\n",
       "  'roc_auc': array([1.        , 0.99892307, 0.99127318, 1.        , 0.99792556]),\n",
       "  'pr_auc': [0.9999999999999997,\n",
       "   0.9982622812076366,\n",
       "   0.9124327276407549,\n",
       "   0.9999999999999998,\n",
       "   0.9945582619872494]},\n",
       " {'mcc': 0.9326779623220681,\n",
       "  'acc': 0.9516129032258065,\n",
       "  'f1': array([1.        , 0.95934959, 0.83333333, 0.96      , 0.92517007]),\n",
       "  'conf_mat': array([[ 77,   0,   0,   0,   0],\n",
       "         [  0, 118,   4,   0,   2],\n",
       "         [  0,   0,  20,   0,   2],\n",
       "         [  0,   0,   0,  12,   1],\n",
       "         [  0,   4,   2,   0,  68]]),\n",
       "  'precision': array([1.        , 0.96721311, 0.76923077, 1.        , 0.93150685]),\n",
       "  'recall': array([1.        , 0.9516129 , 0.90909091, 0.92307692, 0.91891892]),\n",
       "  'roc_auc': array([1.        , 0.9937565 , 0.97080177, 0.998705  , 0.99215529]),\n",
       "  'pr_auc': [1.0,\n",
       "   0.9916579692472649,\n",
       "   0.8824407411606565,\n",
       "   0.978004022121669,\n",
       "   0.9773885758147439]},\n",
       " {'mcc': 0.9448236292848449,\n",
       "  'acc': 0.9595959595959596,\n",
       "  'f1': array([1.        , 0.96226415, 0.875     , 0.96551724, 0.94478528]),\n",
       "  'conf_mat': array([[ 71,   0,   0,   0,   0],\n",
       "         [  0, 102,   0,   0,   5],\n",
       "         [  0,   2,  21,   0,   0],\n",
       "         [  0,   0,   1,  14,   0],\n",
       "         [  0,   1,   3,   0,  77]]),\n",
       "  'precision': array([1.        , 0.97142857, 0.84      , 1.        , 0.93902439]),\n",
       "  'recall': array([1.        , 0.95327103, 0.91304348, 0.93333333, 0.95061728]),\n",
       "  'roc_auc': array([1.        , 0.99390064, 0.9882577 , 1.        , 0.99165524]),\n",
       "  'pr_auc': [0.9999999999999998,\n",
       "   0.9901687843842425,\n",
       "   0.9352712210919203,\n",
       "   1.0,\n",
       "   0.9798008402429719]}]"
      ]
     },
     "execution_count": 113,
     "metadata": {},
     "output_type": "execute_result"
    }
   ],
   "source": [
    "# loading scores:\n",
    "import pickle\n",
    "scores = pickle.load(open('figs_xgboost/scores.json', 'rb'))\n",
    "scores"
   ]
  },
  {
   "cell_type": "code",
   "execution_count": 114,
   "metadata": {},
   "outputs": [
    {
     "name": "stdout",
     "output_type": "stream",
     "text": [
      "Average testset accuracy is  0.9601637968053189\n",
      "Average testset MCC is  0.9451396271908477\n",
      "Accuracies for each model: [0.9592476489028213, 0.9701986754966887, 0.9516129032258065, 0.9595959595959596]\n",
      "MCC for each model: [0.9441796938884999, 0.9588772232679778, 0.9326779623220681, 0.9448236292848449]\n"
     ]
    }
   ],
   "source": [
    "# getting average test accuracy and MCC\n",
    "import numpy as np\n",
    "print('Average testset accuracy is ', np.mean([s['acc'] for s in scores]))\n",
    "\n",
    "print('Average testset MCC is ', np.mean([s['mcc'] for s in scores]))\n",
    "\n",
    "print('Accuracies for each model:', [s['acc'] for s in scores])\n",
    "print('MCC for each model:', [s['mcc'] for s in scores])"
   ]
  },
  {
   "cell_type": "code",
   "execution_count": 115,
   "metadata": {},
   "outputs": [
    {
     "name": "stdout",
     "output_type": "stream",
     "text": [
      "to plot is      pooled_labels  class\n",
      "1.0            462    1.0\n",
      "0.0            312    0.0\n",
      "4.0            303    4.0\n",
      "2.0             93    2.0\n",
      "3.0             58    3.0\n"
     ]
    },
    {
     "data": {
      "image/png": "[encoded data removed]",
      "text/plain": [
       "<Figure size 432x288 with 1 Axes>"
      ]
     },
     "metadata": {
      "needs_background": "light"
     },
     "output_type": "display_data"
    }
   ],
   "source": [
    "# getting a nice barplot of sample numbers\n",
    "import pandas as pd\n",
    "diagnoses = pd.read_csv('data/training_testing_diagnoses_maxgap_50_newdata.csv', sep = ',')\n",
    "diagnoses = diagnoses.iloc[2:, ]\n",
    "diagnoses['pooled_labels'] = np.array([4 if d == 5 else d for d in diagnoses['overallpath']])\n",
    "\n",
    "import matplotlib.pyplot as plt\n",
    "import seaborn as sb\n",
    "to_plot = diagnoses['pooled_labels'].value_counts()\n",
    "to_plot = pd.DataFrame(to_plot)\n",
    "to_plot['class'] = to_plot.index\n",
    "\n",
    "print('to plot is', to_plot)\n",
    "\n",
    "bp = sb.barplot(data = to_plot, x = 'class', y= 'pooled_labels', palette = [\"#56B4E9\", \"#007d5b\", \"#000000\", \"#D55E00\", \"#CCBB44\"])\n",
    "           \n",
    "yl = plt.ylabel('Number of samples')\n",
    "xl = plt.xlabel('Class')\n",
    "xt = plt.xticks([0,1,2,3,4], ['normal','ccRCC', 'chRCC', 'onc', 'pRCC'])\n",
    "plt.savefig('figs_xgboost/number_of_samples_barplot.svg', bbox_inches='tight')"
   ]
  },
  {
   "cell_type": "code",
   "execution_count": 124,
   "metadata": {},
   "outputs": [
    {
     "name": "stderr",
     "output_type": "stream",
     "text": [
      "/home/in268/.local/lib/python3.7/site-packages/ipykernel_launcher.py:4: SettingWithCopyWarning: \n",
      "A value is trying to be set on a copy of a slice from a DataFrame\n",
      "\n",
      "See the caveats in the documentation: https://pandas.pydata.org/pandas-docs/stable/user_guide/indexing.html#returning-a-view-versus-a-copy\n",
      "  after removing the cwd from sys.path.\n",
      "/home/in268/.local/lib/python3.7/site-packages/ipykernel_launcher.py:5: SettingWithCopyWarning: \n",
      "A value is trying to be set on a copy of a slice from a DataFrame\n",
      "\n",
      "See the caveats in the documentation: https://pandas.pydata.org/pandas-docs/stable/user_guide/indexing.html#returning-a-view-versus-a-copy\n",
      "  \"\"\"\n",
      "/home/in268/.local/lib/python3.7/site-packages/ipykernel_launcher.py:6: SettingWithCopyWarning: \n",
      "A value is trying to be set on a copy of a slice from a DataFrame\n",
      "\n",
      "See the caveats in the documentation: https://pandas.pydata.org/pandas-docs/stable/user_guide/indexing.html#returning-a-view-versus-a-copy\n",
      "  \n"
     ]
    },
    {
     "data": {
      "text/html": [
       "<div>\n",
       "<style scoped>\n",
       "    .dataframe tbody tr th:only-of-type {\n",
       "        vertical-align: middle;\n",
       "    }\n",
       "\n",
       "    .dataframe tbody tr th {\n",
       "        vertical-align: top;\n",
       "    }\n",
       "\n",
       "    .dataframe thead th {\n",
       "        text-align: right;\n",
       "    }\n",
       "</style>\n",
       "<table border=\"1\" class=\"dataframe\">\n",
       "  <thead>\n",
       "    <tr style=\"text-align: right;\">\n",
       "      <th></th>\n",
       "      <th>pooled_labels</th>\n",
       "      <th>Source</th>\n",
       "      <th>0</th>\n",
       "    </tr>\n",
       "  </thead>\n",
       "  <tbody>\n",
       "    <tr>\n",
       "      <th>0</th>\n",
       "      <td>1.0</td>\n",
       "      <td>TCGA</td>\n",
       "      <td>325</td>\n",
       "    </tr>\n",
       "    <tr>\n",
       "      <th>1</th>\n",
       "      <td>4.0</td>\n",
       "      <td>TCGA</td>\n",
       "      <td>276</td>\n",
       "    </tr>\n",
       "    <tr>\n",
       "      <th>2</th>\n",
       "      <td>0.0</td>\n",
       "      <td>TCGA</td>\n",
       "      <td>205</td>\n",
       "    </tr>\n",
       "    <tr>\n",
       "      <th>3</th>\n",
       "      <td>1.0</td>\n",
       "      <td>Cambridge</td>\n",
       "      <td>137</td>\n",
       "    </tr>\n",
       "    <tr>\n",
       "      <th>4</th>\n",
       "      <td>0.0</td>\n",
       "      <td>Cambridge</td>\n",
       "      <td>107</td>\n",
       "    </tr>\n",
       "    <tr>\n",
       "      <th>5</th>\n",
       "      <td>2.0</td>\n",
       "      <td>TCGA</td>\n",
       "      <td>66</td>\n",
       "    </tr>\n",
       "    <tr>\n",
       "      <th>6</th>\n",
       "      <td>3.0</td>\n",
       "      <td>Chopra train</td>\n",
       "      <td>37</td>\n",
       "    </tr>\n",
       "    <tr>\n",
       "      <th>7</th>\n",
       "      <td>4.0</td>\n",
       "      <td>Cambridge</td>\n",
       "      <td>27</td>\n",
       "    </tr>\n",
       "    <tr>\n",
       "      <th>8</th>\n",
       "      <td>2.0</td>\n",
       "      <td>Cambridge</td>\n",
       "      <td>27</td>\n",
       "    </tr>\n",
       "    <tr>\n",
       "      <th>9</th>\n",
       "      <td>3.0</td>\n",
       "      <td>Cambridge</td>\n",
       "      <td>21</td>\n",
       "    </tr>\n",
       "  </tbody>\n",
       "</table>\n",
       "</div>"
      ],
      "text/plain": [
       "   pooled_labels        Source    0\n",
       "0            1.0          TCGA  325\n",
       "1            4.0          TCGA  276\n",
       "2            0.0          TCGA  205\n",
       "3            1.0     Cambridge  137\n",
       "4            0.0     Cambridge  107\n",
       "5            2.0          TCGA   66\n",
       "6            3.0  Chopra train   37\n",
       "7            4.0     Cambridge   27\n",
       "8            2.0     Cambridge   27\n",
       "9            3.0     Cambridge   21"
      ]
     },
     "execution_count": 124,
     "metadata": {},
     "output_type": "execute_result"
    },
    {
     "data": {
      "text/plain": [
       "<matplotlib.legend.Legend at 0x7fcb74fb4090>"
      ]
     },
     "execution_count": 124,
     "metadata": {},
     "output_type": "execute_result"
    },
    {
     "data": {
      "image/png": "[encoded data removed]",
      "text/plain": [
       "<Figure size 432x288 with 1 Axes>"
      ]
     },
     "metadata": {},
     "output_type": "display_data"
    }
   ],
   "source": [
    "# do barplot split by dataset\n",
    "to_plot = diagnoses\n",
    "to_plot['Source'] = ''\n",
    "to_plot['Source'][to_plot['colname'].str.contains('_R')] = 'Chopra train' # Chopra train\n",
    "to_plot['Source'][to_plot['colname'].str.contains('TCGA')] = 'TCGA' # TCGA\n",
    "to_plot['Source'][np.logical_not(to_plot['colname'].str.contains('TCGA|_R'))] = 'Cambridge' # Cambridge\n",
    "to_plot = to_plot[['pooled_labels', 'Source']]\n",
    "\n",
    "to_plot = to_plot.value_counts().reset_index()\n",
    "\n",
    "to_plot\n",
    "\n",
    "import matplotlib.pyplot as plt\n",
    "import seaborn as sb\n",
    "sb.set(font_scale=1.4) \n",
    "sb.set_style(\"ticks\")\n",
    "\n",
    "bp = sb.barplot(data = to_plot, x = 'Source', y=0, hue = 'pooled_labels', palette = [\"#56B4E9\", \"#007d5b\", \"#000000\", \"#D55E00\", \"#CCBB44\"])\n",
    "\n",
    "# get legend labels with the total number of samples per class:\n",
    "ns = diagnoses['pooled_labels'].value_counts()\n",
    "labels_with_ns = ['normal (n=' + str(ns.loc[0]) + ')',\n",
    "                  'ccRCC (n=' + str(ns.loc[1]) + ')',\n",
    "                  'chRCC (n=' + str(ns.loc[2]) + ')',\n",
    "                  'onc (n=' + str(ns.loc[3]) + ')',\n",
    "                  'pRCC (n=' + str(ns.loc[4]) + ')',\n",
    "                 ]\n",
    "\n",
    "yl = plt.ylabel('Number of samples')\n",
    "xl = plt.xlabel('Dataset')\n",
    "handles = bp.get_legend_handles_labels()[0]\n",
    "bp.legend(handles = handles, labels=labels_with_ns, loc='best', bbox_to_anchor=(0.7, -0.05, 0.25, 1))\n",
    "\n",
    "plt.savefig('figs_xgboost/number_of_samples_barplot_separate_datasets.svg', bbox_inches='tight')\n",
    "\n"
   ]
  },
  {
   "cell_type": "code",
   "execution_count": 439,
   "metadata": {},
   "outputs": [
    {
     "data": {
      "image/png": "[encoded data removed]",
      "text/plain": [
       "<Figure size 432x288 with 1 Axes>"
      ]
     },
     "metadata": {},
     "output_type": "display_data"
    },
    {
     "data": {
      "image/png": "[encoded data removed]",
      "text/plain": [
       "<Figure size 432x288 with 1 Axes>"
      ]
     },
     "metadata": {},
     "output_type": "display_data"
    },
    {
     "data": {
      "image/png": "[encoded data removed]",
      "text/plain": [
       "<Figure size 432x288 with 1 Axes>"
      ]
     },
     "metadata": {},
     "output_type": "display_data"
    }
   ],
   "source": [
    "# plots for choosing a model\n",
    "# can we choose the model with the lowest number of params (features)?\n",
    "\n",
    "b = plt.bar(x = [i for i in range(len(scores))], height = [s['acc'] for s in scores])\n",
    "yl = plt.ylim([0.9,1])\n",
    "t = plt.title('Test accuracy for each model')\n",
    "plt.show()\n",
    "b = plt.bar(x = [i for i in range(len(scores))], height = [s['mcc'] for s in scores])\n",
    "yl = plt.ylim([0.9,1])\n",
    "t = plt.title('Test MCC for each model')\n",
    "plt.show()\n",
    "# how many features does each model use?\n",
    "\n",
    "b = plt.bar(x = [i for i in range(4)], height = [sum(models[i].feature_importances_ > 0) for i in range(4)], color = 'green')\n",
    "t = plt.title('Number of features for each model')"
   ]
  },
  {
   "cell_type": "code",
   "execution_count": 440,
   "metadata": {},
   "outputs": [
    {
     "data": {
      "text/plain": [
       "[array([1.        , 0.98558057, 0.95197279, 0.99961044, 0.98830667]),\n",
       " array([1.        , 0.99892307, 0.99127318, 1.        , 0.99792556]),\n",
       " array([1.        , 0.9937565 , 0.97080177, 0.998705  , 0.99215529]),\n",
       " array([1.        , 0.99390064, 0.9882577 , 1.        , 0.99165524])]"
      ]
     },
     "execution_count": 440,
     "metadata": {},
     "output_type": "execute_result"
    },
    {
     "name": "stdout",
     "output_type": "stream",
     "text": [
      "Average ROC AUCs and PR AUCs for each class is:\n"
     ]
    },
    {
     "data": {
      "text/html": [
       "<div>\n",
       "<style scoped>\n",
       "    .dataframe tbody tr th:only-of-type {\n",
       "        vertical-align: middle;\n",
       "    }\n",
       "\n",
       "    .dataframe tbody tr th {\n",
       "        vertical-align: top;\n",
       "    }\n",
       "\n",
       "    .dataframe thead th {\n",
       "        text-align: right;\n",
       "    }\n",
       "</style>\n",
       "<table border=\"1\" class=\"dataframe\">\n",
       "  <thead>\n",
       "    <tr style=\"text-align: right;\">\n",
       "      <th></th>\n",
       "      <th>Normal</th>\n",
       "      <th>ccRCC</th>\n",
       "      <th>chRCC</th>\n",
       "      <th>oncocytoma</th>\n",
       "      <th>pRCC</th>\n",
       "    </tr>\n",
       "  </thead>\n",
       "  <tbody>\n",
       "    <tr>\n",
       "      <th>ROC AUC</th>\n",
       "      <td>1.0</td>\n",
       "      <td>0.993040</td>\n",
       "      <td>0.975576</td>\n",
       "      <td>0.999579</td>\n",
       "      <td>0.992511</td>\n",
       "    </tr>\n",
       "    <tr>\n",
       "      <th>PR AUC</th>\n",
       "      <td>1.0</td>\n",
       "      <td>0.988832</td>\n",
       "      <td>0.913775</td>\n",
       "      <td>0.992910</td>\n",
       "      <td>0.979614</td>\n",
       "    </tr>\n",
       "  </tbody>\n",
       "</table>\n",
       "</div>"
      ],
      "text/plain": [
       "         Normal     ccRCC     chRCC  oncocytoma      pRCC\n",
       "ROC AUC     1.0  0.993040  0.975576    0.999579  0.992511\n",
       "PR AUC      1.0  0.988832  0.913775    0.992910  0.979614"
      ]
     },
     "execution_count": 440,
     "metadata": {},
     "output_type": "execute_result"
    },
    {
     "data": {
      "text/html": [
       "<div>\n",
       "<style scoped>\n",
       "    .dataframe tbody tr th:only-of-type {\n",
       "        vertical-align: middle;\n",
       "    }\n",
       "\n",
       "    .dataframe tbody tr th {\n",
       "        vertical-align: top;\n",
       "    }\n",
       "\n",
       "    .dataframe thead th {\n",
       "        text-align: right;\n",
       "    }\n",
       "</style>\n",
       "<table border=\"1\" class=\"dataframe\">\n",
       "  <thead>\n",
       "    <tr style=\"text-align: right;\">\n",
       "      <th></th>\n",
       "      <th>ROC AUC</th>\n",
       "    </tr>\n",
       "  </thead>\n",
       "  <tbody>\n",
       "    <tr>\n",
       "      <th>Normal</th>\n",
       "      <td>1.000000</td>\n",
       "    </tr>\n",
       "    <tr>\n",
       "      <th>ccRCC</th>\n",
       "      <td>0.993040</td>\n",
       "    </tr>\n",
       "    <tr>\n",
       "      <th>chRCC</th>\n",
       "      <td>0.975576</td>\n",
       "    </tr>\n",
       "    <tr>\n",
       "      <th>oncocytoma</th>\n",
       "      <td>0.999579</td>\n",
       "    </tr>\n",
       "    <tr>\n",
       "      <th>pRCC</th>\n",
       "      <td>0.992511</td>\n",
       "    </tr>\n",
       "  </tbody>\n",
       "</table>\n",
       "</div>"
      ],
      "text/plain": [
       "             ROC AUC\n",
       "Normal      1.000000\n",
       "ccRCC       0.993040\n",
       "chRCC       0.975576\n",
       "oncocytoma  0.999579\n",
       "pRCC        0.992511"
      ]
     },
     "execution_count": 440,
     "metadata": {},
     "output_type": "execute_result"
    }
   ],
   "source": [
    "# getting average test ROC AUCs and PR AUCs for each class\n",
    "import pandas as pd\n",
    "[s['roc_auc'] for s in scores]\n",
    "\n",
    "print('Average ROC AUCs and PR AUCs for each class is:')\n",
    "mean_roc_aucs = np.mean([s['roc_auc'] for s in scores], axis = 0)\n",
    "mean_pr_aucs = np.mean([s['pr_auc'] for s in scores], axis = 0)\n",
    "pd.DataFrame([mean_roc_aucs, mean_pr_aucs], columns=['Normal', 'ccRCC', 'chRCC','oncocytoma','pRCC'], index=['ROC AUC', 'PR AUC'])\n",
    "\n",
    "pd.DataFrame(mean_roc_aucs, index = ['Normal', 'ccRCC', 'chRCC','oncocytoma','pRCC'], columns = ['ROC AUC'])"
   ]
  },
  {
   "cell_type": "code",
   "execution_count": 441,
   "metadata": {},
   "outputs": [
    {
     "data": {
      "text/plain": [
       "<module 'Evaluate' from '/Tank/kidney_methylation_classification/Evaluate.py'>"
      ]
     },
     "execution_count": 441,
     "metadata": {},
     "output_type": "execute_result"
    }
   ],
   "source": [
    "import importlib\n",
    "import Evaluate\n",
    "importlib.reload(Evaluate)"
   ]
  },
  {
   "cell_type": "code",
   "execution_count": 435,
   "metadata": {},
   "outputs": [
    {
     "data": {
      "image/png": "[encoded data removed]",
      "text/plain": [
       "<Figure size 432x288 with 1 Axes>"
      ]
     },
     "metadata": {},
     "output_type": "display_data"
    },
    {
     "data": {
      "image/png": "[encoded data removed]",
      "text/plain": [
       "<Figure size 308.16x72 with 1 Axes>"
      ]
     },
     "metadata": {},
     "output_type": "display_data"
    },
    {
     "data": {
      "image/png": "[encoded data removed]",
      "text/plain": [
       "<Figure size 308.16x72 with 1 Axes>"
      ]
     },
     "metadata": {},
     "output_type": "display_data"
    }
   ],
   "source": [
    "# Re-plotting the summed confusion matrix\n",
    "from Evaluate import plot_confusion_matrix\n",
    "cm = sum([s['conf_mat'] for s in scores])\n",
    "\n",
    "classes = ['normal', 'ccRCC', 'chRCC', 'onc', 'pRCC']\n",
    "\n",
    "plot_confusion_matrix(cm, 'xgboost_multiclass', save_path = 'figs_xgboost/figs/confusion_matrix_sum.svg', font_size = 36, cm_labels = classes)\n",
    "\n",
    "\n",
    "# plotting precision and recall bar plots so we can put them along side the confusion matrix\n",
    "\n",
    "precisions = []\n",
    "recalls = []\n",
    "\n",
    "for c in range(cm.shape[1]):\n",
    "    col = cm[:,c]\n",
    "    precision = col[c]/sum(col)\n",
    "    precisions.append(precision)\n",
    "    \n",
    "    row = cm[c,:]\n",
    "    recall = row[c]/sum(row)\n",
    "    recalls.append(recall)\n",
    "\n",
    "import matplotlib.pyplot as plt\n",
    "plt.rcParams['axes.facecolor'] = 'white'\n",
    "\n",
    "f = plt.figure(figsize = (4.28,1))\n",
    "b = plt.bar([0,1,2,3,4], precisions, width=0.9, color = 'white', edgecolor='black')\n",
    "yl = plt.ylim([0.5, 1.1])\n",
    "xt = plt.xticks([])\n",
    "yt = plt.yticks([0.5, 1], size = 16)\n",
    "t = plt.title('precision', size = 16)\n",
    "plt.savefig('figs_xgboost/figs/confusion_matrix_sum_precision_bars.svg', bbox_inches = 'tight')\n",
    "\n",
    "\n",
    "f = plt.figure(figsize = (4.28,1))\n",
    "b = plt.bar([0,1,2,3,4], recalls, width=0.9, color = 'white', edgecolor='black')\n",
    "yl = plt.ylim([0.5, 1.1])\n",
    "yt = plt.yticks([0.5, 1], size = 16)\n",
    "xt = plt.xticks([])\n",
    "t = plt.title('recall', size = 16)\n",
    "plt.savefig('figs_xgboost/figs/confusion_matrix_sum_recall_bars.svg', bbox_inches = 'tight')\n",
    "\n"
   ]
  },
  {
   "cell_type": "code",
   "execution_count": 515,
   "metadata": {},
   "outputs": [
    {
     "data": {
      "text/html": [
       "<div>\n",
       "<style scoped>\n",
       "    .dataframe tbody tr th:only-of-type {\n",
       "        vertical-align: middle;\n",
       "    }\n",
       "\n",
       "    .dataframe tbody tr th {\n",
       "        vertical-align: top;\n",
       "    }\n",
       "\n",
       "    .dataframe thead th {\n",
       "        text-align: right;\n",
       "    }\n",
       "</style>\n",
       "<table border=\"1\" class=\"dataframe\">\n",
       "  <thead>\n",
       "    <tr style=\"text-align: right;\">\n",
       "      <th></th>\n",
       "      <th>normal</th>\n",
       "      <th>ccRCC</th>\n",
       "      <th>chRCC</th>\n",
       "      <th>onc</th>\n",
       "      <th>pRCC</th>\n",
       "    </tr>\n",
       "  </thead>\n",
       "  <tbody>\n",
       "    <tr>\n",
       "      <th>F1</th>\n",
       "      <td>1.0</td>\n",
       "      <td>0.962064</td>\n",
       "      <td>0.865339</td>\n",
       "      <td>0.973804</td>\n",
       "      <td>0.943885</td>\n",
       "    </tr>\n",
       "    <tr>\n",
       "      <th>Precision</th>\n",
       "      <td>1.0</td>\n",
       "      <td>0.967339</td>\n",
       "      <td>0.831795</td>\n",
       "      <td>1.000000</td>\n",
       "      <td>0.944117</td>\n",
       "    </tr>\n",
       "    <tr>\n",
       "      <th>Recall</th>\n",
       "      <td>1.0</td>\n",
       "      <td>0.956872</td>\n",
       "      <td>0.902925</td>\n",
       "      <td>0.949397</td>\n",
       "      <td>0.943735</td>\n",
       "    </tr>\n",
       "  </tbody>\n",
       "</table>\n",
       "</div>"
      ],
      "text/plain": [
       "           normal     ccRCC     chRCC       onc      pRCC\n",
       "F1            1.0  0.962064  0.865339  0.973804  0.943885\n",
       "Precision     1.0  0.967339  0.831795  1.000000  0.944117\n",
       "Recall        1.0  0.956872  0.902925  0.949397  0.943735"
      ]
     },
     "execution_count": 515,
     "metadata": {},
     "output_type": "execute_result"
    }
   ],
   "source": [
    "# getting class-wise F1, precision and recall\n",
    "f1s = np.mean([s['f1'] for s in scores], axis = 0)\n",
    "precision = np.mean([s['precision'] for s in scores], axis = 0)\n",
    "recall = np.mean([s['recall'] for s in scores], axis = 0)\n",
    "class_wise_scores = pd.DataFrame([f1s, precision, recall], index = ['F1', 'Precision', 'Recall'], columns=['normal', 'ccRCC', 'chRCC','onc','pRCC'])\n",
    "class_wise_scores\n",
    "\n",
    "class_wise_scores.round(3).to_latex(buf='figs_xgboost/latex_class_wise_scores.txt')"
   ]
  },
  {
   "cell_type": "code",
   "execution_count": 404,
   "metadata": {},
   "outputs": [
    {
     "data": {
      "text/plain": [
       "[{'alpha': 0.252728149562772,\n",
       "  'eta': 0.4813977107793804,\n",
       "  'lambda': 0.15666460997307652,\n",
       "  'max_depth': 3,\n",
       "  'n_estimators': 170},\n",
       " {'alpha': 0.3873658449993229,\n",
       "  'eta': 0.28843368370514055,\n",
       "  'lambda': 0.4258147203701774,\n",
       "  'max_depth': 3,\n",
       "  'n_estimators': 377},\n",
       " {'alpha': 0.7076788552891365,\n",
       "  'eta': 0.16577636844202023,\n",
       "  'lambda': 0.5015151223508812,\n",
       "  'max_depth': 3,\n",
       "  'n_estimators': 140},\n",
       " {'alpha': 0.16708066071009398,\n",
       "  'eta': 0.1481679984376258,\n",
       "  'lambda': 0.7281508908715555,\n",
       "  'max_depth': 2,\n",
       "  'n_estimators': 459}]"
      ]
     },
     "execution_count": 404,
     "metadata": {},
     "output_type": "execute_result"
    },
    {
     "data": {
      "text/html": [
       "<div>\n",
       "<style scoped>\n",
       "    .dataframe tbody tr th:only-of-type {\n",
       "        vertical-align: middle;\n",
       "    }\n",
       "\n",
       "    .dataframe tbody tr th {\n",
       "        vertical-align: top;\n",
       "    }\n",
       "\n",
       "    .dataframe thead th {\n",
       "        text-align: right;\n",
       "    }\n",
       "</style>\n",
       "<table border=\"1\" class=\"dataframe\">\n",
       "  <thead>\n",
       "    <tr style=\"text-align: right;\">\n",
       "      <th></th>\n",
       "      <th>alpha</th>\n",
       "      <th>eta</th>\n",
       "      <th>lambda</th>\n",
       "      <th>max_depth</th>\n",
       "      <th>n_estimators</th>\n",
       "    </tr>\n",
       "  </thead>\n",
       "  <tbody>\n",
       "    <tr>\n",
       "      <th>0</th>\n",
       "      <td>0.252728</td>\n",
       "      <td>0.481398</td>\n",
       "      <td>0.156665</td>\n",
       "      <td>3</td>\n",
       "      <td>170</td>\n",
       "    </tr>\n",
       "    <tr>\n",
       "      <th>1</th>\n",
       "      <td>0.387366</td>\n",
       "      <td>0.288434</td>\n",
       "      <td>0.425815</td>\n",
       "      <td>3</td>\n",
       "      <td>377</td>\n",
       "    </tr>\n",
       "    <tr>\n",
       "      <th>2</th>\n",
       "      <td>0.707679</td>\n",
       "      <td>0.165776</td>\n",
       "      <td>0.501515</td>\n",
       "      <td>3</td>\n",
       "      <td>140</td>\n",
       "    </tr>\n",
       "    <tr>\n",
       "      <th>3</th>\n",
       "      <td>0.167081</td>\n",
       "      <td>0.148168</td>\n",
       "      <td>0.728151</td>\n",
       "      <td>2</td>\n",
       "      <td>459</td>\n",
       "    </tr>\n",
       "  </tbody>\n",
       "</table>\n",
       "</div>"
      ],
      "text/plain": [
       "      alpha       eta    lambda  max_depth  n_estimators\n",
       "0  0.252728  0.481398  0.156665          3           170\n",
       "1  0.387366  0.288434  0.425815          3           377\n",
       "2  0.707679  0.165776  0.501515          3           140\n",
       "3  0.167081  0.148168  0.728151          2           459"
      ]
     },
     "execution_count": 404,
     "metadata": {},
     "output_type": "execute_result"
    }
   ],
   "source": [
    "# best params for each model:\n",
    "best_params\n",
    "pd.DataFrame(best_params)"
   ]
  },
  {
   "cell_type": "code",
   "execution_count": 88,
   "metadata": {},
   "outputs": [
    {
     "data": {
      "image/png": "[encoded data removed]",
      "text/plain": [
       "<Figure size 720x720 with 1 Axes>"
      ]
     },
     "metadata": {},
     "output_type": "display_data"
    }
   ],
   "source": [
    "# just checking the eval curves\n",
    "import pickle\n",
    "import matplotlib.pyplot as plt\n",
    "\n",
    "losses = pickle.load(open('figs_xgboost/evals_results/11', 'rb'))\n",
    "\n",
    "def plot_losses(losses):\n",
    "    train_losses = losses['validation_0']['mlogloss']\n",
    "    test_losses = losses['validation_1']['mlogloss']\n",
    "    plt.figure(figsize = (10, 10))\n",
    "    train_h = plt.scatter(range(len(train_losses)), train_losses, s = 1)\n",
    "    test_h = plt.scatter(range(len(test_losses)), test_losses, s = 1)\n",
    "    plt.legend(handles = [train_h, test_h], labels = ['train', 'test'])\n",
    "    plt.show()\n",
    "#     plt.savefig('figs_xgboost/evals_curves/' + name + '_curve.svg')\n",
    "\n",
    "plot_losses(losses)"
   ]
  },
  {
   "cell_type": "markdown",
   "metadata": {},
   "source": [
    "### Which samples did we get wrong - and do they have lower tumour purity?"
   ]
  },
  {
   "cell_type": "code",
   "execution_count": 89,
   "metadata": {},
   "outputs": [
    {
     "data": {
      "text/html": [
       "<div>\n",
       "<style scoped>\n",
       "    .dataframe tbody tr th:only-of-type {\n",
       "        vertical-align: middle;\n",
       "    }\n",
       "\n",
       "    .dataframe tbody tr th {\n",
       "        vertical-align: top;\n",
       "    }\n",
       "\n",
       "    .dataframe thead th {\n",
       "        text-align: right;\n",
       "    }\n",
       "</style>\n",
       "<table border=\"1\" class=\"dataframe\">\n",
       "  <thead>\n",
       "    <tr style=\"text-align: right;\">\n",
       "      <th></th>\n",
       "      <th>colname</th>\n",
       "      <th>overallpath</th>\n",
       "    </tr>\n",
       "  </thead>\n",
       "  <tbody>\n",
       "    <tr>\n",
       "      <th>1</th>\n",
       "      <td>seqnames</td>\n",
       "      <td>NaN</td>\n",
       "    </tr>\n",
       "    <tr>\n",
       "      <th>2</th>\n",
       "      <td>start</td>\n",
       "      <td>NaN</td>\n",
       "    </tr>\n",
       "    <tr>\n",
       "      <th>17</th>\n",
       "      <td>X9970497093_R05C01</td>\n",
       "      <td>3.0</td>\n",
       "    </tr>\n",
       "    <tr>\n",
       "      <th>18</th>\n",
       "      <td>X9970497093_R06C01</td>\n",
       "      <td>3.0</td>\n",
       "    </tr>\n",
       "    <tr>\n",
       "      <th>19</th>\n",
       "      <td>X9970497093_R01C02</td>\n",
       "      <td>3.0</td>\n",
       "    </tr>\n",
       "    <tr>\n",
       "      <th>...</th>\n",
       "      <td>...</td>\n",
       "      <td>...</td>\n",
       "    </tr>\n",
       "    <tr>\n",
       "      <th>1262</th>\n",
       "      <td>X6287.T1</td>\n",
       "      <td>2.0</td>\n",
       "    </tr>\n",
       "    <tr>\n",
       "      <th>1263</th>\n",
       "      <td>X6261.N1a</td>\n",
       "      <td>0.0</td>\n",
       "    </tr>\n",
       "    <tr>\n",
       "      <th>1264</th>\n",
       "      <td>X6261.T1a</td>\n",
       "      <td>4.0</td>\n",
       "    </tr>\n",
       "    <tr>\n",
       "      <th>1265</th>\n",
       "      <td>X7044.T1</td>\n",
       "      <td>4.0</td>\n",
       "    </tr>\n",
       "    <tr>\n",
       "      <th>1266</th>\n",
       "      <td>X7168.T1</td>\n",
       "      <td>4.0</td>\n",
       "    </tr>\n",
       "  </tbody>\n",
       "</table>\n",
       "<p>1230 rows × 2 columns</p>\n",
       "</div>"
      ],
      "text/plain": [
       "                 colname  overallpath\n",
       "1               seqnames          NaN\n",
       "2                  start          NaN\n",
       "17    X9970497093_R05C01          3.0\n",
       "18    X9970497093_R06C01          3.0\n",
       "19    X9970497093_R01C02          3.0\n",
       "...                  ...          ...\n",
       "1262            X6287.T1          2.0\n",
       "1263           X6261.N1a          0.0\n",
       "1264           X6261.T1a          4.0\n",
       "1265            X7044.T1          4.0\n",
       "1266            X7168.T1          4.0\n",
       "\n",
       "[1230 rows x 2 columns]"
      ]
     },
     "execution_count": 89,
     "metadata": {},
     "output_type": "execute_result"
    },
    {
     "name": "stderr",
     "output_type": "stream",
     "text": [
      "/home/in268/.local/lib/python3.7/site-packages/ipykernel_launcher.py:4: SettingWithCopyWarning: \n",
      "A value is trying to be set on a copy of a slice from a DataFrame.\n",
      "Try using .loc[row_indexer,col_indexer] = value instead\n",
      "\n",
      "See the caveats in the documentation: https://pandas.pydata.org/pandas-docs/stable/user_guide/indexing.html#returning-a-view-versus-a-copy\n",
      "  after removing the cwd from sys.path.\n",
      "/home/in268/.local/lib/python3.7/site-packages/ipykernel_launcher.py:6: SettingWithCopyWarning: \n",
      "A value is trying to be set on a copy of a slice from a DataFrame.\n",
      "Try using .loc[row_indexer,col_indexer] = value instead\n",
      "\n",
      "See the caveats in the documentation: https://pandas.pydata.org/pandas-docs/stable/user_guide/indexing.html#returning-a-view-versus-a-copy\n",
      "  \n",
      "/home/in268/.local/lib/python3.7/site-packages/ipykernel_launcher.py:7: SettingWithCopyWarning: \n",
      "A value is trying to be set on a copy of a slice from a DataFrame.\n",
      "Try using .loc[row_indexer,col_indexer] = value instead\n",
      "\n",
      "See the caveats in the documentation: https://pandas.pydata.org/pandas-docs/stable/user_guide/indexing.html#returning-a-view-versus-a-copy\n",
      "  import sys\n",
      "/home/in268/.local/lib/python3.7/site-packages/ipykernel_launcher.py:9: SettingWithCopyWarning: \n",
      "A value is trying to be set on a copy of a slice from a DataFrame.\n",
      "Try using .loc[row_indexer,col_indexer] = value instead\n",
      "\n",
      "See the caveats in the documentation: https://pandas.pydata.org/pandas-docs/stable/user_guide/indexing.html#returning-a-view-versus-a-copy\n",
      "  if __name__ == '__main__':\n",
      "/home/in268/.local/lib/python3.7/site-packages/ipykernel_launcher.py:10: SettingWithCopyWarning: \n",
      "A value is trying to be set on a copy of a slice from a DataFrame.\n",
      "Try using .loc[row_indexer,col_indexer] = value instead\n",
      "\n",
      "See the caveats in the documentation: https://pandas.pydata.org/pandas-docs/stable/user_guide/indexing.html#returning-a-view-versus-a-copy\n",
      "  # Remove the CWD from sys.path while we load stuff.\n"
     ]
    },
    {
     "data": {
      "text/html": [
       "<div>\n",
       "<style scoped>\n",
       "    .dataframe tbody tr th:only-of-type {\n",
       "        vertical-align: middle;\n",
       "    }\n",
       "\n",
       "    .dataframe tbody tr th {\n",
       "        vertical-align: top;\n",
       "    }\n",
       "\n",
       "    .dataframe thead th {\n",
       "        text-align: right;\n",
       "    }\n",
       "</style>\n",
       "<table border=\"1\" class=\"dataframe\">\n",
       "  <thead>\n",
       "    <tr style=\"text-align: right;\">\n",
       "      <th></th>\n",
       "      <th>colname</th>\n",
       "      <th>overallpath</th>\n",
       "      <th>pooled_labels</th>\n",
       "      <th>is_TCGA</th>\n",
       "      <th>is_EPIC</th>\n",
       "      <th>predictions</th>\n",
       "      <th>correct</th>\n",
       "    </tr>\n",
       "  </thead>\n",
       "  <tbody>\n",
       "    <tr>\n",
       "      <th>17</th>\n",
       "      <td>X9970497093_R05C01</td>\n",
       "      <td>3.0</td>\n",
       "      <td>3.0</td>\n",
       "      <td>False</td>\n",
       "      <td>False</td>\n",
       "      <td>3.0</td>\n",
       "      <td>True</td>\n",
       "    </tr>\n",
       "    <tr>\n",
       "      <th>18</th>\n",
       "      <td>X9970497093_R06C01</td>\n",
       "      <td>3.0</td>\n",
       "      <td>3.0</td>\n",
       "      <td>False</td>\n",
       "      <td>False</td>\n",
       "      <td>3.0</td>\n",
       "      <td>True</td>\n",
       "    </tr>\n",
       "    <tr>\n",
       "      <th>19</th>\n",
       "      <td>X9970497093_R01C02</td>\n",
       "      <td>3.0</td>\n",
       "      <td>3.0</td>\n",
       "      <td>False</td>\n",
       "      <td>False</td>\n",
       "      <td>3.0</td>\n",
       "      <td>True</td>\n",
       "    </tr>\n",
       "    <tr>\n",
       "      <th>20</th>\n",
       "      <td>X9970497093_R02C02</td>\n",
       "      <td>3.0</td>\n",
       "      <td>3.0</td>\n",
       "      <td>False</td>\n",
       "      <td>False</td>\n",
       "      <td>3.0</td>\n",
       "      <td>True</td>\n",
       "    </tr>\n",
       "    <tr>\n",
       "      <th>21</th>\n",
       "      <td>X9761749116_R03C01</td>\n",
       "      <td>3.0</td>\n",
       "      <td>3.0</td>\n",
       "      <td>False</td>\n",
       "      <td>False</td>\n",
       "      <td>3.0</td>\n",
       "      <td>True</td>\n",
       "    </tr>\n",
       "    <tr>\n",
       "      <th>...</th>\n",
       "      <td>...</td>\n",
       "      <td>...</td>\n",
       "      <td>...</td>\n",
       "      <td>...</td>\n",
       "      <td>...</td>\n",
       "      <td>...</td>\n",
       "      <td>...</td>\n",
       "    </tr>\n",
       "    <tr>\n",
       "      <th>1262</th>\n",
       "      <td>X6287.T1</td>\n",
       "      <td>2.0</td>\n",
       "      <td>2.0</td>\n",
       "      <td>False</td>\n",
       "      <td>True</td>\n",
       "      <td>1.0</td>\n",
       "      <td>False</td>\n",
       "    </tr>\n",
       "    <tr>\n",
       "      <th>1263</th>\n",
       "      <td>X6261.N1a</td>\n",
       "      <td>0.0</td>\n",
       "      <td>0.0</td>\n",
       "      <td>False</td>\n",
       "      <td>True</td>\n",
       "      <td>0.0</td>\n",
       "      <td>True</td>\n",
       "    </tr>\n",
       "    <tr>\n",
       "      <th>1264</th>\n",
       "      <td>X6261.T1a</td>\n",
       "      <td>4.0</td>\n",
       "      <td>4.0</td>\n",
       "      <td>False</td>\n",
       "      <td>True</td>\n",
       "      <td>2.0</td>\n",
       "      <td>False</td>\n",
       "    </tr>\n",
       "    <tr>\n",
       "      <th>1265</th>\n",
       "      <td>X7044.T1</td>\n",
       "      <td>4.0</td>\n",
       "      <td>4.0</td>\n",
       "      <td>False</td>\n",
       "      <td>True</td>\n",
       "      <td>4.0</td>\n",
       "      <td>True</td>\n",
       "    </tr>\n",
       "    <tr>\n",
       "      <th>1266</th>\n",
       "      <td>X7168.T1</td>\n",
       "      <td>4.0</td>\n",
       "      <td>4.0</td>\n",
       "      <td>False</td>\n",
       "      <td>True</td>\n",
       "      <td>2.0</td>\n",
       "      <td>False</td>\n",
       "    </tr>\n",
       "  </tbody>\n",
       "</table>\n",
       "<p>1228 rows × 7 columns</p>\n",
       "</div>"
      ],
      "text/plain": [
       "                 colname  overallpath  pooled_labels  is_TCGA  is_EPIC  \\\n",
       "17    X9970497093_R05C01          3.0            3.0    False    False   \n",
       "18    X9970497093_R06C01          3.0            3.0    False    False   \n",
       "19    X9970497093_R01C02          3.0            3.0    False    False   \n",
       "20    X9970497093_R02C02          3.0            3.0    False    False   \n",
       "21    X9761749116_R03C01          3.0            3.0    False    False   \n",
       "...                  ...          ...            ...      ...      ...   \n",
       "1262            X6287.T1          2.0            2.0    False     True   \n",
       "1263           X6261.N1a          0.0            0.0    False     True   \n",
       "1264           X6261.T1a          4.0            4.0    False     True   \n",
       "1265            X7044.T1          4.0            4.0    False     True   \n",
       "1266            X7168.T1          4.0            4.0    False     True   \n",
       "\n",
       "      predictions  correct  \n",
       "17            3.0     True  \n",
       "18            3.0     True  \n",
       "19            3.0     True  \n",
       "20            3.0     True  \n",
       "21            3.0     True  \n",
       "...           ...      ...  \n",
       "1262          1.0    False  \n",
       "1263          0.0     True  \n",
       "1264          2.0    False  \n",
       "1265          4.0     True  \n",
       "1266          2.0    False  \n",
       "\n",
       "[1228 rows x 7 columns]"
      ]
     },
     "execution_count": 89,
     "metadata": {},
     "output_type": "execute_result"
    },
    {
     "data": {
      "text/plain": [
       "1179"
      ]
     },
     "execution_count": 89,
     "metadata": {},
     "output_type": "execute_result"
    },
    {
     "data": {
      "text/plain": [
       "49"
      ]
     },
     "execution_count": 89,
     "metadata": {},
     "output_type": "execute_result"
    },
    {
     "data": {
      "text/plain": [
       "[312, 462, 93, 58, 303]"
      ]
     },
     "execution_count": 89,
     "metadata": {},
     "output_type": "execute_result"
    }
   ],
   "source": [
    "diagnoses = pd.read_csv('data/training_testing_diagnoses_maxgap_50_newdata.csv', sep = ',')\n",
    "diagnoses\n",
    "diagnoses = diagnoses.iloc[2:, ]\n",
    "diagnoses['pooled_labels'] = np.array([4 if d == 5 else d for d in diagnoses['overallpath']])\n",
    "\n",
    "diagnoses['is_TCGA'] = diagnoses['colname'].str.contains('TCGA')\n",
    "diagnoses['is_EPIC'] = np.logical_not(diagnoses['colname'].str.contains('TCGA|R'))\n",
    "\n",
    "diagnoses['predictions'] = np.loadtxt('figs_xgboost/all_test_predictions')\n",
    "diagnoses['correct'] = diagnoses['predictions'] == diagnoses['pooled_labels']\n",
    "diagnoses\n",
    "\n",
    "diagnoses['correct'].sum()\n",
    "np.logical_not(diagnoses['correct']).sum()\n",
    "\n",
    "[(diagnoses['pooled_labels'] == i).sum() for i in range(5)]\n",
    "\n",
    "\n",
    "# incorrect EPICs:\n",
    "incorrect_EPICs = diagnoses[(diagnoses['is_EPIC'] == True) & (diagnoses['correct'] == False)]\n",
    "\n",
    "# incorrect TCGAs: (I have looked and no Chopras seem to be incorrect)\n",
    "incorrect_TCGAs = diagnoses[(diagnoses['is_EPIC'] == False) & (diagnoses['correct'] == False)]\n",
    "\n",
    "# save\n",
    "incorrect_EPICs.to_csv('figs_xgboost/incorrectly_predicted_EPIC_samples.csv', index = False)\n",
    "incorrect_TCGAs.to_csv('figs_xgboost/incorrectly_predicted_TCGA_samples.csv', index = False)"
   ]
  },
  {
   "cell_type": "markdown",
   "metadata": {},
   "source": [
    "### Plot ROC curves"
   ]
  },
  {
   "cell_type": "code",
   "execution_count": 486,
   "metadata": {},
   "outputs": [
    {
     "data": {
      "text/plain": [
       "<module 'Evaluate' from '/Tank/kidney_methylation_classification/Evaluate.py'>"
      ]
     },
     "execution_count": 486,
     "metadata": {},
     "output_type": "execute_result"
    },
    {
     "name": "stdout",
     "output_type": "stream",
     "text": [
      "(319, 158670)\n",
      "Testing accuracy: 0.9592476489028213\n"
     ]
    },
    {
     "data": {
      "text/plain": [
       "13"
      ]
     },
     "execution_count": 486,
     "metadata": {},
     "output_type": "execute_result"
    },
    {
     "name": "stdout",
     "output_type": "stream",
     "text": [
      "(302, 158670)\n",
      "Testing accuracy: 0.9701986754966887\n"
     ]
    },
    {
     "data": {
      "text/plain": [
       "9"
      ]
     },
     "execution_count": 486,
     "metadata": {},
     "output_type": "execute_result"
    },
    {
     "name": "stdout",
     "output_type": "stream",
     "text": [
      "(310, 158670)\n",
      "Testing accuracy: 0.9516129032258065\n"
     ]
    },
    {
     "data": {
      "text/plain": [
       "15"
      ]
     },
     "execution_count": 486,
     "metadata": {},
     "output_type": "execute_result"
    },
    {
     "name": "stdout",
     "output_type": "stream",
     "text": [
      "(297, 158670)\n",
      "Testing accuracy: 0.9595959595959596\n"
     ]
    },
    {
     "data": {
      "text/plain": [
       "12"
      ]
     },
     "execution_count": 486,
     "metadata": {},
     "output_type": "execute_result"
    },
    {
     "data": {
      "image/png": "[encoded data removed]",
      "text/plain": [
       "<Figure size 432x288 with 1 Axes>"
      ]
     },
     "metadata": {},
     "output_type": "display_data"
    }
   ],
   "source": [
    "import importlib\n",
    "import Evaluate\n",
    "importlib.reload(Evaluate) \n",
    "\n",
    "# re-plotting ROC curves\n",
    "\n",
    "from Evaluate import plot_curve\n",
    "\n",
    "\n",
    "for i in range(4):\n",
    "    test_indices = test_indices_list[i] # all indices except test indices\n",
    "    test_data = data[test_indices, :]\n",
    "    print(test_data.shape)\n",
    "    preds = models[i].predict(test_data)\n",
    "    probs = models[i].predict_proba(test_data)\n",
    "    y_true = pooled_labels[test_indices]\n",
    "\n",
    "    print('Testing accuracy:', np.mean(preds == y_true))\n",
    "    sum(preds != y_true)\n",
    "    classes = ['normal','ccRCC', 'chRCC', 'oncocytoma', 'pRCC']\n",
    "\n",
    "\n",
    "    colours = [\"#56B4E9\", \"#007d5b\", \"#000000\", \"#D55E00\", \"#CCBB44\"]\n",
    "    # colour scheme inspired from: https://zenodo.org/record/3381072#.YKPvCZNKjFp\n",
    "\n",
    "\n",
    "    roc_auc = plot_curve('roc', y_true, probs, len(classes), classes, colours, str(i), save_folder = 'figs_xgboost/figs/')\n"
   ]
  },
  {
   "cell_type": "markdown",
   "metadata": {},
   "source": [
    "### Plot PR curves"
   ]
  },
  {
   "cell_type": "code",
   "execution_count": 482,
   "metadata": {
    "scrolled": true
   },
   "outputs": [
    {
     "data": {
      "text/plain": [
       "<module 'Evaluate' from '/Tank/kidney_methylation_classification/Evaluate.py'>"
      ]
     },
     "execution_count": 482,
     "metadata": {},
     "output_type": "execute_result"
    },
    {
     "name": "stdout",
     "output_type": "stream",
     "text": [
      "(319, 158670)\n",
      "Testing accuracy: 0.9592476489028213\n"
     ]
    },
    {
     "data": {
      "text/plain": [
       "13"
      ]
     },
     "execution_count": 482,
     "metadata": {},
     "output_type": "execute_result"
    },
    {
     "name": "stdout",
     "output_type": "stream",
     "text": [
      "(302, 158670)\n",
      "Testing accuracy: 0.9701986754966887\n"
     ]
    },
    {
     "data": {
      "text/plain": [
       "9"
      ]
     },
     "execution_count": 482,
     "metadata": {},
     "output_type": "execute_result"
    },
    {
     "name": "stdout",
     "output_type": "stream",
     "text": [
      "(310, 158670)\n",
      "Testing accuracy: 0.9516129032258065\n"
     ]
    },
    {
     "data": {
      "text/plain": [
       "15"
      ]
     },
     "execution_count": 482,
     "metadata": {},
     "output_type": "execute_result"
    },
    {
     "name": "stdout",
     "output_type": "stream",
     "text": [
      "(297, 158670)\n",
      "Testing accuracy: 0.9595959595959596\n"
     ]
    },
    {
     "data": {
      "text/plain": [
       "12"
      ]
     },
     "execution_count": 482,
     "metadata": {},
     "output_type": "execute_result"
    },
    {
     "data": {
      "image/png": "[encoded data removed]",
      "text/plain": [
       "<Figure size 432x288 with 1 Axes>"
      ]
     },
     "metadata": {},
     "output_type": "display_data"
    }
   ],
   "source": [
    "import importlib\n",
    "import Evaluate\n",
    "importlib.reload(Evaluate) \n",
    "\n",
    "# re-plotting ROC curves\n",
    "\n",
    "from Evaluate import plot_curve\n",
    "\n",
    "\n",
    "for i in range(4):\n",
    "    test_indices = test_indices_list[i] # all indices except test indices\n",
    "    test_data = data[test_indices, :]\n",
    "    print(test_data.shape)\n",
    "    preds = models[i].predict(test_data)\n",
    "    probs = models[i].predict_proba(test_data)\n",
    "    y_true = pooled_labels[test_indices]\n",
    "\n",
    "    print('Testing accuracy:', np.mean(preds == y_true))\n",
    "    sum(preds != y_true)\n",
    "    classes = ['normal','ccRCC', 'chRCC', 'oncocytoma', 'pRCC']\n",
    "    \n",
    "    colours = [\"#56B4E9\", \"#007d5b\", \"#000000\", \"#D55E00\", \"#CCBB44\"]\n",
    "    # colour scheme inspired from: https://zenodo.org/record/3381072#.YKPvCZNKjFp\n",
    "\n",
    "\n",
    "    roc_auc = plot_curve('precision_recall', y_true, probs, len(classes), classes, colours, str(i), save_folder = 'figs_xgboost/figs/')\n",
    "\n"
   ]
  },
  {
   "cell_type": "code",
   "execution_count": null,
   "metadata": {},
   "outputs": [],
   "source": []
  }
 ],
 "metadata": {
  "kernelspec": {
   "display_name": "Python 3",
   "language": "python",
   "name": "python3"
  },
  "language_info": {
   "codemirror_mode": {
    "name": "ipython",
    "version": 3
   },
   "file_extension": ".py",
   "mimetype": "text/x-python",
   "name": "python",
   "nbconvert_exporter": "python",
   "pygments_lexer": "ipython3",
   "version": "3.7.7"
  }
 },
 "nbformat": 4,
 "nbformat_minor": 2
}
